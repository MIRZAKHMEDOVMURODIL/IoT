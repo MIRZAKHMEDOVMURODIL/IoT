{
 "cells": [
  {
   "cell_type": "code",
   "execution_count": null,
   "metadata": {},
   "outputs": [],
   "source": [
    "import json\n",
    "import logging\n",
    "from ftplib import FTP\n",
    "import os\n",
    "import time\n",
    "from datetime import timedelta\n",
    "import datetime as dt\n",
    "from datetime import datetime\n",
    "from logging.handlers import RotatingFileHandler\n",
    "from os.path import join\n"
   ]
  },
  {
   "cell_type": "code",
   "execution_count": null,
   "metadata": {},
   "outputs": [],
   "source": [
    "# 1.Get JSON Variable********************************************************************************************\n",
    "\n",
    "json_path = r'C:\\Users\\00220401626\\Desktop\\プログラム\\Mount\\config.json'\n",
    "\n",
    "try:   \n",
    "    with open(json_path) as json_file:\n",
    "        config = json.load(json_file)\n",
    "\n",
    "    host = config['host']\n",
    "    username = config['username']\n",
    "    password = config['password']\n",
    "    remote_folder = config['remote_folder']\n",
    "    local_folder = config['local_folder']\n",
    "    log = config['log_path']\n",
    "    days = config['days']\n",
    "    last_time = config['last_time']\n",
    "    # last_time = dt.strptime(last_time, '%Y/%m/%d %H:%M:%S')\n",
    "\n",
    "except Exception as e:\n",
    "    logging.info(f\"Error: {e}\")\n"
   ]
  },
  {
   "cell_type": "code",
   "execution_count": null,
   "metadata": {},
   "outputs": [],
   "source": [
    "# 2.Logging Configuration*****************************************************************************************\n",
    "\n",
    "try:\n",
    "    if not os.path.exists(log):\n",
    "        os.makedirs(log, exist_ok=True)\n",
    "\n",
    "    dt_st = datetime.now()\n",
    "    log_path = join(log, f\"debug_{dt_st.strftime('%Y%m%d')}.log\")\n",
    "    log_formatter = logging.Formatter('%(asctime)s [%(levelname)s]: %(message)s', datefmt='%Y-%m-%d %H:%M:%S')\n",
    "    log_handler = RotatingFileHandler(filename=log_path, maxBytes=1048576, backupCount=10, delay=True)\n",
    "    log_handler.setFormatter(log_formatter)\n",
    "    logger = logging.getLogger()\n",
    "    logger.setLevel(logging.INFO)\n",
    "    logger.addHandler(log_handler)\n",
    "    logging.info(\"Logging Configuration\")\n",
    "\n",
    "except Exception as e:\n",
    "    logging.error(f\"An error occurred while setting up logging:\", e)\n"
   ]
  },
  {
   "cell_type": "code",
   "execution_count": null,
   "metadata": {},
   "outputs": [],
   "source": [
    "# 3.Update_JSON****************************************************************************************************\n",
    "def update_json_last_time(new_time):\n",
    "    try:\n",
    "        config['last_time'] = new_time\n",
    "        json_data = json.dumps(config, indent=2)\n",
    "\n",
    "        with open(json_path, 'w') as output_file:\n",
    "            output_file.write(json_data)\n",
    "    except Exception as e:\n",
    "        print(\"An error occurred:\", e)"
   ]
  },
  {
   "cell_type": "code",
   "execution_count": null,
   "metadata": {},
   "outputs": [],
   "source": [
    "# 4.Delete_Old_Logs************************************************************************************************\n",
    "def delete_old_logs(log, days):\n",
    "\n",
    "    period_time = datetime.now() - timedelta(days=days)\n",
    "\n",
    "    for filename in os.listdir(log):\n",
    "        filepath = os.path.join(log, filename)\n",
    "        if os.path.isfile(filepath) and datetime.fromtimestamp(os.path.getctime(filepath)) < period_time:\n",
    "            try:\n",
    "                os.remove(filepath)\n",
    "                logging.info(f\"Deleted log file: {filepath}\")\n",
    "            except Exception as e:\n",
    "                logging.error(f\"Error deleting file: {filepath} - {e}\")   "
   ]
  },
  {
   "cell_type": "code",
   "execution_count": null,
   "metadata": {},
   "outputs": [],
   "source": [
    "# 5.Download Ftp Folder to Local ***********************************************************************************\n",
    "def download_ftp_files(host, username, password, remote_folder, local_folder, last_time):\n",
    "    ftp = FTP(host)\n",
    "    ftp.login(username, password)\n",
    "    ftp.cwd(remote_folder)\n",
    "    \n",
    "    files = ftp.mlsd()\n",
    "    if files:\n",
    "        new_time = ''\n",
    "        for file, meta in files:\n",
    "            modified_time = datetime.strptime(meta['modify'], \"%Y%m%d%H%M%S\")\n",
    "            if modified_time > last_time:\n",
    "                local_file_path = os.path.join(local_folder, file)\n",
    "                with open(local_file_path, 'wb') as local_file:\n",
    "                    ftp.retrbinary(file, local_file.write)\n",
    "                new_time = modified_time\n",
    "        update_json_last_time(new_time) \n",
    "        logging.info(f'Last modified time is {new_time}')  \n",
    "    else:\n",
    "        logging.info('There are no new files to update')\n",
    "        \n",
    "    ftp.quit()"
   ]
  },
  {
   "cell_type": "code",
   "execution_count": null,
   "metadata": {},
   "outputs": [],
   "source": [
    "def download_ftp_files(host, username, password, remote_folder, local_folder, last_time):\n",
    "    try:\n",
    "        ftp = FTP(host)\n",
    "        ftp.login(username, password)\n",
    "        ftp.cwd(remote_folder)\n",
    "\n",
    "        files = ftp.mlsd()\n",
    "        if files:\n",
    "            new_time = ''\n",
    "            for file, meta in files:\n",
    "                modified_time = datetime.strptime(meta['modify'], \"%Y%m%d%H%M%S\")\n",
    "                if modified_time > last_time:\n",
    "                    local_file_path = os.path.join(local_folder, file)\n",
    "                    with open(local_file_path, 'wb') as local_file:\n",
    "                        ftp.retrbinary('RETR ' + file, local_file.write)\n",
    "                    logging.info(f\"Downloaded file: {file}\")\n",
    "                    new_time = modified_time\n",
    "            update_json_last_time(new_time) \n",
    "            logging.info(f'Last modified time is {new_time}')\n",
    "        else:\n",
    "            logging.info('There are no new files to update')\n",
    "\n",
    "    except Exception as e:\n",
    "        logging.exception(f\"An error occurred: {e}\")\n",
    "\n",
    "    finally:\n",
    "        ftp.quit()\n",
    "\n",
    "# download_ftp_files('ftp.example.com', 'username', 'password', '/remote_folder', '/local_folder', last_time=datetime(2024, 5, 16, 12, 0, 0))\n"
   ]
  },
  {
   "cell_type": "code",
   "execution_count": null,
   "metadata": {},
   "outputs": [],
   "source": [
    "import os \n",
    "pathl= r'c:\\Users\\00220401626\\Desktop\\source'\n",
    "\n",
    "for i in range(1, 1000):\n",
    "    filename = f\"log_{i}.csv\"\n",
    "    with open(os.path.join(pathl, filename), \"w\") as f:\n",
    "        f.write(f\"This is log file {i}\")"
   ]
  },
  {
   "cell_type": "code",
   "execution_count": null,
   "metadata": {},
   "outputs": [],
   "source": [
    "import os\n",
    "import shutil\n",
    "\n",
    "source = r'c:\\Users\\00220401626\\Desktop\\source'\n",
    "destination =r'c:\\Users\\00220401626\\Desktop\\destination'\n",
    "for filename in os.listdir(source):\n",
    "    source_file_path = os.path.join(source, filename)\n",
    "    if os.path.isfile(source_file_path):\n",
    "        shutil.move(source_file_path, destination)"
   ]
  },
  {
   "cell_type": "code",
   "execution_count": 1,
   "metadata": {},
   "outputs": [],
   "source": [
    "import os\n",
    "import shutil\n",
    "\n",
    "source = r'c:\\Users\\00220401626\\Desktop\\source'\n",
    "destination = r'c:\\Users\\00220401626\\Desktop\\destination'\n",
    "\n",
    "if not os.path.exists(destination):\n",
    "    os.makedirs(destination)\n",
    "\n",
    "for filename in os.listdir(source):\n",
    "    source_file_path = os.path.join(source, filename)\n",
    "    destination_file_path = os.path.join(destination, filename)\n",
    "    \n",
    "    if os.path.exists(destination_file_path):\n",
    "        base, ext = os.path.splitext(filename)\n",
    "        new_filename = f\"{base}_copy{ext}\"\n",
    "        destination_file_path = os.path.join(destination, new_filename)\n",
    "    \n",
    "    shutil.move(source_file_path, destination_file_path)\n",
    "\n",
    "print(\"Files moved successfully.\")\n"
   ]
  },
  {
   "cell_type": "code",
   "execution_count": 3,
   "metadata": {},
   "outputs": [
    {
     "ename": "PermissionError",
     "evalue": "[WinError 5] アクセスが拒否されました。: 'c:\\\\Users\\\\00220401626\\\\Desktop\\\\destination'",
     "output_type": "error",
     "traceback": [
      "\u001b[1;31m---------------------------------------------------------------------------\u001b[0m",
      "\u001b[1;31mPermissionError\u001b[0m                           Traceback (most recent call last)",
      "Input \u001b[1;32mIn [3]\u001b[0m, in \u001b[0;36m<cell line: 7>\u001b[1;34m()\u001b[0m\n\u001b[0;32m      3\u001b[0m source \u001b[38;5;241m=\u001b[39m \u001b[38;5;124mr\u001b[39m\u001b[38;5;124m'\u001b[39m\u001b[38;5;124mc:\u001b[39m\u001b[38;5;124m\\\u001b[39m\u001b[38;5;124mUsers\u001b[39m\u001b[38;5;124m\\\u001b[39m\u001b[38;5;124m00220401626\u001b[39m\u001b[38;5;124m\\\u001b[39m\u001b[38;5;124mDesktop\u001b[39m\u001b[38;5;124m\\\u001b[39m\u001b[38;5;124msource\u001b[39m\u001b[38;5;124m'\u001b[39m\n\u001b[0;32m      4\u001b[0m destination \u001b[38;5;241m=\u001b[39m \u001b[38;5;124mr\u001b[39m\u001b[38;5;124m'\u001b[39m\u001b[38;5;124mc:\u001b[39m\u001b[38;5;124m\\\u001b[39m\u001b[38;5;124mUsers\u001b[39m\u001b[38;5;124m\\\u001b[39m\u001b[38;5;124m00220401626\u001b[39m\u001b[38;5;124m\\\u001b[39m\u001b[38;5;124mDesktop\u001b[39m\u001b[38;5;124m\\\u001b[39m\u001b[38;5;124mdestination\u001b[39m\u001b[38;5;124m'\u001b[39m\n\u001b[1;32m----> 7\u001b[0m \u001b[43mos\u001b[49m\u001b[38;5;241;43m.\u001b[39;49m\u001b[43mremove\u001b[49m\u001b[43m(\u001b[49m\u001b[43mdestination\u001b[49m\u001b[43m)\u001b[49m\n",
      "\u001b[1;31mPermissionError\u001b[0m: [WinError 5] アクセスが拒否されました。: 'c:\\\\Users\\\\00220401626\\\\Desktop\\\\destination'"
     ]
    }
   ],
   "source": [
    "import os \n",
    "\n",
    "source = r'c:\\Users\\00220401626\\Desktop\\source'\n",
    "destination = r'c:\\Users\\00220401626\\Desktop\\destination'\n",
    "\n",
    "\n",
    "os.remove(destination)"
   ]
  },
  {
   "cell_type": "code",
   "execution_count": null,
   "metadata": {},
   "outputs": [],
   "source": []
  }
 ],
 "metadata": {
  "kernelspec": {
   "display_name": "Python 3",
   "language": "python",
   "name": "python3"
  },
  "language_info": {
   "codemirror_mode": {
    "name": "ipython",
    "version": 3
   },
   "file_extension": ".py",
   "mimetype": "text/x-python",
   "name": "python",
   "nbconvert_exporter": "python",
   "pygments_lexer": "ipython3",
   "version": "3.10.1"
  }
 },
 "nbformat": 4,
 "nbformat_minor": 2
}
