{
 "cells": [
  {
   "cell_type": "code",
   "execution_count": 20,
   "id": "8809bfdd-1883-4d37-a41d-e1eca3b48b34",
   "metadata": {},
   "outputs": [],
   "source": [
    "from sklearn.ensemble import  RandomForestClassifier\n",
    "from sklearn.model_selection import GridSearchCV, train_test_split, KFold\n",
    "from sklearn.pipeline import Pipeline\n",
    "from sklearn.preprocessing import MinMaxScaler\n",
    "from sklearn.metrics import mean_absolute_error, mean_squared_error, r2_score\n",
    "import numpy as np\n",
    "import pandas as pd\n",
    "import matplotlib.pyplot as plt\n",
    "from sklearn.model_selection import train_test_split\n",
    "from sklearn.preprocessing import LabelEncoder\n",
    "from sklearn.metrics import confusion_matrix, classification_report,accuracy_score\n",
    "import matplotlib.pyplot as plt\n",
    "import seaborn as sns\n"
   ]
  },
  {
   "cell_type": "code",
   "execution_count": 21,
   "id": "43350183-10e9-406f-930f-2aff2cf82894",
   "metadata": {},
   "outputs": [
    {
     "data": {
      "text/plain": [
       "Index(['uid', 'ファイル名', 'lotno', 'No', 'ナンバリング', 'FLAG', 'DATETIME_S',\n",
       "       'DATETIME_E', '円錐角度_測定値', '円錐角度_誤差値', '誤差値(度)', '測定値(度)', '直径_測定値',\n",
       "       '直径_誤差値', '補正値'],\n",
       "      dtype='object')"
      ]
     },
     "execution_count": 21,
     "metadata": {},
     "output_type": "execute_result"
    }
   ],
   "source": [
    "a=pd.read_excel(r\"C:\\Users\\00220401626\\Desktop\\2300181-000AI用直径有り.xlsx\")\n",
    "b=pd.read_excel(r\"C:\\Users\\00220401626\\Desktop\\2300002-000AI用直径有り.xlsx\")\n",
    "c=pd.read_excel(r\"C:\\Users\\00220401626\\Desktop\\2217034-000AI用直径有り.xlsx\")\n",
    "\n",
    "f=pd.concat([a,b,c])\n",
    "f.columns"
   ]
  },
  {
   "cell_type": "code",
   "execution_count": 22,
   "id": "fd3592cf-55cd-4783-b1ad-439651005fcc",
   "metadata": {},
   "outputs": [],
   "source": [
    "f.drop(['円錐角度_測定値', '円錐角度_誤差値','uid', 'ファイル名', 'lotno', 'No', 'ナンバリング', 'FLAG', 'DATETIME_S','DATETIME_E'],axis=1, inplace=True)"
   ]
  },
  {
   "cell_type": "code",
   "execution_count": 23,
   "id": "7940d64b-60f4-4c41-b991-355f6c7ccff3",
   "metadata": {},
   "outputs": [
    {
     "data": {
      "text/html": [
       "<div>\n",
       "<style scoped>\n",
       "    .dataframe tbody tr th:only-of-type {\n",
       "        vertical-align: middle;\n",
       "    }\n",
       "\n",
       "    .dataframe tbody tr th {\n",
       "        vertical-align: top;\n",
       "    }\n",
       "\n",
       "    .dataframe thead th {\n",
       "        text-align: right;\n",
       "    }\n",
       "</style>\n",
       "<table border=\"1\" class=\"dataframe\">\n",
       "  <thead>\n",
       "    <tr style=\"text-align: right;\">\n",
       "      <th></th>\n",
       "      <th>誤差値(度)</th>\n",
       "      <th>測定値(度)</th>\n",
       "      <th>直径_測定値</th>\n",
       "      <th>直径_誤差値</th>\n",
       "      <th>補正値</th>\n",
       "    </tr>\n",
       "  </thead>\n",
       "  <tbody>\n",
       "    <tr>\n",
       "      <th>0</th>\n",
       "      <td>NaN</td>\n",
       "      <td>NaN</td>\n",
       "      <td>NaN</td>\n",
       "      <td>NaN</td>\n",
       "      <td>0.200</td>\n",
       "    </tr>\n",
       "    <tr>\n",
       "      <th>1</th>\n",
       "      <td>NaN</td>\n",
       "      <td>NaN</td>\n",
       "      <td>NaN</td>\n",
       "      <td>NaN</td>\n",
       "      <td>0.160</td>\n",
       "    </tr>\n",
       "    <tr>\n",
       "      <th>2</th>\n",
       "      <td>NaN</td>\n",
       "      <td>NaN</td>\n",
       "      <td>NaN</td>\n",
       "      <td>NaN</td>\n",
       "      <td>0.175</td>\n",
       "    </tr>\n",
       "    <tr>\n",
       "      <th>3</th>\n",
       "      <td>NaN</td>\n",
       "      <td>NaN</td>\n",
       "      <td>NaN</td>\n",
       "      <td>NaN</td>\n",
       "      <td>0.185</td>\n",
       "    </tr>\n",
       "    <tr>\n",
       "      <th>4</th>\n",
       "      <td>NaN</td>\n",
       "      <td>NaN</td>\n",
       "      <td>NaN</td>\n",
       "      <td>NaN</td>\n",
       "      <td>0.200</td>\n",
       "    </tr>\n",
       "    <tr>\n",
       "      <th>...</th>\n",
       "      <td>...</td>\n",
       "      <td>...</td>\n",
       "      <td>...</td>\n",
       "      <td>...</td>\n",
       "      <td>...</td>\n",
       "    </tr>\n",
       "    <tr>\n",
       "      <th>58</th>\n",
       "      <td>-0.004444</td>\n",
       "      <td>5.762222</td>\n",
       "      <td>12.7254</td>\n",
       "      <td>-0.0046</td>\n",
       "      <td>0.135</td>\n",
       "    </tr>\n",
       "    <tr>\n",
       "      <th>59</th>\n",
       "      <td>-0.006389</td>\n",
       "      <td>5.760278</td>\n",
       "      <td>12.7374</td>\n",
       "      <td>0.0074</td>\n",
       "      <td>0.135</td>\n",
       "    </tr>\n",
       "    <tr>\n",
       "      <th>60</th>\n",
       "      <td>0.007222</td>\n",
       "      <td>5.773889</td>\n",
       "      <td>12.7463</td>\n",
       "      <td>0.0163</td>\n",
       "      <td>0.135</td>\n",
       "    </tr>\n",
       "    <tr>\n",
       "      <th>61</th>\n",
       "      <td>0.009722</td>\n",
       "      <td>5.776389</td>\n",
       "      <td>12.7464</td>\n",
       "      <td>0.0164</td>\n",
       "      <td>0.135</td>\n",
       "    </tr>\n",
       "    <tr>\n",
       "      <th>62</th>\n",
       "      <td>0.000556</td>\n",
       "      <td>5.767222</td>\n",
       "      <td>12.7286</td>\n",
       "      <td>-0.0014</td>\n",
       "      <td>0.135</td>\n",
       "    </tr>\n",
       "  </tbody>\n",
       "</table>\n",
       "<p>181 rows × 5 columns</p>\n",
       "</div>"
      ],
      "text/plain": [
       "      誤差値(度)    測定値(度)   直径_測定値  直径_誤差値    補正値\n",
       "0        NaN       NaN      NaN     NaN  0.200\n",
       "1        NaN       NaN      NaN     NaN  0.160\n",
       "2        NaN       NaN      NaN     NaN  0.175\n",
       "3        NaN       NaN      NaN     NaN  0.185\n",
       "4        NaN       NaN      NaN     NaN  0.200\n",
       "..       ...       ...      ...     ...    ...\n",
       "58 -0.004444  5.762222  12.7254 -0.0046  0.135\n",
       "59 -0.006389  5.760278  12.7374  0.0074  0.135\n",
       "60  0.007222  5.773889  12.7463  0.0163  0.135\n",
       "61  0.009722  5.776389  12.7464  0.0164  0.135\n",
       "62  0.000556  5.767222  12.7286 -0.0014  0.135\n",
       "\n",
       "[181 rows x 5 columns]"
      ]
     },
     "execution_count": 23,
     "metadata": {},
     "output_type": "execute_result"
    }
   ],
   "source": [
    "f"
   ]
  },
  {
   "cell_type": "code",
   "execution_count": 25,
   "id": "3f7b560e-f6ee-4bc0-8da7-fc41e7ff4490",
   "metadata": {},
   "outputs": [
    {
     "data": {
      "image/png": "[encoded data removed]",
      "text/plain": [
       "<Figure size 640x480 with 1 Axes>"
      ]
     },
     "metadata": {},
     "output_type": "display_data"
    },
    {
     "data": {
      "image/png": "[encoded data removed]",
      "text/plain": [
       "<Figure size 640x480 with 1 Axes>"
      ]
     },
     "metadata": {},
     "output_type": "display_data"
    }
   ],
   "source": [
    "import numpy as np\n",
    "import pandas as pd\n",
    "import matplotlib.pyplot as plt\n",
    "from sklearn.cluster import KMeans\n",
    "from sklearn.preprocessing import StandardScaler\n",
    "\n",
    "# Load data\n",
    "data = f\n",
    "data.dropna(inplace=True)\n",
    "# Scale data\n",
    "scaler = StandardScaler()\n",
    "scaled_data = scaler.fit_transform(data)\n",
    "\n",
    "# Visualize data before clustering\n",
    "plt.scatter(scaled_data[:, 0], scaled_data[:, 1], s=50)\n",
    "plt.show()\n",
    "\n",
    "# Cluster data\n",
    "kmeans = KMeans(n_clusters=2, random_state=0)\n",
    "kmeans.fit(scaled_data)\n",
    "\n",
    "# Predict clusters\n",
    "predicted_clusters = kmeans.predict(scaled_data)\n",
    "\n",
    "# Visualize clusters\n",
    "plt.scatter(scaled_data[:, 0], scaled_data[:, 1], c=predicted_clusters, s=50, cmap='viridis')\n",
    "centers = kmeans.cluster_centers_\n",
    "plt.scatter(centers[:, 0], centers[:, 1], c='black', s=200, alpha=0.5);\n",
    "plt.show()\n"
   ]
  }
 ],
 "metadata": {
  "kernelspec": {
   "display_name": "Python 3 (ipykernel)",
   "language": "python",
   "name": "python3"
  },
  "language_info": {
   "codemirror_mode": {
    "name": "ipython",
    "version": 3
   },
   "file_extension": ".py",
   "mimetype": "text/x-python",
   "name": "python",
   "nbconvert_exporter": "python",
   "pygments_lexer": "ipython3",
   "version": "3.9.13"
  }
 },
 "nbformat": 4,
 "nbformat_minor": 5
}
