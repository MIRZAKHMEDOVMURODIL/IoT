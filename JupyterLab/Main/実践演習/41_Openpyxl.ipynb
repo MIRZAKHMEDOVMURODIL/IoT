{
 "cells": [
  {
   "cell_type": "markdown",
   "id": "5c77d6c1-5970-4831-820f-d62272d3dfde",
   "metadata": {
    "tags": []
   },
   "source": [
    "# 主な操作\n",
    "\n",
    "- Excelファイルは主に、Pandasとopenpyxlの2つで操作する  \n",
    "- Pandas：データ操作、加工\n",
    "- openpyxl：Excelの標準規格でファイルを読み書き（計算機能はなく、数式はExcelを起動しないと実行されない）  \n",
    "参考：[Excelファイルを扱う上での openpyxl と pandas の違い](https://gammasoft.jp/blog/openpyxl-vs-pandas/)\n",
    "\n",
    "・DEの場合は下記のようなイメージ  \n",
    "　　openpyxlの関数とFor文を使い、ExcelのSheetをPandas Dataframeとして読み込み  \n",
    "　→ 読み込んだDataFrameをPandasで加工  \n",
    "　→ 完成したDataFrameをDBに入れる/Excelファイルとして出力  \n",
    "　→ Excelファイルの体裁を、openpyxlの機能を使って整える\n",
    "\n",
    "\n",
    "■Excelファイル読み込み\n",
    "```python\n",
    "# Excelファイルを読み込み、Workbookオブジェクトとして変数に格納\n",
    "wb = openpyxl.load_workbook(\"ファイルパス\")\n",
    "```\n",
    "\n",
    "■wbのシート名をリスト形式で出力\n",
    "```python\n",
    "wb.sheetnames\n",
    "# 出力：['0101', '0201', '0301']　※要素はストリング型\n",
    "```\n",
    "\n",
    "■wbのワークシートを指定\n",
    "```python\n",
    "wb.worksheets[i]\n",
    "# or\n",
    "wb.worksheets['ワークシート名']\n",
    "# 出力：[<Worksheet \"0101\">]　※要素は「openpyxl.worksheet.worksheet.Worksheet」型\n",
    "```\n",
    "\n",
    "■読み込んだすべてのExcelファイルと、すべてのExcelシートをdfに出力して加工\n",
    "```python\n",
    "for file in files:\n",
    "    for sheetname in wb.sheetnames:\n",
    "        df = pd.read_excel(file, sheet_name=sheetname)\n",
    "```\n",
    "\n",
    "■作成したDataFrameをExcelに出力（Excelは新規作成）\n",
    "```python\n",
    "df.to_excel('出力するExcelファイルパス', encoding='cp932')\n",
    "```"
   ]
  },
  {
   "cell_type": "code",
   "execution_count": 2,
   "id": "a60d28a3-df14-4ed1-9d05-a5da6753fa77",
   "metadata": {},
   "outputs": [],
   "source": [
    "import pandas as pd\n",
    "from pathlib import Path\n",
    "import shutil\n",
    "import glob\n",
    "import os\n",
    "from openpyxl.styles import Font\n",
    "from datetime import date\n",
    "import openpyxl\n"
   ]
  },
  {
   "cell_type": "code",
   "execution_count": 3,
   "id": "01203993-13c3-4c32-81c3-b3f9358f2ca0",
   "metadata": {
    "collapsed": true,
    "jupyter": {
     "outputs_hidden": true
    },
    "tags": []
   },
   "outputs": [
    {
     "name": "stdout",
     "output_type": "stream",
     "text": [
      "[WindowsPath('//10.110.0.44/everyone/m03/220301_a社.xlsx'), WindowsPath('//10.110.0.44/everyone/m03/220301_a社_all.xlsx')]\n"
     ]
    },
    {
     "data": {
      "text/html": [
       "<div>\n",
       "<style scoped>\n",
       "    .dataframe tbody tr th:only-of-type {\n",
       "        vertical-align: middle;\n",
       "    }\n",
       "\n",
       "    .dataframe tbody tr th {\n",
       "        vertical-align: top;\n",
       "    }\n",
       "\n",
       "    .dataframe thead th {\n",
       "        text-align: right;\n",
       "    }\n",
       "</style>\n",
       "<table border=\"1\" class=\"dataframe\">\n",
       "  <thead>\n",
       "    <tr style=\"text-align: right;\">\n",
       "      <th></th>\n",
       "      <th>UDATE</th>\n",
       "      <th>PARTS</th>\n",
       "      <th>CYC</th>\n",
       "    </tr>\n",
       "  </thead>\n",
       "  <tbody>\n",
       "    <tr>\n",
       "      <th>0</th>\n",
       "      <td>2021-01-01</td>\n",
       "      <td>a001</td>\n",
       "      <td>1</td>\n",
       "    </tr>\n",
       "    <tr>\n",
       "      <th>1</th>\n",
       "      <td>2021-01-01</td>\n",
       "      <td>a002</td>\n",
       "      <td>2</td>\n",
       "    </tr>\n",
       "    <tr>\n",
       "      <th>2</th>\n",
       "      <td>2021-01-01</td>\n",
       "      <td>a003</td>\n",
       "      <td>2</td>\n",
       "    </tr>\n",
       "    <tr>\n",
       "      <th>3</th>\n",
       "      <td>2021-01-01</td>\n",
       "      <td>a004</td>\n",
       "      <td>1</td>\n",
       "    </tr>\n",
       "    <tr>\n",
       "      <th>4</th>\n",
       "      <td>2021-01-01</td>\n",
       "      <td>a005</td>\n",
       "      <td>3</td>\n",
       "    </tr>\n",
       "    <tr>\n",
       "      <th>5</th>\n",
       "      <td>2021-01-01</td>\n",
       "      <td>a006</td>\n",
       "      <td>3</td>\n",
       "    </tr>\n",
       "    <tr>\n",
       "      <th>6</th>\n",
       "      <td>2021-01-01</td>\n",
       "      <td>a007</td>\n",
       "      <td>1</td>\n",
       "    </tr>\n",
       "  </tbody>\n",
       "</table>\n",
       "</div>"
      ],
      "text/plain": [
       "       UDATE PARTS  CYC\n",
       "0 2021-01-01  a001    1\n",
       "1 2021-01-01  a002    2\n",
       "2 2021-01-01  a003    2\n",
       "3 2021-01-01  a004    1\n",
       "4 2021-01-01  a005    3\n",
       "5 2021-01-01  a006    3\n",
       "6 2021-01-01  a007    1"
      ]
     },
     "metadata": {},
     "output_type": "display_data"
    }
   ],
   "source": [
    "folder_read = Path(r\"\\\\10.110.0.44\\everyone\\m03\")\n",
    "files = list(folder_read.glob(\"*\"))\n",
    "print(files)\n",
    "\n",
    "file = files[0]\n",
    "df = pd.read_excel(file, skiprows=1)\n",
    "df = df[['UDATE', 'PARTS', 'CYC']]\n",
    "df = df.dropna()\n",
    "display(df)"
   ]
  },
  {
   "cell_type": "markdown",
   "id": "8bf27279-921c-47a8-876d-9ff34bdb581a",
   "metadata": {
    "jupyter": {
     "source_hidden": true
    },
    "tags": []
   },
   "source": [
    "## 複数のシートを読み込みたい場合は、for文で回してPandasでDFに読み取る"
   ]
  },
  {
   "cell_type": "code",
   "execution_count": 4,
   "id": "8365a75e-7b23-4340-aedb-dd769c7d005e",
   "metadata": {},
   "outputs": [
    {
     "data": {
      "text/plain": [
       "['0101', '0201', '0301']"
      ]
     },
     "execution_count": 4,
     "metadata": {},
     "output_type": "execute_result"
    }
   ],
   "source": [
    "wb = openpyxl.load_workbook(file)\n",
    "wb.sheetnames"
   ]
  },
  {
   "cell_type": "code",
   "execution_count": 5,
   "id": "143a96da-45a2-4d84-8d73-6b5d848e5990",
   "metadata": {},
   "outputs": [
    {
     "data": {
      "text/plain": [
       "WindowsPath('//10.110.0.44/everyone/m03/220301_a社.xlsx')"
      ]
     },
     "execution_count": 5,
     "metadata": {},
     "output_type": "execute_result"
    }
   ],
   "source": [
    "file"
   ]
  },
  {
   "cell_type": "code",
   "execution_count": 6,
   "id": "bd8af9be-aad0-4362-8323-3f1c60e99e72",
   "metadata": {
    "collapsed": true,
    "jupyter": {
     "outputs_hidden": true
    },
    "tags": []
   },
   "outputs": [
    {
     "data": {
      "text/plain": [
       "WindowsPath('//10.110.0.44/everyone/m03/220301_a社.xlsx')"
      ]
     },
     "metadata": {},
     "output_type": "display_data"
    },
    {
     "data": {
      "text/html": [
       "<div>\n",
       "<style scoped>\n",
       "    .dataframe tbody tr th:only-of-type {\n",
       "        vertical-align: middle;\n",
       "    }\n",
       "\n",
       "    .dataframe tbody tr th {\n",
       "        vertical-align: top;\n",
       "    }\n",
       "\n",
       "    .dataframe thead th {\n",
       "        text-align: right;\n",
       "    }\n",
       "</style>\n",
       "<table border=\"1\" class=\"dataframe\">\n",
       "  <thead>\n",
       "    <tr style=\"text-align: right;\">\n",
       "      <th></th>\n",
       "      <th>UDATE</th>\n",
       "      <th>PARTS</th>\n",
       "      <th>CYC</th>\n",
       "    </tr>\n",
       "  </thead>\n",
       "  <tbody>\n",
       "    <tr>\n",
       "      <th>0</th>\n",
       "      <td>2021-01-01</td>\n",
       "      <td>a001</td>\n",
       "      <td>1</td>\n",
       "    </tr>\n",
       "    <tr>\n",
       "      <th>1</th>\n",
       "      <td>2021-01-01</td>\n",
       "      <td>a002</td>\n",
       "      <td>2</td>\n",
       "    </tr>\n",
       "    <tr>\n",
       "      <th>2</th>\n",
       "      <td>2021-01-01</td>\n",
       "      <td>a003</td>\n",
       "      <td>2</td>\n",
       "    </tr>\n",
       "    <tr>\n",
       "      <th>3</th>\n",
       "      <td>2021-01-01</td>\n",
       "      <td>a004</td>\n",
       "      <td>1</td>\n",
       "    </tr>\n",
       "    <tr>\n",
       "      <th>4</th>\n",
       "      <td>2021-01-01</td>\n",
       "      <td>a005</td>\n",
       "      <td>3</td>\n",
       "    </tr>\n",
       "    <tr>\n",
       "      <th>5</th>\n",
       "      <td>2021-01-01</td>\n",
       "      <td>a006</td>\n",
       "      <td>3</td>\n",
       "    </tr>\n",
       "    <tr>\n",
       "      <th>6</th>\n",
       "      <td>2021-01-01</td>\n",
       "      <td>a007</td>\n",
       "      <td>1</td>\n",
       "    </tr>\n",
       "  </tbody>\n",
       "</table>\n",
       "</div>"
      ],
      "text/plain": [
       "       UDATE PARTS  CYC\n",
       "0 2021-01-01  a001    1\n",
       "1 2021-01-01  a002    2\n",
       "2 2021-01-01  a003    2\n",
       "3 2021-01-01  a004    1\n",
       "4 2021-01-01  a005    3\n",
       "5 2021-01-01  a006    3\n",
       "6 2021-01-01  a007    1"
      ]
     },
     "metadata": {},
     "output_type": "display_data"
    },
    {
     "data": {
      "text/plain": [
       "WindowsPath('//10.110.0.44/everyone/m03/220301_a社.xlsx')"
      ]
     },
     "metadata": {},
     "output_type": "display_data"
    },
    {
     "data": {
      "text/html": [
       "<div>\n",
       "<style scoped>\n",
       "    .dataframe tbody tr th:only-of-type {\n",
       "        vertical-align: middle;\n",
       "    }\n",
       "\n",
       "    .dataframe tbody tr th {\n",
       "        vertical-align: top;\n",
       "    }\n",
       "\n",
       "    .dataframe thead th {\n",
       "        text-align: right;\n",
       "    }\n",
       "</style>\n",
       "<table border=\"1\" class=\"dataframe\">\n",
       "  <thead>\n",
       "    <tr style=\"text-align: right;\">\n",
       "      <th></th>\n",
       "      <th>UDATE</th>\n",
       "      <th>PARTS</th>\n",
       "      <th>CYC</th>\n",
       "    </tr>\n",
       "  </thead>\n",
       "  <tbody>\n",
       "    <tr>\n",
       "      <th>0</th>\n",
       "      <td>2021-02-01</td>\n",
       "      <td>a001</td>\n",
       "      <td>2</td>\n",
       "    </tr>\n",
       "    <tr>\n",
       "      <th>1</th>\n",
       "      <td>2021-02-01</td>\n",
       "      <td>a002</td>\n",
       "      <td>3</td>\n",
       "    </tr>\n",
       "    <tr>\n",
       "      <th>2</th>\n",
       "      <td>2021-02-01</td>\n",
       "      <td>a003</td>\n",
       "      <td>3</td>\n",
       "    </tr>\n",
       "    <tr>\n",
       "      <th>3</th>\n",
       "      <td>2021-02-01</td>\n",
       "      <td>a004</td>\n",
       "      <td>2</td>\n",
       "    </tr>\n",
       "  </tbody>\n",
       "</table>\n",
       "</div>"
      ],
      "text/plain": [
       "       UDATE PARTS  CYC\n",
       "0 2021-02-01  a001    2\n",
       "1 2021-02-01  a002    3\n",
       "2 2021-02-01  a003    3\n",
       "3 2021-02-01  a004    2"
      ]
     },
     "metadata": {},
     "output_type": "display_data"
    },
    {
     "data": {
      "text/plain": [
       "WindowsPath('//10.110.0.44/everyone/m03/220301_a社.xlsx')"
      ]
     },
     "metadata": {},
     "output_type": "display_data"
    },
    {
     "data": {
      "text/html": [
       "<div>\n",
       "<style scoped>\n",
       "    .dataframe tbody tr th:only-of-type {\n",
       "        vertical-align: middle;\n",
       "    }\n",
       "\n",
       "    .dataframe tbody tr th {\n",
       "        vertical-align: top;\n",
       "    }\n",
       "\n",
       "    .dataframe thead th {\n",
       "        text-align: right;\n",
       "    }\n",
       "</style>\n",
       "<table border=\"1\" class=\"dataframe\">\n",
       "  <thead>\n",
       "    <tr style=\"text-align: right;\">\n",
       "      <th></th>\n",
       "      <th>UDATE</th>\n",
       "      <th>PARTS</th>\n",
       "      <th>CYC</th>\n",
       "    </tr>\n",
       "  </thead>\n",
       "  <tbody>\n",
       "    <tr>\n",
       "      <th>0</th>\n",
       "      <td>2021-03-01</td>\n",
       "      <td>a001</td>\n",
       "      <td>3.0</td>\n",
       "    </tr>\n",
       "    <tr>\n",
       "      <th>1</th>\n",
       "      <td>2021-03-01</td>\n",
       "      <td>a007</td>\n",
       "      <td>2.0</td>\n",
       "    </tr>\n",
       "  </tbody>\n",
       "</table>\n",
       "</div>"
      ],
      "text/plain": [
       "       UDATE PARTS  CYC\n",
       "0 2021-03-01  a001  3.0\n",
       "1 2021-03-01  a007  2.0"
      ]
     },
     "metadata": {},
     "output_type": "display_data"
    },
    {
     "data": {
      "text/html": [
       "<div>\n",
       "<style scoped>\n",
       "    .dataframe tbody tr th:only-of-type {\n",
       "        vertical-align: middle;\n",
       "    }\n",
       "\n",
       "    .dataframe tbody tr th {\n",
       "        vertical-align: top;\n",
       "    }\n",
       "\n",
       "    .dataframe thead th {\n",
       "        text-align: right;\n",
       "    }\n",
       "</style>\n",
       "<table border=\"1\" class=\"dataframe\">\n",
       "  <thead>\n",
       "    <tr style=\"text-align: right;\">\n",
       "      <th></th>\n",
       "      <th>UDATE</th>\n",
       "      <th>PARTS</th>\n",
       "      <th>CYC</th>\n",
       "    </tr>\n",
       "  </thead>\n",
       "  <tbody>\n",
       "    <tr>\n",
       "      <th>0</th>\n",
       "      <td>2021-01-01</td>\n",
       "      <td>a001</td>\n",
       "      <td>1.0</td>\n",
       "    </tr>\n",
       "    <tr>\n",
       "      <th>1</th>\n",
       "      <td>2021-01-01</td>\n",
       "      <td>a002</td>\n",
       "      <td>2.0</td>\n",
       "    </tr>\n",
       "    <tr>\n",
       "      <th>2</th>\n",
       "      <td>2021-01-01</td>\n",
       "      <td>a003</td>\n",
       "      <td>2.0</td>\n",
       "    </tr>\n",
       "    <tr>\n",
       "      <th>3</th>\n",
       "      <td>2021-01-01</td>\n",
       "      <td>a004</td>\n",
       "      <td>1.0</td>\n",
       "    </tr>\n",
       "    <tr>\n",
       "      <th>4</th>\n",
       "      <td>2021-01-01</td>\n",
       "      <td>a005</td>\n",
       "      <td>3.0</td>\n",
       "    </tr>\n",
       "    <tr>\n",
       "      <th>5</th>\n",
       "      <td>2021-01-01</td>\n",
       "      <td>a006</td>\n",
       "      <td>3.0</td>\n",
       "    </tr>\n",
       "    <tr>\n",
       "      <th>6</th>\n",
       "      <td>2021-01-01</td>\n",
       "      <td>a007</td>\n",
       "      <td>1.0</td>\n",
       "    </tr>\n",
       "    <tr>\n",
       "      <th>7</th>\n",
       "      <td>2021-02-01</td>\n",
       "      <td>a001</td>\n",
       "      <td>2.0</td>\n",
       "    </tr>\n",
       "    <tr>\n",
       "      <th>8</th>\n",
       "      <td>2021-02-01</td>\n",
       "      <td>a002</td>\n",
       "      <td>3.0</td>\n",
       "    </tr>\n",
       "    <tr>\n",
       "      <th>9</th>\n",
       "      <td>2021-02-01</td>\n",
       "      <td>a003</td>\n",
       "      <td>3.0</td>\n",
       "    </tr>\n",
       "    <tr>\n",
       "      <th>10</th>\n",
       "      <td>2021-02-01</td>\n",
       "      <td>a004</td>\n",
       "      <td>2.0</td>\n",
       "    </tr>\n",
       "    <tr>\n",
       "      <th>11</th>\n",
       "      <td>2021-03-01</td>\n",
       "      <td>a001</td>\n",
       "      <td>3.0</td>\n",
       "    </tr>\n",
       "    <tr>\n",
       "      <th>12</th>\n",
       "      <td>2021-03-01</td>\n",
       "      <td>a007</td>\n",
       "      <td>2.0</td>\n",
       "    </tr>\n",
       "  </tbody>\n",
       "</table>\n",
       "</div>"
      ],
      "text/plain": [
       "        UDATE PARTS  CYC\n",
       "0  2021-01-01  a001  1.0\n",
       "1  2021-01-01  a002  2.0\n",
       "2  2021-01-01  a003  2.0\n",
       "3  2021-01-01  a004  1.0\n",
       "4  2021-01-01  a005  3.0\n",
       "5  2021-01-01  a006  3.0\n",
       "6  2021-01-01  a007  1.0\n",
       "7  2021-02-01  a001  2.0\n",
       "8  2021-02-01  a002  3.0\n",
       "9  2021-02-01  a003  3.0\n",
       "10 2021-02-01  a004  2.0\n",
       "11 2021-03-01  a001  3.0\n",
       "12 2021-03-01  a007  2.0"
      ]
     },
     "execution_count": 6,
     "metadata": {},
     "output_type": "execute_result"
    }
   ],
   "source": [
    "df_all = pd.DataFrame()\n",
    "\n",
    "for sn in wb.sheetnames:\n",
    "    df = pd.read_excel(file, sheet_name=sn, skiprows=1) \n",
    "    df = df[['UDATE', 'PARTS', 'CYC']]\n",
    "    df = df.dropna()\n",
    "    display(file, df)\n",
    "    df_all = df_all.append(df).reset_index(drop=True)\n",
    "\n",
    "df_all"
   ]
  },
  {
   "cell_type": "code",
   "execution_count": 7,
   "id": "dc39f615-64f4-43a9-90ab-72f1e506b404",
   "metadata": {},
   "outputs": [],
   "source": [
    "folder_write = Path(r\"./file/Excel\")\n",
    "df_all.to_excel(folder_write/\"220301_a社_all.xlsx\", encoding='cp932')"
   ]
  },
  {
   "cell_type": "code",
   "execution_count": 8,
   "id": "196fcb6e-f197-499d-ae50-84a998b4dcba",
   "metadata": {},
   "outputs": [
    {
     "name": "stdout",
     "output_type": "stream",
     "text": [
      "file\\Excel\\220301_a社_all.xlsx\n"
     ]
    }
   ],
   "source": [
    "\"\"\"作成したExcelファイル「220301_a社_all.xlsx」を見やすいように編集して上書き保存\"\"\n",
    "\n",
    "list_of_files = list(folder_write.glob(\"*\"))\n",
    "latest_file = max(list_of_files, key=os.path.getctime)\n",
    "print(latest_file)\n",
    "\n",
    "wb_edit = openpyxl.load_workbook(latest_file)\n",
    "ws_e = wb_edit.active"
   ]
  },
  {
   "cell_type": "code",
   "execution_count": 9,
   "id": "1765eedd-3db4-4814-92cc-3be4539a47e4",
   "metadata": {},
   "outputs": [],
   "source": [
    "ws_e.insert_rows(1) \n",
    "ws_e.cell(row=1, column=3).value = 'PARTS vs. CYC' \n",
    "ws_e.cell(row=1, column=3).font = Font(size=24)\n",
    "ws_e.cell(row=1, column=4).value = date.today().strftime(\"%m/%d\") \n",
    "ws_e.cell(row=1, column=4).font = Font(size=20)\n",
    "ws_e.freeze_panes = 'A3' \n",
    "wb_edit.save(latest_file)"
   ]
  },
  {
   "cell_type": "code",
   "execution_count": 10,
   "id": "a9ff2bd9-5133-4209-9bce-b34730117e85",
   "metadata": {},
   "outputs": [],
   "source": [
    "now = datetime.now()\n",
    "df_all.to_excel(folder_write/'{0:%y%m%d_%H%M}_a社_all.xlsx'.format(now), encoding='cp932')"
   ]
  },
  {
   "cell_type": "code",
   "execution_count": 12,
   "id": "f4651a7a-8c55-4d3e-b85d-5f3f1a3ce973",
   "metadata": {},
   "outputs": [
    {
     "data": {
      "text/plain": [
       "WindowsPath('file/Excel/220301_a社_all.xlsx')"
      ]
     },
     "execution_count": 12,
     "metadata": {},
     "output_type": "execute_result"
    }
   ],
   "source": [
    "file_all = latest_file\n",
    "shutil.copy(file, file_all)\n",
    "file_all"
   ]
  },
  {
   "cell_type": "code",
   "execution_count": 13,
   "id": "acef322e-9fbf-44be-b47a-0e4659156cf8",
   "metadata": {},
   "outputs": [
    {
     "data": {
      "text/plain": [
       "['0101', '0201', '0301', 'All']"
      ]
     },
     "execution_count": 13,
     "metadata": {},
     "output_type": "execute_result"
    }
   ],
   "source": [
    "wb_all = openpyxl.load_workbook(file_all)\n",
    "wb_all.copy_worksheet(wb_all.worksheets[0])\n",
    "wb_all.worksheets[-1].title = 'All' \n",
    "wb_all.sheetnames"
   ]
  },
  {
   "cell_type": "code",
   "execution_count": 14,
   "id": "7e783da0-ec68-43b7-897f-d0fc797a16e8",
   "metadata": {},
   "outputs": [],
   "source": [
    "ws_all = wb_all['All']\n",
    "\n",
    "for row in ws_all:\n",
    "    for cell in row:\n",
    "        cell.value = None"
   ]
  },
  {
   "cell_type": "code",
   "execution_count": 15,
   "id": "fda83eae-40c0-45f2-b787-65690ddfa88d",
   "metadata": {
    "collapsed": true,
    "jupyter": {
     "outputs_hidden": true
    },
    "tags": []
   },
   "outputs": [
    {
     "data": {
      "text/plain": [
       "[['UDATE', 'PARTS', 'CYC'],\n",
       " [Timestamp('2021-01-01 00:00:00'), 'a001', 1.0],\n",
       " [Timestamp('2021-01-01 00:00:00'), 'a002', 2.0],\n",
       " [Timestamp('2021-01-01 00:00:00'), 'a003', 2.0],\n",
       " [Timestamp('2021-01-01 00:00:00'), 'a004', 1.0],\n",
       " [Timestamp('2021-01-01 00:00:00'), 'a005', 3.0],\n",
       " [Timestamp('2021-01-01 00:00:00'), 'a006', 3.0],\n",
       " [Timestamp('2021-01-01 00:00:00'), 'a007', 1.0],\n",
       " [Timestamp('2021-02-01 00:00:00'), 'a001', 2.0],\n",
       " [Timestamp('2021-02-01 00:00:00'), 'a002', 3.0],\n",
       " [Timestamp('2021-02-01 00:00:00'), 'a003', 3.0],\n",
       " [Timestamp('2021-02-01 00:00:00'), 'a004', 2.0],\n",
       " [Timestamp('2021-03-01 00:00:00'), 'a001', 3.0],\n",
       " [Timestamp('2021-03-01 00:00:00'), 'a007', 2.0]]"
      ]
     },
     "execution_count": 15,
     "metadata": {},
     "output_type": "execute_result"
    }
   ],
   "source": [
    "# シート「All」にDataFrameを貼り付けるために、df_allをリスト型に変換\n",
    "# 参考：https://biotech-lab.org/articles/4896\n",
    "\n",
    "values = df_all.to_numpy().tolist()\n",
    "values.insert(0, df_all.columns.to_list())\n",
    "values"
   ]
  },
  {
   "cell_type": "code",
   "execution_count": 16,
   "id": "30db20cc-21bd-4bb9-b0bb-a6b6881f7bb1",
   "metadata": {},
   "outputs": [],
   "source": [
    "# ws_allにFor文でvaluesの値をセルに書き込んでいく\n",
    "# 参考：　https://fastclassinfo.com/entry/python_excel_beginners/#7　→「7. シート内のセルの値を一括読み込み・書き出し」\n",
    "        \n",
    "for y, row in enumerate(values):\n",
    "    for x, cell in enumerate(row):\n",
    "        ws_all.cell(row= y+2, column= x+2, value=values[y][x])"
   ]
  },
  {
   "cell_type": "code",
   "execution_count": 17,
   "id": "4aca5006-5a35-482b-a970-76216a00e69a",
   "metadata": {},
   "outputs": [],
   "source": [
    "# Excelの上書き保存\n",
    "wb_all.save(file_all)"
   ]
  },
  {
   "cell_type": "code",
   "execution_count": null,
   "id": "50e58795-f6e3-443c-a49d-17615f80785b",
   "metadata": {},
   "outputs": [],
   "source": []
  },
  {
   "cell_type": "markdown",
   "id": "a0017a49-56e1-439e-8927-ff8a93d525c8",
   "metadata": {},
   "source": [
    "## openpyxlを使わず、Pandasの機能だけを使ってすべてのシートを読み込む（dictionaryを使う）【完全に遊び】"
   ]
  },
  {
   "cell_type": "code",
   "execution_count": 1,
   "id": "45dc39ae-9989-4fec-8522-35a1f84b9224",
   "metadata": {
    "tags": []
   },
   "outputs": [
    {
     "ename": "NameError",
     "evalue": "name 'file' is not defined",
     "output_type": "error",
     "traceback": [
      "\u001b[1;31m---------------------------------------------------------------------------\u001b[0m",
      "\u001b[1;31mNameError\u001b[0m                                 Traceback (most recent call last)",
      "\u001b[1;32mC:\\Users\\000904~1\\AppData\\Local\\Temp/ipykernel_18452/352958738.py\u001b[0m in \u001b[0;36m<module>\u001b[1;34m\u001b[0m\n\u001b[0;32m      1\u001b[0m \u001b[1;32mimport\u001b[0m \u001b[0mpandas\u001b[0m \u001b[1;32mas\u001b[0m \u001b[0mpd\u001b[0m\u001b[1;33m\u001b[0m\u001b[1;33m\u001b[0m\u001b[0m\n\u001b[0;32m      2\u001b[0m \u001b[1;33m\u001b[0m\u001b[0m\n\u001b[1;32m----> 3\u001b[1;33m \u001b[0mdf_sheet_all\u001b[0m \u001b[1;33m=\u001b[0m \u001b[0mpd\u001b[0m\u001b[1;33m.\u001b[0m\u001b[0mread_excel\u001b[0m\u001b[1;33m(\u001b[0m\u001b[0mfile\u001b[0m\u001b[1;33m,\u001b[0m \u001b[0msheet_name\u001b[0m\u001b[1;33m=\u001b[0m\u001b[1;32mNone\u001b[0m\u001b[1;33m,\u001b[0m \u001b[0mskiprows\u001b[0m\u001b[1;33m=\u001b[0m\u001b[1;36m1\u001b[0m\u001b[1;33m)\u001b[0m\u001b[1;33m\u001b[0m\u001b[1;33m\u001b[0m\u001b[0m\n\u001b[0m\u001b[0;32m      4\u001b[0m \u001b[0mprint\u001b[0m\u001b[1;33m(\u001b[0m\u001b[0mtype\u001b[0m\u001b[1;33m(\u001b[0m\u001b[0mdf_sheet_all\u001b[0m\u001b[1;33m)\u001b[0m\u001b[1;33m)\u001b[0m\u001b[1;33m\u001b[0m\u001b[1;33m\u001b[0m\u001b[0m\n\u001b[0;32m      5\u001b[0m \u001b[0mprint\u001b[0m\u001b[1;33m(\u001b[0m\u001b[0mdf_sheet_all\u001b[0m\u001b[1;33m.\u001b[0m\u001b[0mkeys\u001b[0m\u001b[1;33m(\u001b[0m\u001b[1;33m)\u001b[0m\u001b[1;33m)\u001b[0m\u001b[1;33m\u001b[0m\u001b[1;33m\u001b[0m\u001b[0m\n",
      "\u001b[1;31mNameError\u001b[0m: name 'file' is not defined"
     ]
    }
   ],
   "source": [
    "df_sheet_all = pd.read_excel(file, sheet_name=None, skiprows=1)\n",
    "print(type(df_sheet_all))\n",
    "print(df_sheet_all.keys())\n",
    "\n",
    "for key in df_sheet_all.keys():\n",
    "    df = pd.read_excel(file, sheet_name=key, skiprows=1)\n",
    "    df = df[['UDATE', 'PARTS', 'CYC']]\n",
    "    df = df.dropna()\n",
    "    display(df)"
   ]
  }
 ],
 "metadata": {
  "kernelspec": {
   "display_name": "Python 3 (ipykernel)",
   "language": "python",
   "name": "python3"
  },
  "language_info": {
   "codemirror_mode": {
    "name": "ipython",
    "version": 3
   },
   "file_extension": ".py",
   "mimetype": "text/x-python",
   "name": "python",
   "nbconvert_exporter": "python",
   "pygments_lexer": "ipython3",
   "version": "3.10.1"
  }
 },
 "nbformat": 4,
 "nbformat_minor": 5
}
