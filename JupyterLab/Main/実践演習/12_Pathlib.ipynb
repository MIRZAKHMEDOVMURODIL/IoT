{
 "cells": [
  {
   "cell_type": "markdown",
   "id": "a406f630-1ae8-4ad7-ba42-73e4f2147cef",
   "metadata": {
    "tags": []
   },
   "source": [
    "# ライブラリインポート\n",
    "pathlib：ファイル読み取り＆ファイル操作  \n",
    "フォルダの中にあるファイルのpath一覧を取得するために主に使います。  \n",
    "pathが取得できれば、DataFrameに中身を取り込めます。  \n",
    "まずはpathlibライブラリのインポートから。読み取るのはpathlibモジュールのPathクラスだけです。  \n",
    "\n",
    "参考：[pathlibとかいう優秀すぎる標準ライブラリ(python)](https://may46onez.hatenablog.com/entry/2018/09/18/233606)\n",
    "\n",
    "■ライブラリインポート\n",
    "```python\n",
    "from pathlib import Path\n",
    "```"
   ]
  },
  {
   "cell_type": "code",
   "execution_count": 1,
   "id": "918f32ed-75a4-4d6d-88a8-0f74de5b70fc",
   "metadata": {
    "tags": []
   },
   "outputs": [],
   "source": [
    "from pathlib import Path\n"
   ]
  },
  {
   "cell_type": "markdown",
   "id": "3385a170-9161-4d04-bc54-694a60333270",
   "metadata": {},
   "source": [
    "# フォルダ指定\n",
    "フォルダやファイルを指定しておくと、その後pathlibの機能が使えます。  \n",
    "\n",
    "■フォルダの指定\n",
    "```python\n",
    "folder = Path(\"フォルダパス\")\n",
    "```\n",
    "■フォルダの中のファイル一覧を読み取り  \n",
    "※globの中の「\\*」はパターンマッチングの表現が可能で、名前のフィルタをかける事が可能です  \n",
    "　https://www.javadrive.jp/python/file/index15.html  \n",
    "```python\n",
    "files = list(folder.glob(\"*\"))\n",
    "```\n",
    "※`list()`をつけなくても使えます。その場合filesはgenerator型となります  \n",
    "　generator型がわからない方は`list()`をつけて使ってください\n",
    "\n",
    "■ファイルを1つずつ取り出して処理\n",
    "```python\n",
    "for file in files:\n",
    "    処理内容\n",
    "```\n",
    "■ファイルの直接指定\n",
    "```python\n",
    "file = Path(\"ファイル名（パス込み）\")\n",
    "```\n",
    "■ファイルパスの結合\n",
    "```python\n",
    "# WindowsPath型の変数に、パスを続けて書ける\n",
    "folder/\"4.txt\"\n",
    "```"
   ]
  },
  {
   "cell_type": "code",
   "execution_count": 4,
   "id": "7f4d25a2-cfca-4f35-a460-5d1a1fa66a1a",
   "metadata": {},
   "outputs": [
    {
     "data": {
      "text/plain": [
       "[WindowsPath('file/pathlib/a/result_1.csv'),\n",
       " WindowsPath('file/pathlib/a/result_2.csv')]"
      ]
     },
     "execution_count": 4,
     "metadata": {},
     "output_type": "execute_result"
    }
   ],
   "source": [
    "folder = Path(\"./file/pathlib/a\")\n",
    "type(folder)\n",
    "\n",
    "files = list(folder.glob(\"*.csv\"))\n",
    "files\n"
   ]
  },
  {
   "cell_type": "code",
   "execution_count": 6,
   "id": "7b7c4f43-ed55-4b6d-8918-e4583b22b732",
   "metadata": {},
   "outputs": [
    {
     "name": "stdout",
     "output_type": "stream",
     "text": [
      "[WindowsPath('file/pathlib/a/result_1.csv'), WindowsPath('file/pathlib/a/result_2.csv')]\n",
      "file\\pathlib\\a\\result_1.csv\n"
     ]
    },
    {
     "data": {
      "text/html": [
       "<div>\n",
       "<style scoped>\n",
       "    .dataframe tbody tr th:only-of-type {\n",
       "        vertical-align: middle;\n",
       "    }\n",
       "\n",
       "    .dataframe tbody tr th {\n",
       "        vertical-align: top;\n",
       "    }\n",
       "\n",
       "    .dataframe thead th {\n",
       "        text-align: right;\n",
       "    }\n",
       "</style>\n",
       "<table border=\"1\" class=\"dataframe\">\n",
       "  <thead>\n",
       "    <tr style=\"text-align: right;\">\n",
       "      <th></th>\n",
       "      <th>ナンバー1</th>\n",
       "    </tr>\n",
       "  </thead>\n",
       "  <tbody>\n",
       "    <tr>\n",
       "      <th>0</th>\n",
       "      <td>0</td>\n",
       "    </tr>\n",
       "    <tr>\n",
       "      <th>1</th>\n",
       "      <td>1</td>\n",
       "    </tr>\n",
       "    <tr>\n",
       "      <th>2</th>\n",
       "      <td>2</td>\n",
       "    </tr>\n",
       "    <tr>\n",
       "      <th>3</th>\n",
       "      <td>3</td>\n",
       "    </tr>\n",
       "    <tr>\n",
       "      <th>4</th>\n",
       "      <td>4</td>\n",
       "    </tr>\n",
       "    <tr>\n",
       "      <th>5</th>\n",
       "      <td>5</td>\n",
       "    </tr>\n",
       "  </tbody>\n",
       "</table>\n",
       "</div>"
      ],
      "text/plain": [
       "   ナンバー1\n",
       "0      0\n",
       "1      1\n",
       "2      2\n",
       "3      3\n",
       "4      4\n",
       "5      5"
      ]
     },
     "metadata": {},
     "output_type": "display_data"
    },
    {
     "name": "stdout",
     "output_type": "stream",
     "text": [
      "file\\pathlib\\a\\result_2.csv\n"
     ]
    },
    {
     "data": {
      "text/html": [
       "<div>\n",
       "<style scoped>\n",
       "    .dataframe tbody tr th:only-of-type {\n",
       "        vertical-align: middle;\n",
       "    }\n",
       "\n",
       "    .dataframe tbody tr th {\n",
       "        vertical-align: top;\n",
       "    }\n",
       "\n",
       "    .dataframe thead th {\n",
       "        text-align: right;\n",
       "    }\n",
       "</style>\n",
       "<table border=\"1\" class=\"dataframe\">\n",
       "  <thead>\n",
       "    <tr style=\"text-align: right;\">\n",
       "      <th></th>\n",
       "      <th>ナンバー2</th>\n",
       "    </tr>\n",
       "  </thead>\n",
       "  <tbody>\n",
       "    <tr>\n",
       "      <th>0</th>\n",
       "      <td>6</td>\n",
       "    </tr>\n",
       "    <tr>\n",
       "      <th>1</th>\n",
       "      <td>7</td>\n",
       "    </tr>\n",
       "    <tr>\n",
       "      <th>2</th>\n",
       "      <td>8</td>\n",
       "    </tr>\n",
       "    <tr>\n",
       "      <th>3</th>\n",
       "      <td>9</td>\n",
       "    </tr>\n",
       "    <tr>\n",
       "      <th>4</th>\n",
       "      <td>10</td>\n",
       "    </tr>\n",
       "  </tbody>\n",
       "</table>\n",
       "</div>"
      ],
      "text/plain": [
       "   ナンバー2\n",
       "0      6\n",
       "1      7\n",
       "2      8\n",
       "3      9\n",
       "4     10"
      ]
     },
     "metadata": {},
     "output_type": "display_data"
    }
   ],
   "source": [
    "folder = Path(\"./file/pathlib/a\")\n",
    "files = list(folder.glob(\"*.csv\"))\n",
    "print(files)\n",
    "\n",
    "import pandas as pd  #importはまとめて最初に書く方が良い（こんな風に途中のセルでimportしないように）\n",
    "\n",
    "for file in files:\n",
    "    print(file)\n",
    "    df = pd.read_csv(file)\n",
    "    display(df)\n"
   ]
  },
  {
   "cell_type": "code",
   "execution_count": 8,
   "id": "44fc788d-6df6-4e1e-8dad-947065922a11",
   "metadata": {},
   "outputs": [
    {
     "data": {
      "text/plain": [
       "[WindowsPath('file/pathlib/a'),\n",
       " WindowsPath('file/pathlib/b'),\n",
       " WindowsPath('file/pathlib/c'),\n",
       " WindowsPath('file/pathlib/move'),\n",
       " WindowsPath('file/pathlib/a/.ipynb_checkpoints'),\n",
       " WindowsPath('file/pathlib/a/data_t1.txt'),\n",
       " WindowsPath('file/pathlib/a/result_1.csv'),\n",
       " WindowsPath('file/pathlib/a/result_2.csv'),\n",
       " WindowsPath('file/pathlib/a/.ipynb_checkpoints/data_t1-checkpoint.txt'),\n",
       " WindowsPath('file/pathlib/a/.ipynb_checkpoints/result_1-checkpoint.csv'),\n",
       " WindowsPath('file/pathlib/a/.ipynb_checkpoints/result_2-checkpoint.csv'),\n",
       " WindowsPath('file/pathlib/b/3.csv'),\n",
       " WindowsPath('file/pathlib/b/t2.txt'),\n",
       " WindowsPath('file/pathlib/c/3.txt'),\n",
       " WindowsPath('file/pathlib/c/4.csv'),\n",
       " WindowsPath('file/pathlib/move/before'),\n",
       " WindowsPath('file/pathlib/move/before/1.txt')]"
      ]
     },
     "execution_count": 8,
     "metadata": {},
     "output_type": "execute_result"
    }
   ],
   "source": [
    "# 「pathlib」フォルダ以下のすべてのファイル\n",
    "folder = Path(\"./file/pathlib\")\n",
    "files = list(folder.glob(\"**/*\"))\n",
    "files\n"
   ]
  },
  {
   "cell_type": "code",
   "execution_count": null,
   "id": "a4999b8b-a913-4fc1-8249-413dd7bd9eae",
   "metadata": {
    "jupyter": {
     "source_hidden": true
    },
    "tags": []
   },
   "outputs": [],
   "source": [
    "# # 「pathlib」フォルダ以下のすべてのcsvファイル\n",
    "# folder = Path(\"./file/pathlib\")\n",
    "# files = list(folder.glob(\"**/*.csv\"))\n",
    "# files\n"
   ]
  },
  {
   "cell_type": "code",
   "execution_count": null,
   "id": "16d67640-4bef-4bdb-8fbd-7a98ae48966a",
   "metadata": {},
   "outputs": [],
   "source": [
    "# # 1階層上位フォルダ以下のすべてのcsvファイル（ピリオドを増やすとそれだけ上の階層に行きます）\n",
    "# folder1 = Path(\"../\")\n",
    "# files = list(folder1.glob(\"**/*.csv\"))\n",
    "# files\n"
   ]
  },
  {
   "cell_type": "code",
   "execution_count": null,
   "id": "b7270ab9-c724-4926-a5e5-16820e754eee",
   "metadata": {},
   "outputs": [],
   "source": [
    "# # WindowsPath型の変数に、パスを文字列で続けて書ける\n",
    "# folder = Path(\"./file/pathlib\")\n",
    "# file = folder/\"a/t1.txt\"\n",
    "# file"
   ]
  },
  {
   "cell_type": "markdown",
   "id": "1d584943-665e-45ec-a178-51fada41b3c9",
   "metadata": {},
   "source": [
    "# ファイルの情報読み取り\n",
    "## ファイル名、フォルダ名読み取り\n",
    "\n",
    "※以下、「file」はファイルパスが格納されている、Windowspath型の変数です。  \n",
    "　```file = Path(\"ファイル名（パス込み）\") ``` \n",
    "\n",
    "■ファイル名読み取り（拡張子なし）\n",
    "```python\n",
    "file.stem\n",
    "```\n",
    "■ファイル名読み取り（拡張子有り）\n",
    "```python\n",
    "file.name\n",
    "```\n",
    "■親フォルダ名読み取り\n",
    "```python\n",
    "file.parent\n",
    "```\n",
    "■絶対パス読み取り\n",
    "```python\n",
    "file.resolve()\n",
    "```  \n",
    "■フルパスに含まれるフォルダ名を取得  \n",
    "```python\n",
    "file.parts[-i]\n",
    "# file.partsでpathを\\で分け、タプルを生成。リスト形式で-i番目を指定することで、必要なフォルダ名を取得\n",
    "```"
   ]
  },
  {
   "cell_type": "code",
   "execution_count": 11,
   "id": "bc771686-c06c-4463-8ba9-d662070546e0",
   "metadata": {},
   "outputs": [
    {
     "name": "stdout",
     "output_type": "stream",
     "text": [
      "data_t1\n",
      "data_t1.txt\n",
      "file\\pathlib\\a\n",
      "C:\\Users\\00220401626\\AppData\\Local\\Programs\\Python\\Python39\\Scripts\\(1)Pythonマニュアル_v15\\file\\pathlib\\a\\data_t1.txt\n",
      "pathlib\n"
     ]
    }
   ],
   "source": [
    "file = Path(\"./file/pathlib/a/data_t1.txt\")\n",
    "\n",
    "print(file.stem)\n",
    "print(file.name)\n",
    "print(file.parent)\n",
    "print(file.resolve())\n",
    "print(file.parts[-3])"
   ]
  },
  {
   "cell_type": "markdown",
   "id": "00671617-d5f3-45c3-8851-16b81e6d68c0",
   "metadata": {
    "tags": []
   },
   "source": [
    "## その他情報読み取り\n",
    "\n",
    "■ファイル更新時間読み取り（エポック秒）\n",
    "```python\n",
    "file.stat().st_mtime\n",
    "```\n",
    "\n",
    "■ファイル更新時間読み取り（文字列変換）  \n",
    "  （`time.strftime`関数の第一引数は、好きな書式を設定）  \n",
    "```python\n",
    "import time\n",
    "time.strftime(\"%Y-%m-%d %H:%M:%S\", time.localtime(file.stat().st_mtime))\n",
    "```\n",
    "\n",
    "■ファイルかどうか確認\n",
    "```python\n",
    "file.is_file()\n",
    "```\n",
    "■パスのファイル、またはディレクトリが存在しているかどうかを判定  \n",
    "```python\n",
    "file.exists()\n",
    "```"
   ]
  },
  {
   "cell_type": "code",
   "execution_count": null,
   "id": "5af9bf62-af01-4db9-acd2-0362887ccf56",
   "metadata": {},
   "outputs": [],
   "source": [
    "# file = Path(\"./file/pathlib/a/result_1.csv\")\n",
    "# print(file.stat().st_mtime)\n",
    "\n",
    "# import time\n",
    "# print(time.strftime(\"%Y/%m/%d %H:%M:%S\", time.localtime(file.stat().st_mtime)))\n"
   ]
  },
  {
   "cell_type": "code",
   "execution_count": null,
   "id": "3f1a258e-0199-4bf8-8825-112020ed5fa8",
   "metadata": {},
   "outputs": [],
   "source": [
    "# folder = Path(\"./file/pathlib/a\")\n",
    "# files = list(folder.glob(\"*\"))\n",
    "\n",
    "# for file in files:\n",
    "#     if file.is_file():\n",
    "#         print(f\"ファイル【〇】：{file.stem}\")\n",
    "#     else:\n",
    "#         print(f\"フォルダ【×】：{file.stem}\")\n"
   ]
  },
  {
   "cell_type": "code",
   "execution_count": null,
   "id": "3e76cebc-af8d-494e-9fa2-178efd47d6e4",
   "metadata": {},
   "outputs": [],
   "source": [
    "# file_a = Path(\"./file/pathlib/a/result_1.csv\")\n",
    "# print(file_a.exists())\n",
    "\n",
    "# file_b = Path(\"./file/pathlib/a/result_5.csv\")\n",
    "# print(file_b.exists())"
   ]
  },
  {
   "cell_type": "markdown",
   "id": "deb86076-41df-423a-9325-d567fba26c8b",
   "metadata": {
    "tags": []
   },
   "source": [
    "# ファイルコピー、移動、削除\n",
    "\n",
    "■ファイルコピー  \n",
    "※別途shutilライブラリのインポート必要  \n",
    "```python\n",
    "import shutil\n",
    "shutil.copy(file,\"移動後のパス\")\n",
    "```\n",
    "■ファイル移動  \n",
    "※別途shutilライブラリのインポート必要  \n",
    "```python\n",
    "import shutil\n",
    "shutil.move(file,\"移動後のパス\")\n",
    "```\n",
    "■ファイル削除\n",
    "```python\n",
    "file.unlink()\n",
    "```"
   ]
  },
  {
   "cell_type": "code",
   "execution_count": null,
   "id": "20bfd2a0-a9b5-4e72-a45f-3ea3c283f0bd",
   "metadata": {},
   "outputs": [],
   "source": [
    "# import shutil\n",
    "# file = Path(r\"./file/pathlib/move/before/1.txt\")\n",
    "# shutil.copy(file,r\"./file/pathlib/move/after\")\n"
   ]
  },
  {
   "cell_type": "code",
   "execution_count": null,
   "id": "93163c9c-4fff-4f7b-b1fc-dc93ac6c2b86",
   "metadata": {},
   "outputs": [],
   "source": [
    "# file = Path(r\"./file/pathlib/move/after/1.txt\")\n",
    "# file.unlink()\n"
   ]
  },
  {
   "cell_type": "markdown",
   "id": "8e6d9582-438a-469a-b088-ebf484ef8d15",
   "metadata": {},
   "source": [
    "# ソート\n",
    "pathlibの機能というより、listの機能になります  \n",
    "pathlibで受け取ったfilesを更新時間で並べ替える\n",
    "\n",
    "■osモジュールをインポートしてソート\n",
    "```python\n",
    "import os\n",
    "files.sort(key=os.path.getmtime)\n",
    "```  \n",
    "\n",
    "【参考】  \n",
    "・gettimeの種類  \n",
    "https://docs.python.org/ja/3/library/os.path.html  \n",
    "※長いので、「getmtime」などで検索をかけてください。真ん中のあたりにあります  \n",
    "\n",
    "■表示形式  \n",
    "os.path.gettimeの情報はエポック秒で表示されてしまうため、datetimeオブジェクトに変換するにはdatetimeモジュールのdatetime.fromtimestamp()関数を使う。  \n",
    "```python  \n",
    "import datetime\n",
    "print(datetime.datetime.fromtimestamp([ファイルパス].stat().st_mtime))  \n",
    "```  \n",
    "`[ファイルパス].stat().st_mtime)`はエポック秒で取れるので、`datetime.datetime.fromtimestamp`で文字列に直す  \n",
    "※`.strftime('%Y-%m-%d %H:%M:%S')`はフォーマット指定のために入れています"
   ]
  },
  {
   "cell_type": "code",
   "execution_count": null,
   "id": "c2872d05-4267-4d45-a88b-bcc7ce57f92c",
   "metadata": {},
   "outputs": [],
   "source": [
    "# from pathlib import Path\n",
    "# import os\n",
    "# folder = Path(\"./file/pathlib/a\")\n",
    "# files = list(folder.glob(\"*\"))\n",
    "\n",
    "# files.sort(key=os.path.getmtime)\n",
    "# print(files)\n",
    "\n",
    "# # for file in files:\n",
    "# #     print(file.stem, ':', file.stat().st_mtime)\n",
    "\n",
    "# # # print(\" -----------------getmtimeの表示形式変更------------------- \")\n",
    "# # # import datetime\n",
    "# # # for file in files:\n",
    "# # #     print(file.stem, ':', datetime.datetime.fromtimestamp(file.stat().st_mtime).strftime('%Y-%m-%d %H:%M:%S'))\n"
   ]
  },
  {
   "cell_type": "code",
   "execution_count": null,
   "id": "2df1a6a5-4714-472b-b46c-65be81983798",
   "metadata": {},
   "outputs": [],
   "source": []
  }
 ],
 "metadata": {
  "kernelspec": {
   "display_name": "Python 3 (ipykernel)",
   "language": "python",
   "name": "python3"
  },
  "language_info": {
   "codemirror_mode": {
    "name": "ipython",
    "version": 3
   },
   "file_extension": ".py",
   "mimetype": "text/x-python",
   "name": "python",
   "nbconvert_exporter": "python",
   "pygments_lexer": "ipython3",
   "version": "3.9.13"
  },
  "toc-autonumbering": true
 },
 "nbformat": 4,
 "nbformat_minor": 5
}
