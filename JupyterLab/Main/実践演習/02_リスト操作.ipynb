{
 "cells": [
  {
   "cell_type": "markdown",
   "id": "a998cb73-6ac1-4a13-a5dc-0c452e68e164",
   "metadata": {},
   "source": [
    "# リスト作成\n",
    "list型：リスト  \n",
    "- 順番を考慮したデータの集まり  \n",
    "- 「リストの〇番目」と指定して、要素を取ってこれる\n",
    "- 角かっこ`[]`でくくる  \n",
    "\n",
    "■変数へ格納\n",
    "```\n",
    "a = [値1,値2,値3,…]\n",
    "```\n",
    "\n",
    "■追加1（リスト結合）\n",
    "```\n",
    "a = [値1,値2,値3,…] + [値4,値5,…]\n",
    "```\n",
    "\n",
    "■追加2（値追加）\n",
    "```\n",
    "a.append(値)\n",
    "```"
   ]
  },
  {
   "cell_type": "code",
   "execution_count": 27,
   "id": "cd86b283-2854-4010-a935-ffd87425a0e7",
   "metadata": {},
   "outputs": [
    {
     "data": {
      "text/plain": [
       "[0, 1, 'x', 2, 'y', 3, 'z']"
      ]
     },
     "execution_count": 27,
     "metadata": {},
     "output_type": "execute_result"
    }
   ],
   "source": [
    "a=[0, 1, \"x\",2,\"y\",3,\"z\"]\n",
    "a\n",
    "\n"
   ]
  },
  {
   "cell_type": "code",
   "execution_count": 26,
   "id": "664ffb0f-3804-4fd2-8b74-40f967c59e55",
   "metadata": {},
   "outputs": [
    {
     "data": {
      "text/plain": [
       "[0, 1, 2, 3, 4, 5]"
      ]
     },
     "execution_count": 26,
     "metadata": {},
     "output_type": "execute_result"
    }
   ],
   "source": [
    "a = [0, 1, 2, 3] + [4, 5]\n",
    "a\n"
   ]
  },
  {
   "cell_type": "code",
   "execution_count": 25,
   "id": "4e5a2539-f62b-405a-be2e-2cce79e3dc56",
   "metadata": {},
   "outputs": [
    {
     "data": {
      "text/plain": [
       "[0, 1, 2, 3, 4, 5]"
      ]
     },
     "execution_count": 25,
     "metadata": {},
     "output_type": "execute_result"
    }
   ],
   "source": [
    "a = [0, 1, 2, 3]\n",
    "b = [4, 5]\n",
    "\n",
    "a + b"
   ]
  },
  {
   "cell_type": "code",
   "execution_count": 24,
   "id": "cd3729bd-300a-41db-8f8f-8784b9cdfabe",
   "metadata": {},
   "outputs": [
    {
     "data": {
      "text/plain": [
       "[0, 1, 2, 3, 7]"
      ]
     },
     "execution_count": 24,
     "metadata": {},
     "output_type": "execute_result"
    }
   ],
   "source": [
    "a = [0, 1, 2, 3]\n",
    "a.append(7)\n",
    "a\n",
    "\n"
   ]
  },
  {
   "cell_type": "code",
   "execution_count": 21,
   "id": "183f0dca-29eb-46e6-9eeb-e78dc2ec0b3f",
   "metadata": {},
   "outputs": [
    {
     "data": {
      "text/plain": [
       "[1, 2, 3, 4, 6, [5, 6, 7]]"
      ]
     },
     "execution_count": 21,
     "metadata": {},
     "output_type": "execute_result"
    }
   ],
   "source": [
    "b = [5, 6, 7]\n",
    "a.append(b)\n",
    "a\n",
    "\n"
   ]
  },
  {
   "attachments": {
    "f3b56216-5d62-44f9-aabd-c711f54719ba.png": {
     "image/png": "[encoded data removed]"
    }
   },
   "cell_type": "markdown",
   "id": "056b393a-f59e-4e90-a3ef-c54e66f94a53",
   "metadata": {},
   "source": [
    "# 取り出し\n",
    "```python\n",
    "stations = [\"東京\", \"品川\", \"新横浜\", \"小田原\", \"熱海\"]\n",
    "```\n",
    "\n",
    "![image.png](attachment:f3b56216-5d62-44f9-aabd-c711f54719ba.png)[図の出典はこちら](https://www.python.jp/train/list/list.html)  \n",
    "\n",
    "■n番目取り出し（番号は0始まり）\n",
    "```python\n",
    "a[n]\n",
    "a[-n]（後ろから取り出し）\n",
    "\n",
    "a[:n]（0からn-1番目までを取り出し）\n",
    "a[n:]（n番目以降を取り出し）\n",
    "\n",
    "a[l:m]（l番目からm-1番目までを取り出し）\n",
    "```\n",
    "詳しくはこちら→[【Python】スライスの使いかたの基本](https://hibiki-press.tech/python/slice/1)"
   ]
  },
  {
   "cell_type": "code",
   "execution_count": 20,
   "id": "9999e22c-df37-4479-a34c-b4e9b61a1538",
   "metadata": {},
   "outputs": [
    {
     "data": {
      "text/plain": [
       "'小田原'"
      ]
     },
     "execution_count": 20,
     "metadata": {},
     "output_type": "execute_result"
    }
   ],
   "source": [
    "stations = [\"東京\", \"品川\", \"新横浜\", \"小田原\", \"熱海\"]\n",
    "stations[3]"
   ]
  },
  {
   "cell_type": "code",
   "execution_count": null,
   "id": "025a84a3-0619-4a40-ac42-1f9a64cbace5",
   "metadata": {},
   "outputs": [],
   "source": [
    "# type(stations)\n"
   ]
  },
  {
   "cell_type": "code",
   "execution_count": null,
   "id": "ac5ee6ca-0875-411f-878e-e677f5c3f73f",
   "metadata": {},
   "outputs": [],
   "source": [
    "# stations[0]\n",
    "# # stations[1:3]"
   ]
  },
  {
   "cell_type": "code",
   "execution_count": null,
   "id": "5d57e89a-65a8-40ef-9f01-c2681da4605e",
   "metadata": {},
   "outputs": [],
   "source": [
    "# stations[-1]\n",
    "# stations[-2]"
   ]
  },
  {
   "cell_type": "code",
   "execution_count": null,
   "id": "0de4f60e-d142-4729-928d-acc0cca30aba",
   "metadata": {},
   "outputs": [],
   "source": [
    "# # 「スライス」と「要素の取り出し」は違うので注意\n",
    "# stations[:-3]"
   ]
  },
  {
   "cell_type": "code",
   "execution_count": null,
   "id": "d436b515-ea9e-4ac7-8b6a-e4bc56df0b98",
   "metadata": {},
   "outputs": [],
   "source": [
    "# \"↑一応書けますけど、こんな書き方よりも前から書いた方が親切\"\n",
    "# stations[:2]"
   ]
  },
  {
   "cell_type": "code",
   "execution_count": null,
   "id": "40cfda07-3627-4bb2-8630-8601388db8c4",
   "metadata": {
    "tags": []
   },
   "outputs": [],
   "source": [
    "# a = [1, 2, 3, 4, 5]\n",
    "\n",
    "# print(a[2])\n",
    "# print(a[-2])\n"
   ]
  },
  {
   "cell_type": "code",
   "execution_count": null,
   "id": "2b161d41-3dda-4963-9c66-781287afe92a",
   "metadata": {},
   "outputs": [],
   "source": [
    "# a[:3]\n",
    "# # a[1:3]"
   ]
  },
  {
   "cell_type": "code",
   "execution_count": null,
   "id": "0fcddf10-6926-4bf1-9bf6-96aa12d6d9e6",
   "metadata": {},
   "outputs": [],
   "source": [
    "# a[-2]\n"
   ]
  },
  {
   "cell_type": "code",
   "execution_count": null,
   "id": "16cc4a95-0fa2-4c20-a270-15ad826bfb58",
   "metadata": {},
   "outputs": [],
   "source": [
    "# a[:-3]"
   ]
  },
  {
   "cell_type": "markdown",
   "id": "b5d6964e-394b-4653-9079-43c9f10fe8fd",
   "metadata": {
    "tags": []
   },
   "source": [
    "# 操作\n",
    "※`a`はリストが入った変数を表す  \n",
    "\n",
    "■並べ替え（要素が数値の場合）\n",
    "```python\n",
    "a.sort()\n",
    "```\n",
    "\n",
    "■並べ替え（要素が文字列の場合） 参考→[Pythonでリストをソートするsortとsortedの違い](https://note.nkmk.me/python-list-sort-sorted/)  \n",
    "　文字の長さで並べ替える場合は、引数で`key=len`を指定\n",
    "```python\n",
    "sorted(a)\n",
    "```\n",
    "\n",
    "■最大、最小\n",
    "```python\n",
    "max(a)\n",
    "min(a)\n",
    "```\n",
    "\n",
    "■個数カウント\n",
    "```python\n",
    "len(a)\n",
    "```\n",
    "\n",
    "■ある値のカウント\n",
    "```python\n",
    "a.count(値)\n",
    "```"
   ]
  },
  {
   "cell_type": "code",
   "execution_count": 18,
   "id": "a8994ed3-6e3b-495d-a71f-c260b5c2ffb9",
   "metadata": {},
   "outputs": [
    {
     "data": {
      "text/plain": [
       "[1, 2, 3, 4, 6]"
      ]
     },
     "execution_count": 18,
     "metadata": {},
     "output_type": "execute_result"
    }
   ],
   "source": [
    "a = [6, 1, 2, 4, 3]\n",
    "a.sort()\n",
    "a\n"
   ]
  },
  {
   "cell_type": "code",
   "execution_count": 8,
   "id": "f3e00f09-2737-4b15-b7ea-29c90636a5a6",
   "metadata": {},
   "outputs": [
    {
     "data": {
      "text/plain": [
       "[1, 2, 3, 4, 6]"
      ]
     },
     "execution_count": 8,
     "metadata": {},
     "output_type": "execute_result"
    }
   ],
   "source": [
    " a = [6, 1, 2, 4, 3]\n",
    " a.sort()\n",
    "a"
   ]
  },
  {
   "cell_type": "code",
   "execution_count": 17,
   "id": "c87253f0-8d1a-4a07-83d7-d3d21491bc43",
   "metadata": {},
   "outputs": [
    {
     "name": "stdout",
     "output_type": "stream",
     "text": [
      "7\n",
      "2\n"
     ]
    },
    {
     "data": {
      "text/plain": [
       "2"
      ]
     },
     "execution_count": 17,
     "metadata": {},
     "output_type": "execute_result"
    }
   ],
   "source": [
    "a = [1,2,\"x\",\"x\",5,\"z\",7]\n",
    "print(len(a))\n",
    "print(a.count(\"x\"))\n",
    "\n",
    "\n"
   ]
  },
  {
   "cell_type": "markdown",
   "id": "14995366-b613-414a-95af-fbde4284f7a6",
   "metadata": {},
   "source": [
    "# その他\n",
    "■文字列をlistに変換  \n",
    "```python\n",
    "list(a)\n",
    "```\n",
    "\n",
    "※list関数の本領は、引数に入れた要素・配列を「リスト化する」ものです。  \n",
    "　文字列をリスト変換することにはあまり使いませんが、データフレームのカラムをリスト化して、リストに使える関数を適用したりすることが多いです。"
   ]
  },
  {
   "cell_type": "code",
   "execution_count": 11,
   "id": "c8934d5b-cc25-4705-9fa3-4ef08d8ec566",
   "metadata": {},
   "outputs": [
    {
     "data": {
      "text/plain": [
       "['w', 'x', 'y', 'z']"
      ]
     },
     "execution_count": 11,
     "metadata": {},
     "output_type": "execute_result"
    }
   ],
   "source": [
    "a = \"wxyz\"\n",
    "a = list(a)\n",
    "\n"
   ]
  },
  {
   "cell_type": "code",
   "execution_count": null,
   "id": "0993f8b2-650d-4013-9af6-19de13160309",
   "metadata": {},
   "outputs": [],
   "source": []
  }
 ],
 "metadata": {
  "kernelspec": {
   "display_name": "Python 3 (ipykernel)",
   "language": "python",
   "name": "python3"
  },
  "language_info": {
   "codemirror_mode": {
    "name": "ipython",
    "version": 3
   },
   "file_extension": ".py",
   "mimetype": "text/x-python",
   "name": "python",
   "nbconvert_exporter": "python",
   "pygments_lexer": "ipython3",
   "version": "3.9.13"
  }
 },
 "nbformat": 4,
 "nbformat_minor": 5
}
