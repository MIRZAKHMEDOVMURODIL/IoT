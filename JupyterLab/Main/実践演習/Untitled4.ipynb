{
 "cells": [
  {
   "cell_type": "code",
   "execution_count": null,
   "id": "74d2b69e-3409-4c61-b34f-f920c8d1de28",
   "metadata": {},
   "outputs": [],
   "source": [
    "impord pd"
   ]
  },
  {
   "cell_type": "code",
   "execution_count": 1,
   "id": "18b8201a-43d3-4740-8cb9-c4bbdba2dc5e",
   "metadata": {
    "collapsed": true,
    "jupyter": {
     "outputs_hidden": true
    },
    "tags": []
   },
   "outputs": [
    {
     "ename": "NameError",
     "evalue": "name 'load_workbook' is not defined",
     "output_type": "error",
     "traceback": [
      "\u001b[1;31m---------------------------------------------------------------------------\u001b[0m",
      "\u001b[1;31mNameError\u001b[0m                                 Traceback (most recent call last)",
      "Cell \u001b[1;32mIn [1], line 2\u001b[0m\n\u001b[0;32m      1\u001b[0m read_path \u001b[38;5;241m=\u001b[39m \u001b[38;5;124m\"\u001b[39m\u001b[38;5;124m./ｲﾝﾍﾟﾗｰ溶着データまとめ.xlsx\u001b[39m\u001b[38;5;124m\"\u001b[39m\n\u001b[1;32m----> 2\u001b[0m wb \u001b[38;5;241m=\u001b[39m \u001b[43mload_workbook\u001b[49m(read_path)\n",
      "\u001b[1;31mNameError\u001b[0m: name 'load_workbook' is not defined"
     ]
    }
   ],
   "source": [
    "read_path = \"./ｲﾝﾍﾟﾗｰ溶着データまとめ.xlsx\"\n",
    "wb = load_workbook(read_path)\n"
   ]
  },
  {
   "cell_type": "code",
   "execution_count": null,
   "id": "177da7ea-76d8-4c28-ae8b-92bcf2bf01ca",
   "metadata": {},
   "outputs": [],
   "source": [
    "#全シートのデータを取得する\n",
    "sheet_names = wb.get_sheet_names()\n",
    "first_row = 1\n",
    "l_2d_output = []\n",
    "for sheet_name in sheet_names:\n",
    "    sheet = wb.get_sheet_by_name(sheet_name)\n",
    "\n",
    "    for row in sheet.iter_rows(min_row=first_row):\n",
    "        l = []\n",
    "        for cell in row:\n",
    "            l.append(str(cell.value))\n",
    "        l_2d_output.append(l)\n",
    "\n",
    "    #次シートからヘッダーの読み込みを飛ばす\n",
    "    first_row = 2"
   ]
  }
 ],
 "metadata": {
  "kernelspec": {
   "display_name": "Python 3 (ipykernel)",
   "language": "python",
   "name": "python3"
  },
  "language_info": {
   "codemirror_mode": {
    "name": "ipython",
    "version": 3
   },
   "file_extension": ".py",
   "mimetype": "text/x-python",
   "name": "python",
   "nbconvert_exporter": "python",
   "pygments_lexer": "ipython3",
   "version": "3.9.13"
  }
 },
 "nbformat": 4,
 "nbformat_minor": 5
}
