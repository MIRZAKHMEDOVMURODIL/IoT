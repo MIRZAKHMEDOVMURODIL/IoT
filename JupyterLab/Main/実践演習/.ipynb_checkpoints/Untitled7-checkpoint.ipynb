{
 "cells": [
  {
   "cell_type": "code",
   "execution_count": null,
   "id": "f7f21732-e8fc-425d-95e3-3b4441978d65",
   "metadata": {},
   "outputs": [],
   "source": [
    "book = openpyxl.load_workbook(r\"C:/Users/00220402484/PF/medical/data/ｲﾝﾍﾟﾗｰ溶着データまとめ.xlsx\")\n",
    "sheets = book.sheetnames\n",
    "\n",
    "d = pd.DataFrame()\n",
    "for i in range(0,9):\n",
    "    df = pd.read_excel('C:/Users/00220402484/PF/medical/data/ｲﾝﾍﾟﾗｰ溶着データまとめ.xlsx', sheet_name = i)\n",
    "    df[\"ロット\"] = sheets[i]\n",
    "    d=pd.concat([d,df], axis=0, ignore_index=True)\n",
    "\n",
    "d\n"
   ]
  }
 ],
 "metadata": {
  "kernelspec": {
   "display_name": "Python 3 (ipykernel)",
   "language": "python",
   "name": "python3"
  },
  "language_info": {
   "codemirror_mode": {
    "name": "ipython",
    "version": 3
   },
   "file_extension": ".py",
   "mimetype": "text/x-python",
   "name": "python",
   "nbconvert_exporter": "python",
   "pygments_lexer": "ipython3",
   "version": "3.9.13"
  }
 },
 "nbformat": 4,
 "nbformat_minor": 5
}
