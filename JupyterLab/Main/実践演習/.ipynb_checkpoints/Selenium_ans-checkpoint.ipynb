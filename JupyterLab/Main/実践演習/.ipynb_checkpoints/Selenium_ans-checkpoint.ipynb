{
 "cells": [
  {
   "cell_type": "code",
   "execution_count": 1,
   "id": "94bf4417-e5f2-468f-a30e-0c1d442e1bf0",
   "metadata": {},
   "outputs": [
    {
     "name": "stderr",
     "output_type": "stream",
     "text": [
      "\n",
      "\n",
      "====== WebDriver manager ======\n",
      "Current google-chrome version is 97.0.4692\n",
      "Get LATEST chromedriver version for 97.0.4692 google-chrome\n",
      "Driver [C:\\Users\\00090404308\\.wdm\\drivers\\chromedriver\\win32\\97.0.4692.71\\chromedriver.exe] found in cache\n"
     ]
    },
    {
     "name": "stdout",
     "output_type": "stream",
     "text": [
      "08:33\n"
     ]
    }
   ],
   "source": [
    "ID = \"*********\"\n",
    "PW = \"*********\"\n",
    "\n",
    "import pandas as pd\n",
    "from selenium import webdriver\n",
    "from webdriver_manager.chrome import ChromeDriverManager\n",
    "from selenium.webdriver.chrome import service as cs\n",
    "\n",
    "chrome_service = cs.Service(ChromeDriverManager().install())\n",
    "options = webdriver.ChromeOptions()\n",
    "options.add_argument(\"--no-proxy-server\")\n",
    "driver = webdriver.Chrome(service=chrome_service, options=options)\n",
    "driver.get(f\"http://jnjhp.in.kyocera.co.jp/fw/dfw/DMP/jp/top.html\")\n",
    "\n",
    "driver.find_element(by=\"name\", value=\"ACCOUNTUID\").send_keys(ID)\n",
    "driver.find_element(by=\"name\", value=\"PASSWORD\").send_keys(PW)\n",
    "driver.find_element(by=\"name\", value=\"SUBMIT\").click()\n",
    "\n",
    "driver.switch_to.frame(\"left\")\n",
    "driver.find_element(by=\"xpath\", value=\"/html/body/table/tbody/tr[3]/td/div[2]/table/tbody/tr[11]/td/a\").click()\n",
    "\n",
    "driver.switch_to.window(driver.window_handles[-1])\n",
    "driver.find_element(by=\"link text\", value=\"就業管理Web\").click()\n",
    "driver.find_element(by=\"link text\", value=\"照会\").click()\n",
    "driver.find_element(by=\"link text\", value=\"打刻履歴照会\").click()\n",
    "driver.find_element(by=\"name\", value=\"doRetrievalButton\").click()\n",
    "x = driver.find_element(by=\"xpath\", value=\"/html/body/table[3]/tbody/tr/td/table/tbody/tr/td/form/table/tbody/tr[5]/td/table[2]/tbody/tr/td[1]/table/tbody/tr[2]/td[2]\").text\n",
    "print(x)"
   ]
  },
  {
   "cell_type": "code",
   "execution_count": 2,
   "id": "ee37bb1f-6458-4f7f-a80b-164d840c1a06",
   "metadata": {},
   "outputs": [
    {
     "data": {
      "text/html": [
       "<div>\n",
       "<style scoped>\n",
       "    .dataframe tbody tr th:only-of-type {\n",
       "        vertical-align: middle;\n",
       "    }\n",
       "\n",
       "    .dataframe tbody tr th {\n",
       "        vertical-align: top;\n",
       "    }\n",
       "\n",
       "    .dataframe thead th {\n",
       "        text-align: right;\n",
       "    }\n",
       "</style>\n",
       "<table border=\"1\" class=\"dataframe\">\n",
       "  <thead>\n",
       "    <tr style=\"text-align: right;\">\n",
       "      <th></th>\n",
       "      <th>打刻日付</th>\n",
       "      <th>打刻時刻</th>\n",
       "      <th>出退区分</th>\n",
       "      <th>00：打刻機/WEB打刻</th>\n",
       "    </tr>\n",
       "  </thead>\n",
       "  <tbody>\n",
       "    <tr>\n",
       "      <th>0</th>\n",
       "      <td>2022/02/09</td>\n",
       "      <td>08:33</td>\n",
       "      <td>出</td>\n",
       "      <td>0</td>\n",
       "    </tr>\n",
       "  </tbody>\n",
       "</table>\n",
       "</div>"
      ],
      "text/plain": [
       "         打刻日付   打刻時刻 出退区分  00：打刻機/WEB打刻\n",
       "0  2022/02/09  08:33    出             0"
      ]
     },
     "execution_count": 2,
     "metadata": {},
     "output_type": "execute_result"
    }
   ],
   "source": [
    "# テーブルで取ってきたい方はこちら\n",
    "\n",
    "elem_table = driver.find_element(by=\"xpath\", value=\"/html/body/table[3]/tbody/tr/td/table/tbody/tr/td/form/table/tbody/tr[5]/td/table[2]/tbody/tr/td[1]\")\n",
    "html = elem_table.get_attribute('outerHTML')\n",
    "df = pd.read_html(html, header=0)\n",
    "df[0]\n"
   ]
  },
  {
   "cell_type": "code",
   "execution_count": null,
   "id": "a1b84ed1-2384-4ab9-9aee-c26ce3d983a0",
   "metadata": {},
   "outputs": [],
   "source": []
  }
 ],
 "metadata": {
  "kernelspec": {
   "display_name": "Python 3 (ipykernel)",
   "language": "python",
   "name": "python3"
  },
  "language_info": {
   "codemirror_mode": {
    "name": "ipython",
    "version": 3
   },
   "file_extension": ".py",
   "mimetype": "text/x-python",
   "name": "python",
   "nbconvert_exporter": "python",
   "pygments_lexer": "ipython3",
   "version": "3.9.7"
  }
 },
 "nbformat": 4,
 "nbformat_minor": 5
}
