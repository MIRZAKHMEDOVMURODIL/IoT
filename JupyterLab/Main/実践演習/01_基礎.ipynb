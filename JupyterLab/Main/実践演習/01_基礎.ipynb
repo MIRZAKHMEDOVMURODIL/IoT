{
 "cells": [
  {
   "cell_type": "markdown",
   "id": "6077e6b5-008a-4a2f-ad8e-a077391450c5",
   "metadata": {},
   "source": [
    "# JupyterLabの操作\n",
    "## 入力\n",
    "JupyterLabはコーディングのためのエディターです。**太字は、覚えておくと便利だけど意外と知られていないキー操作**  \n",
    "詳細：https://qiita.com/zawawahoge/items/baa2a5318df079c5f7e5\n",
    "\n",
    "<モード切替>  \n",
    "「Enter or セルクリック」編集モードに入る  \n",
    "「Esc」編集モードを外れる　(コマンドモードに入る）  \n",
    "\n",
    "<編集モードにて>  \n",
    "「Ctr + Enter」実行  \n",
    "「Shift + Enter」実行して下のセルに移動する  \n",
    "**「Ctr + /」コメントアウト**　←コメントアウト行で実行すると、コメントアウトを外す  \n",
    "「Ctr + Shift + -」セルの分割  \n",
    "「Ctr + Z」入力操作を一つ戻る  \n",
    "**選択行で「Tab」インデント  \n",
    "選択行で「Shift + Tab」インデントを戻す**  \n",
    "\n",
    "<コマンドモードにて>  \n",
    "「A」 上にセル追加  \n",
    "「B」 下にセル追加  \n",
    "「X」 セル削除（切り取り）  \n",
    "**「Shift + M」セルの結合（複数選んだ状態で）  \n",
    "「M」 マークダウンモードに変更**  \n",
    "　※マークダウンモードの入力方法　https://ai-inter1.com/markdown/  \n",
    "「Y」 マークダウンモード　→コードモードに変更  \n",
    "「Z」 コマンド操作を1つ戻る  \n",
    "\n",
    "## 表示、実行順序について\n",
    "- セルの横の[]内に入る数字は、そのノートブックを起動してから実行した順番です。  \n",
    "- コードの実行される順番は、基本的に  \n",
    "　・セル内は上から下へ  \n",
    "　・セル間は実行した順番（[]内の数字の順番）  \n",
    "　　※ただし、自動実行する場合はセルも自動的に上から下に実行される"
   ]
  },
  {
   "cell_type": "code",
   "execution_count": null,
   "id": "4328c1f5-bc56-4634-a5e8-fabfa0270933",
   "metadata": {},
   "outputs": [],
   "source": []
  },
  {
   "cell_type": "code",
   "execution_count": null,
   "id": "d6d7d670-0a8a-4f00-9701-3e3bc1dd2eb4",
   "metadata": {},
   "outputs": [],
   "source": [
    "1 + 2"
   ]
  },
  {
   "cell_type": "code",
   "execution_count": null,
   "id": "736010ae-0e03-4d90-82d9-a311db839939",
   "metadata": {},
   "outputs": [],
   "source": [
    "4 + 5"
   ]
  },
  {
   "cell_type": "code",
   "execution_count": null,
   "id": "678e0843-3427-4dd7-aa20-65493baff01c",
   "metadata": {},
   "outputs": [],
   "source": [
    "# 以下で上記の操作を色々と試してください\n",
    "\n"
   ]
  },
  {
   "cell_type": "code",
   "execution_count": null,
   "id": "a2c2f404-18cf-4661-a888-b08dc5ba23d4",
   "metadata": {
    "tags": []
   },
   "outputs": [],
   "source": [
    "a = 1 + 2\n",
    "print(a)"
   ]
  },
  {
   "cell_type": "code",
   "execution_count": null,
   "id": "34f4c743-630b-4576-a653-86493ba0d2b2",
   "metadata": {},
   "outputs": [],
   "source": [
    "# b = 2 + 2\n",
    "# print(b)"
   ]
  },
  {
   "cell_type": "code",
   "execution_count": null,
   "id": "8c76e2b9-2c64-4781-8b6e-78d37a85637a",
   "metadata": {},
   "outputs": [],
   "source": []
  },
  {
   "cell_type": "markdown",
   "id": "09c3cebf-2be4-4d0a-bf4e-c36a51f508aa",
   "metadata": {},
   "source": [
    "# 数値計算  \n",
    "詳細：https://note.nkmk.me/python-arithmetic-operator/  \n",
    "代数演算子：+,　-,　\\*,　/,　//（商）,　%（余り）,　\\*\\*（べき乗）  "
   ]
  },
  {
   "cell_type": "code",
   "execution_count": null,
   "id": "7b5cc5be-55ef-4ddf-9980-f336ebedab19",
   "metadata": {},
   "outputs": [],
   "source": [
    "# print(5)"
   ]
  },
  {
   "cell_type": "code",
   "execution_count": null,
   "id": "57352d83-6062-42d7-96e0-92364f1a45a4",
   "metadata": {},
   "outputs": [],
   "source": [
    "# 5"
   ]
  },
  {
   "cell_type": "code",
   "execution_count": null,
   "id": "32e543ea-8b61-4099-b0fd-c8b38b15e6ce",
   "metadata": {},
   "outputs": [],
   "source": [
    "1 + 3"
   ]
  },
  {
   "cell_type": "code",
   "execution_count": null,
   "id": "c0874b54-059f-4273-b94d-db4755fd1cf6",
   "metadata": {},
   "outputs": [],
   "source": [
    "# print(2 - 4)\n",
    "# print(6 ** 2)"
   ]
  },
  {
   "cell_type": "code",
   "execution_count": null,
   "id": "83592e05-1512-4017-832e-2cb645cca4e7",
   "metadata": {},
   "outputs": [],
   "source": [
    "# 10 * 10\n",
    "\n"
   ]
  },
  {
   "cell_type": "code",
   "execution_count": null,
   "id": "a0a3190f-3d77-4c1e-bac5-52fe8170b561",
   "metadata": {},
   "outputs": [],
   "source": [
    "# print(10 / 3)\n",
    "# print(10 // 3)\n",
    "# print(10 % 3)\n",
    "\n"
   ]
  },
  {
   "cell_type": "code",
   "execution_count": null,
   "id": "eaef9e70-f072-42c0-bbef-e73083f4f8db",
   "metadata": {},
   "outputs": [],
   "source": []
  },
  {
   "cell_type": "markdown",
   "id": "d2e0cb4f-4f8b-44b8-84d4-63f3f4e8e568",
   "metadata": {
    "tags": []
   },
   "source": [
    "# 文字の処理  \n",
    "- 文字の入力： `\"\"`（ダブルコート） or `''`（シングルコート）  \n",
    "- 文字の結合： `+`  \n",
    "- 文字のn回繰り返し： `moji*n`  \n",
    "- n文字目抜取： `moji[n-1]`（0始まり）, `moji[m:n-1]`（m文字目からn-1文字目まで抜取）  \n",
    "- 左(右)n個取り出し： `moji[:n]`, `moji[-n:]`  \n",
    "- 文字の置換： `moji.replace(\"置換対象の文字列\",\"置き換え後の文字列\")`  \n",
    "- 改行文字： `\\n`  \n",
    "- タブ： `\\t`  \n",
    "\n",
    "- ファイル、フォルダ指定：➀`'\\*\\*\\*/\\*\\*\\*/\\*\\*\\*'`（スラッシュ区切り）  \n",
    "　　　　　　　　　　　　➁`'\\*\\*\\*\\\\\\\\*\\*\\*\\\\\\\\*\\*\\*'`（バックスラッシュ区切り2個）  \n",
    "　　　　　　　　　　　　➂`r'\\*\\*\\*\\\\*\\*\\*\\\\*\\*\\*'`（rをつけてバックスラッシュ区切り1個） **★ファイルパスには、常に使う**　参考：[エスケープシーケンスを使用する](https://www.javadrive.jp/python/string/index2.html)"
   ]
  },
  {
   "cell_type": "code",
   "execution_count": null,
   "id": "b2a32b41-d2ac-4d7d-86d0-c5fa35b82f9f",
   "metadata": {},
   "outputs": [],
   "source": [
    "# 'moji1'"
   ]
  },
  {
   "cell_type": "code",
   "execution_count": null,
   "id": "3bb352e8-d85c-4bef-9b26-48004ceffeb0",
   "metadata": {},
   "outputs": [],
   "source": [
    "# \"darumasan\" + \"ga\" + \"koronda\""
   ]
  },
  {
   "cell_type": "code",
   "execution_count": null,
   "id": "cf16bbad-f74a-467d-8a49-9e0bbec17279",
   "metadata": {},
   "outputs": [],
   "source": [
    "# \"moji1\" * 3"
   ]
  },
  {
   "cell_type": "code",
   "execution_count": 1,
   "id": "d648d2e7-b06e-4056-bad5-b80739b4f6b7",
   "metadata": {},
   "outputs": [
    {
     "data": {
      "text/plain": [
       "'o'"
      ]
     },
     "execution_count": 1,
     "metadata": {},
     "output_type": "execute_result"
    }
   ],
   "source": [
    "\"moji1\"[1]\n"
   ]
  },
  {
   "cell_type": "code",
   "execution_count": 2,
   "id": "35d7ff76-7d6a-43fd-9250-9c68bf83617b",
   "metadata": {},
   "outputs": [
    {
     "data": {
      "text/plain": [
       "'文字1'"
      ]
     },
     "execution_count": 2,
     "metadata": {},
     "output_type": "execute_result"
    }
   ],
   "source": [
    " \"moji1\".replace(\"moji\",\"文字\")\n",
    "\n"
   ]
  },
  {
   "cell_type": "code",
   "execution_count": null,
   "id": "232d06b0-ebba-4fa7-986b-18b0ec0742a7",
   "metadata": {},
   "outputs": [],
   "source": [
    "# # 正しく表示されない\n",
    "# print(\"C:\\Desktop\\aaa\\bbb\")\n",
    "\n",
    "# # 正しく表示される\n",
    "# print(r\"C:\\Desktop\\aaa\\bbb\")\n"
   ]
  },
  {
   "cell_type": "code",
   "execution_count": null,
   "id": "f40fb5af-79eb-4753-909e-ecf4fa2e4268",
   "metadata": {},
   "outputs": [],
   "source": []
  },
  {
   "attachments": {
    "5330afa2-7ab2-449f-8fe0-a959112ac07a.png": {
     "image/png": "[encoded data removed]"
    }
   },
   "cell_type": "markdown",
   "id": "692f93c3-206b-4c97-8b71-b7fd76448b45",
   "metadata": {},
   "source": [
    "# 変数\n",
    "- 変数：　プログラミング上でデータを保持するためのメモリ上の領域、つまり「データを格納するためのハコ」につけた名前、ラベルのようなもの  \n",
    "![image.png](attachment:5330afa2-7ab2-449f-8fe0-a959112ac07a.png)  \n",
    "- 等式（=）の左辺に変数、右辺に代入するデータを記述する  \n",
    "　**pythonのイコールは数学のイコール（等しい）ではない。数学のイコールは比較演算子「==」を使用**\n",
    "- 変数名には全小文字 + アンダースコア（_）区切りが推奨されている。文字はアルファベットのみ（日本語は普通付けない）  \n",
    "変数とは：https://www.javadrive.jp/python/var/index1.html  \n",
    "Python命名規則一覧：https://qiita.com/naomi7325/items/4eb1d2a40277361e898b　\n",
    "\n",
    "例）  \n",
    "```python\n",
    "num_a1 = 100\n",
    "    # 左辺：　「num_a1」という変数に\n",
    "    # 右辺：　変数num_a1に100を代入する\n",
    "```  \n",
    "\n",
    "■変数名の制約（変数にしてはいけないもの）…入力中に緑色になったり太字になるものは付けてはいけません。  \n",
    "- 最初の文字を数字にする（`3x`など）  \n",
    "- 演算子、アンダーバー（_）以外の記号（`text&a`、`num+`など）  \n",
    "- 予約語、キーワード（`if` や `for`など、Python の文法上特殊な意味を持つ単語）    \n",
    "- 関数、モジュール名（`list`や `pandas`など）指定できるが、本来の関数やモジュールとしての役割を失ってしまう  \n",
    "Python変数名のつけ方：https://www.lifewithpython.com/2013/02/rules-for-naming-identifiers-in-python.html  \n",
    "\n",
    "■演算子  \n",
    "代入演算子：`=`,　`a +=`,　`a -=`,　`a *=`,　`a /=`,　`a ** =`  \n",
    "比較演算子：`==`, `!=`, `<`, `>`, `<=`, `>=`, `is`, `is not`, `in`, `not in`　※if文の説明で再度解説  \n",
    "<br>\n",
    "<br>\n",
    "■文字列中に変数を埋める： [Pythonのf文字の使い方](https://gammasoft.jp/blog/python-f-string/)  \n",
    "```python\n",
    "f'moji{変数1}moji{変数2}moji'\n",
    "```\n",
    "※f文字列とは、クウォートで囲んだ文字列の前にfまたはFを付けたもので、その中に波かっこで囲まれた変数名や式があると実行時に置換してくれます。便利  "
   ]
  },
  {
   "cell_type": "code",
   "execution_count": null,
   "id": "e4971ed7-8f9b-4821-b3bf-f5a999826aa5",
   "metadata": {},
   "outputs": [],
   "source": [
    "# # 変数に値を代入\n",
    "# a_1 = 5\n",
    "# a_1"
   ]
  },
  {
   "cell_type": "code",
   "execution_count": null,
   "id": "f1a96dff-9835-42df-83b4-d2e25468f98d",
   "metadata": {},
   "outputs": [],
   "source": [
    "# # 変数に文字列を代入\n",
    "# b = \"beta\"\n",
    "# b"
   ]
  },
  {
   "cell_type": "code",
   "execution_count": null,
   "id": "af3e0673-fb23-4d84-a363-bd2137eb2d2b",
   "metadata": {},
   "outputs": [],
   "source": [
    "# # 「左辺に右辺を代入」なので、エラー発生\n",
    "# 10 = a\n",
    "# a"
   ]
  },
  {
   "cell_type": "code",
   "execution_count": null,
   "id": "120b8835-5936-40be-85a2-e7e1acf1c74b",
   "metadata": {},
   "outputs": [],
   "source": [
    "# a = 5\n",
    "# a = a + 5\n",
    "# a"
   ]
  },
  {
   "cell_type": "code",
   "execution_count": null,
   "id": "cf9b9548-e335-4eba-bc4e-5eee67239282",
   "metadata": {},
   "outputs": [],
   "source": [
    "# # 代入演算子\n",
    "\n",
    "# a += 5\n",
    "# a"
   ]
  },
  {
   "cell_type": "code",
   "execution_count": null,
   "id": "c09795e0-6389-4a62-922d-d76ff5c0f0a4",
   "metadata": {},
   "outputs": [],
   "source": [
    "# a = 5\n",
    "# print(a)\n",
    "\n",
    "# b = 10\n",
    "# b"
   ]
  },
  {
   "cell_type": "code",
   "execution_count": null,
   "id": "bc77ef61-0432-440e-a4fd-f1bac3d48ca2",
   "metadata": {},
   "outputs": [],
   "source": [
    "# # 補足。最後に変数を記入すると自動的にprintされる\n",
    "# a = 5\n",
    "# a += 5\n",
    "# print(a)\n",
    "\n",
    "# b = 15\n",
    "# b += 15\n",
    "# b"
   ]
  },
  {
   "cell_type": "code",
   "execution_count": null,
   "id": "1976812d-ecf8-4874-a242-22f7ece9fe44",
   "metadata": {},
   "outputs": [],
   "source": [
    "# a = 'moji1'\n",
    "# a"
   ]
  },
  {
   "cell_type": "code",
   "execution_count": null,
   "id": "07cd1a46-0243-4a19-9107-a5570c156686",
   "metadata": {},
   "outputs": [],
   "source": [
    "# b = 'moji2'\n",
    "# b"
   ]
  },
  {
   "cell_type": "code",
   "execution_count": null,
   "id": "bf138e68-3bf8-404a-9699-a9313ad1660f",
   "metadata": {},
   "outputs": [],
   "source": [
    "# a + b"
   ]
  },
  {
   "cell_type": "code",
   "execution_count": null,
   "id": "163decc8-9fa6-46ab-8485-f0064f3c333e",
   "metadata": {},
   "outputs": [],
   "source": [
    "# a = 'moji1'\n",
    "\n",
    "# aに\"moji1\"が代入されているので、a*3 は　\"moji1\"*3と同じ\n",
    "# a*3\n"
   ]
  },
  {
   "cell_type": "code",
   "execution_count": null,
   "id": "4fc7cbbd-839c-4d8d-965b-c66c412939fb",
   "metadata": {},
   "outputs": [],
   "source": [
    "# a = 'moji1'\n",
    "\n",
    "# aに\"moji1\"が代入されているので、a[1] は　\"moji1\"[1]と同じ\n",
    "# a[1]\n"
   ]
  },
  {
   "cell_type": "code",
   "execution_count": null,
   "id": "72e9216f-1803-4736-8086-cf6d57c697cc",
   "metadata": {},
   "outputs": [],
   "source": [
    "# a = \"moji1\"\n",
    "# a = a.replace(\"moji\", \"文字\")\n",
    "# a\n",
    "\n",
    "# # aに置き換え後の文字列を代入しているので、aには\"moji1\"ではなく\"文字1\"が入っている"
   ]
  },
  {
   "cell_type": "code",
   "execution_count": null,
   "id": "50a64e9c-7eff-404d-b618-bb6f3bf811fa",
   "metadata": {},
   "outputs": [],
   "source": [
    "# a = \"値\"\n",
    "# b = 2500\n",
    "\n",
    "# print(\"この式の\", a, \"は\", b, \"である\")\n",
    "# f\"この式の{a}は{b}である\""
   ]
  },
  {
   "cell_type": "markdown",
   "id": "7658ed20-c0c4-498d-b1d6-eb9a4d04f713",
   "metadata": {},
   "source": [
    "# データの型（かた）  \n",
    "\n",
    "参考: https://ai-inter1.com/python-data_type/  \n",
    "\n",
    "■データの型  \n",
    "\n",
    "【単独のデータ（要素）】  \n",
    "- int型：整数　→1, -10, 3210　など  \n",
    "- float型：小数点　→1.0, 23.45　など  \n",
    "- str型：文字列　→\"Hello\", 'str'　など  \n",
    "- bool型：真偽値　→TrueかFalseで表されるもの   \n",
    "- object型：dataframeで出現する文字列扱いされたデータの塊 https://note.nkmk.me/python-pandas-dtype-astype/  \n",
    "※日時の型はややこしいので、21_時間操作.ipynbで説明 \n",
    "\n",
    "【データのかたまり（要素を集めたもの）】  \n",
    "- list型：リスト　＝順番を考慮したデータの集まり。※後で習います  \n",
    "-　(tuple型：タプル　＝リストと同じく「順番を考慮したデータの集まり」だが、生成後に変更ができない。\n",
    "- dict型：辞書　＝対応するデータの組み合わせ\n",
    "\n",
    "```python\n",
    "# リスト　＜角かっこ[]でくくる＞\n",
    "list_ex = [1, 2, 3]\n",
    "\n",
    "# タプル　＜丸かっこ()でくくる＞\n",
    "tuple_ex = (1981, 1984, 1986)\n",
    "\n",
    "# 辞書　＜波かっこ{}でくくり、コロン:で対応させる＞\n",
    "dict_ex = {\"名前\":\"伸一\", \"身長\":182, \"年齢\":49, \"所属\":\"Dx推進センター\"}\n",
    "```\n",
    "\n",
    "<br>\n",
    "■型の確認  \n",
    "\n",
    "```python\n",
    "a = 100\n",
    "type(a)  \n",
    "```\n",
    "<br>\n",
    "■型の変換  \n",
    "\n",
    "```python\n",
    "a = 100\n",
    "a = str(a)  # 文字型に変換\n",
    "a = int(a)  # 整数型に変換\n",
    "a = float(a)  # 浮動小数点型に変換\n",
    "```"
   ]
  },
  {
   "cell_type": "code",
   "execution_count": null,
   "id": "08ca5113-1d57-4abb-a20e-7b4dcf9867eb",
   "metadata": {},
   "outputs": [],
   "source": [
    "# a = 1\n",
    "# print(a)\n",
    "# type(a)\n"
   ]
  },
  {
   "cell_type": "code",
   "execution_count": null,
   "id": "be0d1e4f-9f78-4b56-9771-30f3f3e4bc48",
   "metadata": {},
   "outputs": [],
   "source": [
    "# a = str(1)\n",
    "\n",
    "# print(a)\n",
    "# type(a)"
   ]
  },
  {
   "cell_type": "code",
   "execution_count": null,
   "id": "6c4753cf-1b8c-4748-914e-0cf7a0a00dba",
   "metadata": {},
   "outputs": [],
   "source": [
    "# b = \"1\"\n",
    "# print(b)\n",
    "# type(b)\n"
   ]
  },
  {
   "cell_type": "code",
   "execution_count": null,
   "id": "ebbaae77-7d1c-4496-8d13-48eed3f5edb2",
   "metadata": {},
   "outputs": [],
   "source": [
    "# b = int(b)\n",
    "\n",
    "# print(b)\n",
    "# type(b)"
   ]
  },
  {
   "cell_type": "code",
   "execution_count": null,
   "id": "d7bb1774-23e6-4f0a-968e-375f72f2537c",
   "metadata": {},
   "outputs": [],
   "source": [
    "# a = 2000\n",
    "# b = \"円\"\n",
    "# print(type(a))\n",
    "# print(type(b))\n",
    "\n",
    "# # 型が違うのでエラー\n",
    "# a + b\n",
    "\n",
    "# # # 型を一緒にしてから足す\n",
    "# # str(a) + b  # →　OK"
   ]
  },
  {
   "cell_type": "code",
   "execution_count": null,
   "id": "cf654fc2-05c6-4bc5-9acd-0139bf58e4f9",
   "metadata": {},
   "outputs": [],
   "source": []
  },
  {
   "cell_type": "markdown",
   "id": "d3e66622-45c4-46ee-a702-61691b3c1492",
   "metadata": {},
   "source": [
    "# 【おまけ】関数  \n",
    "\n",
    "- Excelの関数だと思ったら良いですが、書き方や式の内容は違います。  \n",
    "やりたいことがあれば、まずはWebで検索してください。\n",
    "\n",
    "→PowerPoint資料へGo"
   ]
  }
 ],
 "metadata": {
  "kernelspec": {
   "display_name": "Python 3 (ipykernel)",
   "language": "python",
   "name": "python3"
  },
  "language_info": {
   "codemirror_mode": {
    "name": "ipython",
    "version": 3
   },
   "file_extension": ".py",
   "mimetype": "text/x-python",
   "name": "python",
   "nbconvert_exporter": "python",
   "pygments_lexer": "ipython3",
   "version": "3.9.13"
  },
  "toc-autonumbering": true
 },
 "nbformat": 4,
 "nbformat_minor": 5
}
