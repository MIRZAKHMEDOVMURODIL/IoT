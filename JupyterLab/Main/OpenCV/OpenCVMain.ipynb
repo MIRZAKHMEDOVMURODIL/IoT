{
 "cells": [
  {
   "cell_type": "code",
   "execution_count": 1,
   "id": "311173f0-072c-4ea5-99ac-f9996aa9fdde",
   "metadata": {},
   "outputs": [],
   "source": [
    "import cv2\n",
    "import numpy as np\n",
    "import glob\n",
    "import os\n",
    "\n",
    "def detect_contours(file_paths):\n",
    "    \n",
    "    for file_path in file_paths:\n",
    "        # Load the image\n",
    "        img = cv2.imdecode(np.fromfile(file_path, dtype=np.uint8), cv2.IMREAD_UNCHANGED)        \n",
    "\n",
    "        # Convert from BGR to HSV color space\n",
    "        hsv = cv2.cvtColor(img, cv2.COLOR_BGR2HSV)\n",
    "\n",
    "        # Set the color detection threshold\n",
    "        lower = np.array([0, 30, 110])\n",
    "        upper = np.array([360, 150, 255])\n",
    "\n",
    "        # Apply thresholding to obtain a binary image\n",
    "        dst = cv2.inRange(hsv, lower, upper)\n",
    "\n",
    "        # Apply morphological transformations to remove noise and smooth the image\n",
    "        kernel = np.ones((5,5),np.uint8)\n",
    "        dst = cv2.erode(dst, kernel, iterations=3)\n",
    "        dst = cv2.dilate(dst, kernel, iterations=3)\n",
    "\n",
    "        # Find contours in the binary image\n",
    "        contours, hierarchy = cv2.findContours(dst, cv2.RETR_EXTERNAL, cv2.CHAIN_APPROX_SIMPLE)\n",
    "\n",
    "        # Draw the largest contour (assumed to be the boundary of the electrode pattern)\n",
    "        if len(contours) > 0:\n",
    "            largest_contour = max(contours, key=cv2.contourArea)\n",
    "            cv2.drawContours(img, [largest_contour], 0, (0, 0, 255), 3)\n",
    "\n",
    "        # Save the output image with the same filename as input, in the output directory\n",
    "        output_dir = r\"C:\\Users\\00220401626\\Desktop\\OutputFile\"\n",
    "        output_file_name = os.path.join(output_dir, os.path.basename(file_path))\n",
    "        cv2.imencode('.jpg', img)[1].tofile(output_file_name.encode('utf-8'))\n",
    "\n",
    "if __name__ == '__main__':\n",
    "    files = glob.glob(r\"C:\\Users\\00220401626\\Desktop\\InputFile\\*.jpg\")\n",
    "    detect_contours(files)\n"
   ]
  },
  {
   "cell_type": "markdown",
   "id": "fb228c86-88fd-4929-9dfd-c8afbf28f745",
   "metadata": {},
   "source": [
    "### For one image"
   ]
  },
  {
   "cell_type": "code",
   "execution_count": 2,
   "id": "096d51dc-14ba-461e-abbd-4f781732300a",
   "metadata": {},
   "outputs": [
    {
     "ename": "error",
     "evalue": "OpenCV(4.7.0) D:\\a\\opencv-python\\opencv-python\\opencv\\modules\\imgproc\\src\\color.cpp:182: error: (-215:Assertion failed) !_src.empty() in function 'cv::cvtColor'\n",
     "output_type": "error",
     "traceback": [
      "\u001b[1;31m---------------------------------------------------------------------------\u001b[0m",
      "\u001b[1;31merror\u001b[0m                                     Traceback (most recent call last)",
      "Cell \u001b[1;32mIn [2], line 9\u001b[0m\n\u001b[0;32m      6\u001b[0m img \u001b[38;5;241m=\u001b[39m cv2\u001b[38;5;241m.\u001b[39mimread(\u001b[38;5;124mr\u001b[39m\u001b[38;5;124m\"\u001b[39m\u001b[38;5;124mC:\u001b[39m\u001b[38;5;124m\\\u001b[39m\u001b[38;5;124mUsers\u001b[39m\u001b[38;5;124m\\\u001b[39m\u001b[38;5;124m00220401626\u001b[39m\u001b[38;5;124m\\\u001b[39m\u001b[38;5;124mDesktop\u001b[39m\u001b[38;5;124m\\\u001b[39m\u001b[38;5;124mInputFile\u001b[39m\u001b[38;5;124m\\\u001b[39m\u001b[38;5;124mNo20-1-右.-加工.jpg\u001b[39m\u001b[38;5;124m\"\u001b[39m)\n\u001b[0;32m      8\u001b[0m \u001b[38;5;66;03m#BGR色空間からHSV色空間への変換\u001b[39;00m\n\u001b[1;32m----> 9\u001b[0m hsv \u001b[38;5;241m=\u001b[39m \u001b[43mcv2\u001b[49m\u001b[38;5;241;43m.\u001b[39;49m\u001b[43mcvtColor\u001b[49m\u001b[43m(\u001b[49m\u001b[43mimg\u001b[49m\u001b[43m,\u001b[49m\u001b[43m \u001b[49m\u001b[43mcv2\u001b[49m\u001b[38;5;241;43m.\u001b[39;49m\u001b[43mCOLOR_BGR2HSV\u001b[49m\u001b[43m)\u001b[49m\n\u001b[0;32m     11\u001b[0m \u001b[38;5;66;03m#色検出しきい値の設定\u001b[39;00m\n\u001b[0;32m     12\u001b[0m \u001b[38;5;66;03m# lower = np.array([0,60,150])\u001b[39;00m\n\u001b[0;32m     13\u001b[0m \u001b[38;5;66;03m# upper = np.array([360,90,255])\u001b[39;00m\n\u001b[0;32m     15\u001b[0m lower \u001b[38;5;241m=\u001b[39m np\u001b[38;5;241m.\u001b[39marray([\u001b[38;5;241m0\u001b[39m, \u001b[38;5;241m60\u001b[39m, \u001b[38;5;241m110\u001b[39m])\n",
      "\u001b[1;31merror\u001b[0m: OpenCV(4.7.0) D:\\a\\opencv-python\\opencv-python\\opencv\\modules\\imgproc\\src\\color.cpp:182: error: (-215:Assertion failed) !_src.empty() in function 'cv::cvtColor'\n"
     ]
    }
   ],
   "source": [
    "import cv2\n",
    "import numpy as np\n",
    "\n",
    "\n",
    "#画像データの読み込み\n",
    "img = cv2.imread(r\"C:\\Users\\00220401626\\Desktop\\InputFile\\No20-1-右.-加工.jpg\")\n",
    "\n",
    "#BGR色空間からHSV色空間への変換\n",
    "hsv = cv2.cvtColor(img, cv2.COLOR_BGR2HSV)\n",
    "\n",
    "#色検出しきい値の設定\n",
    "# lower = np.array([0,60,150])\n",
    "# upper = np.array([360,90,255])\n",
    "\n",
    "lower = np.array([0, 60, 110])\n",
    "upper = np.array([360, 150, 255])\n",
    "\n",
    "# 2値化\n",
    "dst = cv2.inRange(hsv, lower, upper)\n",
    "\n",
    "# モロフォロジー変換（erode:収縮、dilate:拡大）\n",
    "kernel = np.ones((5,5),np.uint8)\n",
    "dst = cv2.erode(dst, kernel, iterations=1)\n",
    "dst = cv2.dilate(dst, kernel, iterations=4)\n",
    "dst = cv2.erode(dst, kernel, iterations=4)\n",
    "\n",
    "# find contours in the binary image\n",
    "contours, _ = cv2.findContours(dst, cv2.RETR_EXTERNAL, cv2.CHAIN_APPROX_SIMPLE)\n",
    "\n",
    "# draw the largest contour (assumed to be the boundary of the electrode pattern)\n",
    "largest_contour = max(contours, key=cv2.contourArea)\n",
    "# cv2.drawContours(img, [largest_contour], 0, (0, 255, 0), 2)\n",
    "cv2.drawContours(img, [largest_contour], 0, (0, 0, 255), 2)\n",
    "\n",
    "\n",
    "# cv2.imshow(\"input\", img)\n",
    "# cv2.imshow(\"img\", dst)\n",
    "cv2.imwrite(\"thresholded_image1.jpg\", img)\n",
    "         \n",
    "if cv2.waitKey(0) & 0xFF == ord('q'):\n",
    "    cv2.destroyAllWindows()"
   ]
  },
  {
   "cell_type": "code",
   "execution_count": null,
   "id": "e628b75f-a896-4c99-9dd5-7d768c390541",
   "metadata": {},
   "outputs": [],
   "source": []
  }
 ],
 "metadata": {
  "kernelspec": {
   "display_name": "Python 3 (ipykernel)",
   "language": "python",
   "name": "python3"
  },
  "language_info": {
   "codemirror_mode": {
    "name": "ipython",
    "version": 3
   },
   "file_extension": ".py",
   "mimetype": "text/x-python",
   "name": "python",
   "nbconvert_exporter": "python",
   "pygments_lexer": "ipython3",
   "version": "3.9.13"
  }
 },
 "nbformat": 4,
 "nbformat_minor": 5
}
