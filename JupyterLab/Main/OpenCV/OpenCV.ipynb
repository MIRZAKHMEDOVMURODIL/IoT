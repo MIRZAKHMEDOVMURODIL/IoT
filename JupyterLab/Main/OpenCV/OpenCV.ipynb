{
 "cells": [
  {
   "cell_type": "code",
   "execution_count": 3,
   "id": "0d13ce78-ee4f-4b9d-8dbb-61569127b505",
   "metadata": {},
   "outputs": [],
   "source": [
    "import cv2\n",
    "import numpy as np\n",
    "import glob\n",
    "import os"
   ]
  },
  {
   "cell_type": "code",
   "execution_count": 1,
   "id": "a88fb6ff-e6b1-4773-9147-93f8c05fd372",
   "metadata": {},
   "outputs": [
    {
     "ename": "NameError",
     "evalue": "name 'glob' is not defined",
     "output_type": "error",
     "traceback": [
      "\u001b[1;31m---------------------------------------------------------------------------\u001b[0m",
      "\u001b[1;31mNameError\u001b[0m                                 Traceback (most recent call last)",
      "Cell \u001b[1;32mIn [1], line 36\u001b[0m\n\u001b[0;32m     34\u001b[0m \u001b[38;5;28;01mif\u001b[39;00m \u001b[38;5;18m__name__\u001b[39m \u001b[38;5;241m==\u001b[39m \u001b[38;5;124m'\u001b[39m\u001b[38;5;124m__main__\u001b[39m\u001b[38;5;124m'\u001b[39m:\n\u001b[0;32m     35\u001b[0m     output_dir \u001b[38;5;241m=\u001b[39m \u001b[38;5;124mr\u001b[39m\u001b[38;5;124m\"\u001b[39m\u001b[38;5;124mC:\u001b[39m\u001b[38;5;124m\\\u001b[39m\u001b[38;5;124mUsers\u001b[39m\u001b[38;5;124m\\\u001b[39m\u001b[38;5;124m00220401626\u001b[39m\u001b[38;5;124m\\\u001b[39m\u001b[38;5;124mDesktop\u001b[39m\u001b[38;5;124m\\\u001b[39m\u001b[38;5;124mOutputFile\u001b[39m\u001b[38;5;124m\"\u001b[39m\n\u001b[1;32m---> 36\u001b[0m     files \u001b[38;5;241m=\u001b[39m \u001b[43mglob\u001b[49m\u001b[38;5;241m.\u001b[39mglob(\u001b[38;5;124mr\u001b[39m\u001b[38;5;124m\"\u001b[39m\u001b[38;5;124mC:\u001b[39m\u001b[38;5;124m\\\u001b[39m\u001b[38;5;124mUsers\u001b[39m\u001b[38;5;124m\\\u001b[39m\u001b[38;5;124m00220401626\u001b[39m\u001b[38;5;124m\\\u001b[39m\u001b[38;5;124mDesktop\u001b[39m\u001b[38;5;124m\\\u001b[39m\u001b[38;5;124mInputFile\u001b[39m\u001b[38;5;124m\\\u001b[39m\u001b[38;5;124m*.jpg\u001b[39m\u001b[38;5;124m\"\u001b[39m)\n\u001b[0;32m     37\u001b[0m     detect_contours(files)\n",
      "\u001b[1;31mNameError\u001b[0m: name 'glob' is not defined"
     ]
    }
   ],
   "source": [
    "def detect_contours(file_paths):\n",
    "    \n",
    "    for file_path in file_paths:\n",
    "        # Load the image\n",
    "        img = cv2.imdecode(np.fromfile(file_path, dtype=np.uint8), cv2.IMREAD_UNCHANGED)        \n",
    "\n",
    "        # Convert from BGR to HSV color space\n",
    "        hsv = cv2.cvtColor(img, cv2.COLOR_BGR2HSV)\n",
    "\n",
    "        # Set the color detection threshold\n",
    "        lower = np.array([0, 30, 110])\n",
    "        upper = np.array([360, 150, 255])\n",
    "\n",
    "        # Apply thresholding to obtain a binary image\n",
    "        dst = cv2.inRange(hsv, lower, upper)\n",
    "\n",
    "        # Apply morphological transformations to remove noise and smooth the image\n",
    "        kernel = np.ones((5,5),np.uint8)\n",
    "        dst = cv2.erode(dst, kernel, iterations=3)\n",
    "        dst = cv2.dilate(dst, kernel, iterations=3)\n",
    "\n",
    "        # Find contours in the binary image\n",
    "        contours, hierarchy = cv2.findContours(dst, cv2.RETR_EXTERNAL, cv2.CHAIN_APPROX_SIMPLE)\n",
    "\n",
    "        # Draw the largest contour (assumed to be the boundary of the electrode pattern)\n",
    "        if len(contours) > 0:\n",
    "            largest_contour = max(contours, key=cv2.contourArea)\n",
    "            cv2.drawContours(img, [largest_contour], 0, (0, 0, 255), 3)\n",
    "\n",
    "        # Save the output image with the same filename as input, in the output directory        \n",
    "        output_file_name = os.path.join(output_dir, os.path.basename(file_path))\n",
    "        cv2.imencode('.jpg', img)[1].tofile(output_file_name.encode('utf-8'))\n",
    "\n",
    "if __name__ == '__main__':\n",
    "    output_dir = r\"C:\\Users\\00220401626\\Desktop\\OutputFile\"\n",
    "    files = glob.glob(r\"C:\\Users\\00220401626\\Desktop\\InputFile\\*.jpg\")\n",
    "    detect_contours(files)\n"
   ]
  },
  {
   "cell_type": "code",
   "execution_count": null,
   "id": "da4128a7-c7ac-4fce-af13-810f7f6687ce",
   "metadata": {},
   "outputs": [],
   "source": []
  }
 ],
 "metadata": {
  "kernelspec": {
   "display_name": "Python 3 (ipykernel)",
   "language": "python",
   "name": "python3"
  },
  "language_info": {
   "codemirror_mode": {
    "name": "ipython",
    "version": 3
   },
   "file_extension": ".py",
   "mimetype": "text/x-python",
   "name": "python",
   "nbconvert_exporter": "python",
   "pygments_lexer": "ipython3",
   "version": "3.10.1"
  }
 },
 "nbformat": 4,
 "nbformat_minor": 5
}
