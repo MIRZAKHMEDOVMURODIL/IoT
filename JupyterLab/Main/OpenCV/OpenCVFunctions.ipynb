{
 "cells": [
  {
   "cell_type": "code",
   "execution_count": null,
   "id": "95587725-d95a-4d48-a0a0-17d18bcb21be",
   "metadata": {},
   "outputs": [],
   "source": [
    "1. Image Filtering: cv2.filter2D(), cv2.blur(), cv2.GaussianBlur(), cv2.medianBlur(), cv2.bilateralFilter()\n",
    "\n",
    "2. Image Resizing: cv2.resize(), cv2.interpolation()\n",
    "\n",
    "3. Image Segmentation: cv2.inRange(), cv2.findContours(), cv2.connectedComponents()\n",
    "\n",
    "4. Image Thresholding: cv2.threshold(), cv2.adaptiveThreshold()\n",
    "\n",
    "5. Edge Detection: cv2.Canny(), cv2.Laplacian(), cv2.Sobel()\n",
    "\n",
    "6. Image Clustering: cv2.kmeans(), cv2.cluster()"
   ]
  },
  {
   "cell_type": "code",
   "execution_count": null,
   "id": "b0ffc9e9-0a87-4c7e-bda9-d2a4a1da1a6c",
   "metadata": {},
   "outputs": [],
   "source": [
    "1. cv2.imread() - Read an image from a file.\n",
    "2. cv2.imshow() - Show an image in a window.\n",
    "3. cv2.cvtColor() - Convert an image from one color format to another.\n",
    "4. cv2.calcHist() - Calculate a histogram of an image.\n",
    "5. cv2.threshold() - Apply a threshold to an image.\n",
    "6. cv2.Canny() - Detect edges in an image.\n",
    "7. cv2.HoughLines() - Find lines in an image.\n",
    "8. cv2.findContours() - Find shapes in an image.\n",
    "9. cv2.matchTemplate() - Find a template in an image.\n",
    "10. cv2.goodFeaturesToTrack() - Find salient points in an image.\n",
    "11. cv2.calcOpticalFlowPyrLK() - Track feature points in a video.\n",
    "12. cv2.trainCascadeClassifier() - Train a cascade classifier for object detection.\n",
    "13. cv2.faceRecognize() - Recognize faces in an image.\n",
    "14. cv2.calcBackProject() - Calculate a histogram back projection.\n",
    "15. cv2.meanShift() - Apply a mean shift algorithm to an image."
   ]
  },
  {
   "cell_type": "code",
   "execution_count": 3,
   "id": "b49aa87d-e2ab-4704-bfdb-f32821db83c1",
   "metadata": {},
   "outputs": [
    {
     "data": {
      "text/plain": [
       "-1"
      ]
     },
     "execution_count": 3,
     "metadata": {},
     "output_type": "execute_result"
    }
   ],
   "source": []
  },
  {
   "cell_type": "code",
   "execution_count": null,
   "id": "b6f1b7cb-0e6c-42ca-9dc1-94f2125d5693",
   "metadata": {},
   "outputs": [],
   "source": []
  }
 ],
 "metadata": {
  "kernelspec": {
   "display_name": "Python 3 (ipykernel)",
   "language": "python",
   "name": "python3"
  },
  "language_info": {
   "codemirror_mode": {
    "name": "ipython",
    "version": 3
   },
   "file_extension": ".py",
   "mimetype": "text/x-python",
   "name": "python",
   "nbconvert_exporter": "python",
   "pygments_lexer": "ipython3",
   "version": "3.9.13"
  }
 },
 "nbformat": 4,
 "nbformat_minor": 5
}
