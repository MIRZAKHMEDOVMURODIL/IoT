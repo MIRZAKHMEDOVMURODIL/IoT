{
 "cells": [
  {
   "cell_type": "code",
   "execution_count": null,
   "id": "86c65581-40b7-4dec-b773-e04bf4430b35",
   "metadata": {},
   "outputs": [],
   "source": [
    "for time,speed,speed2,fh_ave,sh_ave,Ctcmd in zip(eq_selected['lt'], eq_selected['SPEED(1/min)'],eq_selected['SPEED(1/min)'].iloc[3:],eq_selected['fh_s'],eq_selected['sh_s'],eq_selected['C軸_TCMD(%)'].iloc[1000:]):\n",
    "    if (speed > 10.0) & (speed <= 2500.0) & (speed2 >= 3000.0) & (fh_ave > 3300.0) & (Ctcmd < 0):\n",
    "        eqtime_list_s.append(time)#加工開始\n",
    "        if sh_ave >= 3000.0:\n",
    "            eqtime_list_g.append(time + datetime.timedelta(minutes=9,seconds=55))#910加工終了\n",
    "        elif sh_ave < 3000.0:\n",
    "            eqtime_list_g.append(time + datetime.timedelta(minutes=6,seconds=58))#1214加工終了\n"
   ]
  },
  {
   "cell_type": "code",
   "execution_count": null,
   "id": "eec33318-1d95-4ff9-bb5c-c95bb8c0aad5",
   "metadata": {},
   "outputs": [],
   "source": [
    "for LOT in LOT_LIST_1214:    \n",
    "    #FLAGで絞り込み\n",
    "    td_0 = td.loc[(td[\"FLAG\"] == 0) & (td[\"LotNo\"] == LOT)]\n",
    "    #期間を設定\n",
    "    START = td_0.iloc[0][\"開始時間\"]\n",
    "    FINISH = td_0.iloc[-1][\"終了時間\"]"
   ]
  },
  {
   "cell_type": "code",
   "execution_count": null,
   "id": "42b6fe87-88c3-4d81-b30e-95767d053715",
   "metadata": {},
   "outputs": [],
   "source": [
    "for a,b in zip(df_comb['eq_加工開始時間'],df_comb['eq_加工終了時間']):\n",
    "    df_output = eq.loc[(eq['lt'] >= a) & (eq['lt'] <= b)] \n",
    "    if df_output.empty:\n",
    "        pass\n",
    "    else:\n",
    "        out_file = output_dir + filename[i-1] +\" \"+ LOT + '-' + str(i).zfill(3) + \".csv\"\n",
    "        df_output.to_csv(out_file, index=False,encoding=\"cp932\")\n",
    "        i+=1"
   ]
  },
  {
   "cell_type": "code",
   "execution_count": null,
   "id": "dce1d93a-1ba3-4582-9cf4-1153ddf85e85",
   "metadata": {},
   "outputs": [],
   "source": [
    "for index, row in eq_selected.iterrows(): \n",
    "    start = index\n",
    "    end = start + 1300\n",
    "    eq_selected.loc[index, 'fh_s'] = eq_selected.loc[start:end, 'SPEED(1/min)'].mean()"
   ]
  },
  {
   "cell_type": "code",
   "execution_count": null,
   "id": "146ffd10-6bb7-4c27-b1df-73bbbb44db00",
   "metadata": {},
   "outputs": [],
   "source": [
    "for col in eq.columns[1:]:\n",
    "    eq[col] = eq[col].astype(float)"
   ]
  },
  {
   "cell_type": "code",
   "execution_count": null,
   "id": "d6a32ada-d183-41db-9220-36798fbb0b96",
   "metadata": {},
   "outputs": [],
   "source": [
    "eq = eq.rename(columns={'TCMD.2(%)':'B軸_TCMD(%)','TCMD.3(%)':'C軸_TCMD(%)','TCMD.4(%)':'スピンドル_TCMD(%)'})"
   ]
  },
  {
   "cell_type": "code",
   "execution_count": null,
   "id": "c4e25526-7214-42fd-b708-7e55a6b40b07",
   "metadata": {},
   "outputs": [],
   "source": [
    "eq_selected.fillna(0, inplace=True)"
   ]
  },
  {
   "cell_type": "code",
   "execution_count": null,
   "id": "46b98ce9-4fb8-4de0-b25c-82f8d3dbf571",
   "metadata": {},
   "outputs": [],
   "source": [
    "Timedata_Path = r'C:\\Users\\00220401626\\Desktop\\General\\05_グライディングセンタ\\05_グライディングセンタ\\time_data\\*.csv'\n",
    "files2 = glob.glob(Timedata_Path)\n",
    "df_list = [ pd.read_csv(file,encoding=\"cp932\") for file in files2]\n",
    "time_data = pd.concat(df_list, axis = 0, ignore_index=True)"
   ]
  },
  {
   "cell_type": "code",
   "execution_count": null,
   "id": "b06c1c6c-402c-4560-8178-e4a1c3244ac4",
   "metadata": {},
   "outputs": [],
   "source": [
    "eq_selected = eq_selected.sort_values('lt').reset_index(drop=True)"
   ]
  },
  {
   "cell_type": "code",
   "execution_count": null,
   "id": "52cca618-601e-4f6e-a2c1-f74ab9485409",
   "metadata": {},
   "outputs": [],
   "source": [
    "eq = eq.drop(['Time(msec)','POSF(mm)','POSF.1(mm)'],axis=1)"
   ]
  },
  {
   "cell_type": "code",
   "execution_count": null,
   "id": "45bb7b87-42c9-4cae-8a35-0ec4d103d08e",
   "metadata": {},
   "outputs": [],
   "source": [
    "pd.set_option('display.max_rows', 20)"
   ]
  },
  {
   "cell_type": "code",
   "execution_count": null,
   "id": "15d0f326-b0d4-421f-ab3c-7a8218446f8a",
   "metadata": {},
   "outputs": [],
   "source": [
    "df_comb[\"file\"].dropna()"
   ]
  }
 ],
 "metadata": {
  "kernelspec": {
   "display_name": "Python 3 (ipykernel)",
   "language": "python",
   "name": "python3"
  },
  "language_info": {
   "codemirror_mode": {
    "name": "ipython",
    "version": 3
   },
   "file_extension": ".py",
   "mimetype": "text/x-python",
   "name": "python",
   "nbconvert_exporter": "python",
   "pygments_lexer": "ipython3",
   "version": "3.9.13"
  }
 },
 "nbformat": 4,
 "nbformat_minor": 5
}
