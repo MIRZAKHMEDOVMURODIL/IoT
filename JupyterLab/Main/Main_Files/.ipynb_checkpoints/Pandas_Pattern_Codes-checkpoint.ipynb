{
 "cells": [
  {
   "cell_type": "markdown",
   "id": "ea3bb8d8-6c8d-456a-8ac1-811bfc40dd79",
   "metadata": {},
   "source": [
    "### Mostly_used Functions"
   ]
  },
  {
   "cell_type": "code",
   "execution_count": null,
   "id": "0b2481dc-68c6-48ea-b7f9-7309acb258e2",
   "metadata": {},
   "outputs": [],
   "source": [
    "head(), tail(), info(), describe(), shape(), count(), unique(), nunique(), duplicated(), isin(), isna(), corr()\n",
    "\n",
    "mean(), median(), mode(), sum(), min(), max(), cumsum(),  cummax(), cummin(), cumprod()\n",
    "\n",
    "drop_duplicates(), dropna(), drop(), fillna(), replace(), rename(), apply(), stack(), unstack()\n",
    "\n",
    "value_counts(), sort_values(), sort_index(), set_index(),  reset_index()\n",
    "\n",
    "loc[],  iloc[], at[], iat[], query()\n",
    "\n",
    "groupby(), pivot_table(), pivot()\n",
    "\n",
    "concat(), merge(), join(),  melt()\n",
    "\n",
    "astype(),  cov(),  shift(),  diff(),  rolling(), expanding(), interpolate(), transform(), explode()\n",
    "\n",
    "# df['column'].mode()\n",
    "# df['column'].std()\n",
    "# df['column'].var()\n",
    "# df['column'].cumsum()\n",
    "# df['column'].cummax()\n",
    "# df['column'].cummin()\n",
    "# df['column'].quantile(q)"
   ]
  },
  {
   "cell_type": "markdown",
   "id": "01bea4dc-0778-4a69-80f8-05794bbfb14b",
   "metadata": {},
   "source": [
    "### Reading and Writing files"
   ]
  },
  {
   "cell_type": "code",
   "execution_count": null,
   "id": "51f0ecee-6ec2-4a34-a3b1-d4ca21698464",
   "metadata": {},
   "outputs": [],
   "source": [
    "pd.set_option('display.max_rows', None)\n",
    "pd.set_option('display.max_columns', None)\n",
    "pd.options.display.max_rows = 10\n",
    "pd.options.display.max_columns = None\n",
    "\n",
    "pd.read_csv('sample.csv', encoding='utf-8', header=0, parse_dates=True,index_col='column')\n",
    "pd.read_csv('data.csv', encoding = 'shift-jis',sheet_name='sheet_name', header=0)\n",
    "pd.read_excel('sample.xlsx', sheet_name='sheet_name')\n",
    "\n",
    "df.to_excel(output_dir + \"file.xlsx\",index=False,encoding=\"cp932\")\n",
    "df.to_csv(out_file, header=True, index=False, encoding=\"cp932\")\n",
    "df.to_csv(\"file.xlsx\", index=False,encoding=\"cp932\")\n",
    "df = out_dir + filename[i-1] +\" \"+ LOT + '-' + str(i).zfill(3) + \".csv\"\n"
   ]
  },
  {
   "cell_type": "code",
   "execution_count": null,
   "id": "f8c2857f-4f54-458d-85dd-bf24d58b1245",
   "metadata": {},
   "outputs": [],
   "source": [
    "path = glob.glob(file_path)\n",
    "df_list = [pd.read_csv(file, encoding=\"cp932\",index=False) for file in path]\n",
    "df = pd.concat(df_list, axis=0, ignore_index=True)"
   ]
  },
  {
   "cell_type": "code",
   "execution_count": null,
   "id": "36b1487c-13b0-4307-a470-455757451f10",
   "metadata": {},
   "outputs": [],
   "source": [
    "files = glob.glob(output_dir+\"*.csv\")                 #glob\n",
    "dfs = []\n",
    "for file in files:\n",
    "    i = pd.read_csv(file,encoding=\"cp932\")\n",
    "    dfs.append(i)\n",
    "df = pd.concat(dfs, axis=0)"
   ]
  },
  {
   "cell_type": "code",
   "execution_count": null,
   "id": "bab75b60-ef42-4c0e-9ae9-dfa5414ba1d6",
   "metadata": {},
   "outputs": [],
   "source": [
    "df = pd.DataFrame(columns=[\"A\", \"B\", \"C\"])            # os.walk\n",
    "for root, dirs, files in os.walk(r\"C:\\Users\\00220401626\\Desktop\"):\n",
    "    for f in files:\n",
    "        if f.endswith(\".csv\"):  # check if file is a CSV\n",
    "            full = os.path.join(root, f)\n",
    "            df1 = pd.read_csv(full)\n",
    "            df = pd.concat([df, df1], axis=0, ignore_index=True)"
   ]
  },
  {
   "cell_type": "code",
   "execution_count": null,
   "id": "090a5d49-2b79-4ddf-a29f-b6bc70697b99",
   "metadata": {},
   "outputs": [],
   "source": [
    "for index, row in df.iterrows()\n",
    "t = os.path.getmtime(p)\n",
    "df.append(time + datetime.timedelta(minutes=6,seconds=58))\n",
    "df= df.to_numpy().tolist()"
   ]
  },
  {
   "cell_type": "code",
   "execution_count": null,
   "id": "7678e81b-44fc-4974-940a-a696266f72a0",
   "metadata": {},
   "outputs": [],
   "source": [
    "openpyxl"
   ]
  },
  {
   "cell_type": "markdown",
   "id": "191cb8e0-5b39-40e2-b7db-f7f8cd7cebd1",
   "metadata": {},
   "source": [
    "### DataFrame Statistics "
   ]
  },
  {
   "cell_type": "code",
   "execution_count": null,
   "id": "a07fa0e1-b192-49ab-8644-f9754de9dde8",
   "metadata": {},
   "outputs": [],
   "source": [
    "df.head()\n",
    "df.tail()\n",
    "df.info()\n",
    "df.describe()\n",
    "df.shape()\n",
    "df.count()\n",
    "\n",
    "df['column'].min()\n",
    "df['column'].max()\n",
    "df['column'].mean()\n",
    "df['column'].median()\n",
    "df['column'].sum()\n",
    "df['column'].unique()\n",
    "df['column'].nunique()\n",
    "df['column'].isna().sum()\n",
    "df['column'].isnull().sum()\n",
    "df['column'].notna().sum()\n",
    "df['column'].notnull().sum()\n",
    "df['column'].isin(['value1', 'value2'])\n",
    "df['column'].notna().sum()\n",
    "df['column'].duplicated().sum()\n",
    "(df['column'] == 'ABS').values.sum()\n",
    "df['column'].value_counts()['value1']\n",
    "\n",
    "df[df['column'].isin([2010])]\n",
    "df[df['column'].isin(['A','B'])]\n",
    "df[df['column'].str.contains('a')]\n",
    "df[df['column'].str.startswith('b')]\n",
    "df[df['column'].str.endswith('c')]\n",
    "df[df['column'] == 2015]\n",
    "df[df['column'] == 'A']\n",
    "df[df['column'] == df['column'].max()]\n",
    "df[['column_1', 'column_2']][:5]\n",
    "df[df['column'].str.contains('Paris')]\n",
    "\n",
    "df.resample('10D').sum()\n",
    "df.resample(\"D\").mean()\n",
    "df.resample(\"M\").max()\n",
    "df.resample(\"M\").min()\n",
    "df.resample(\"Q\").agg([\"sum\", \"mean\", \"max\", \"min\"])\n",
    "df.resample('W').agg(['min', 'max', 'sum'])                     \n",
    "\n",
    "df.index.weekday\n",
    "df['X'][0].year\n",
    "df['X'][0].weekday_name\n",
    "df[df.index.weekday == 0]\n",
    "df[df.index.weekday == 0].mean()\n",
    "df = df.set_index(df.index.weekday)"
   ]
  },
  {
   "cell_type": "markdown",
   "id": "176b1fd5-29ce-487b-a4c9-525c1b8e150a",
   "metadata": {},
   "source": [
    "### Cleaning DataFrame"
   ]
  },
  {
   "cell_type": "code",
   "execution_count": null,
   "id": "fa801571-c48d-41be-8766-409b75ec2ff6",
   "metadata": {},
   "outputs": [],
   "source": [
    "df[0:3]\n",
    "df[:3]\n",
    "df[9:14]\n",
    "df[100:105]\n",
    "df['2020-08-15':'2020-09-14']\n",
    "df = df[df[\"column_1\"] == 'a']\n",
    "df = df[df[\"column_1\"] == 5]df=df[(df[\"column_1\"] == '5') | (df[\"column_2\"] == '10') | (df[\"column_3\"] == '15')]\n",
    "df[\"column_3\"] = df[\"column_1\"] + \"-\" + df[\"column_2\"]\n",
    "df[\"column\"] = df[\"column\"].astype(str)\n",
    "df['column_1'] = df['column'].str[-15:-4]\n",
    "df['column'] = np.abs(df['column'])\n",
    "df['column'] = df['column'].apply(lambda x: x*2)\n",
    "df[df['A'] % 10 == 0]\n",
    "df[(df['column_1'] == 2015) & (df['column_2'] == 'A')]\n",
    "df[(df['column_1'] == 2010) | (df['column_2'] == 2015)]\n",
    "df.query('year == 2010')\n",
    "df.query('year > 2010')\n",
    "df.query('column == A')\n",
    "df.query('column_1 == 2010 or column_2 == 2015')\n",
    "df.query('column == \"A\" and column == 2015')\n",
    "df = df.rename(columns={'a': 'A'})\n",
    "df.insert(loc = 0, column= \"column_name\", value= str(d)) \n",
    "df['column'] = df.name.str.split(\" \", expand=True) # bitta column ni ikkiga bo'ladi"
   ]
  },
  {
   "cell_type": "code",
   "execution_count": null,
   "id": "b11e6186-1fa2-4e88-a83f-2a6216b81a9b",
   "metadata": {},
   "outputs": [],
   "source": [
    "df = df.loc[:,['column_1','column_2']]\n",
    "df = df.loc[(df['column_1'] >= a) & (df['column_2'] <= b)] \n",
    "df = df.loc[df['column_1'] > 20, ['column_2', 'column_3']]\n",
    "df.loc[:, 'old_column'] = 'new_column'   # Rename columns using loc[] \n",
    "df = df.loc[::step]\n",
    "df = df.iloc[[1, 3], [0, 2]]\n",
    "df.iloc[:, 2] = 'new_column'             # Rename columns using  iloc[]"
   ]
  },
  {
   "cell_type": "code",
   "execution_count": null,
   "id": "e695888f-c70e-4740-b9a3-ae631a9de862",
   "metadata": {},
   "outputs": [],
   "source": [
    "df.sort_values(\"column\", ascending=False, inplace=True)\n",
    "df.sort_values(by='column', ascending=False)\n",
    "df.sort_values(by=['column_1','column_2'], ascending=False)\n",
    "df.sort_values(by=['column_1','column_2','column_3'], ascending=[False,True,False])\n",
    "df.sort_values(by='column', ascending=False, na_position='first')\n",
    "df.sort_values(by='column', ascending=False, na_position='last')\n",
    "df.sort_values(by='column', ascending=False, axis=1)\n",
    "df.sort_values(by='column', ascending=False, axis=0)\n",
    "df.sort_values(by='column', ascending=False, inplace=True)\n",
    "df.sort_index(ascending=False, inplace=True, na_position='first')"
   ]
  },
  {
   "cell_type": "code",
   "execution_count": null,
   "id": "a5953aea-f56d-4270-9342-829db0d307a7",
   "metadata": {},
   "outputs": [],
   "source": [
    "df.dropna(how='any', axis='index')\n",
    "df.drop_duplicates(subset=['column_1', 'column_2'], inplace = True)\n",
    "df.fillna(0, inplace=True)\n",
    "df[\"column\"].fillna(0, inplace = True)\n",
    "df['column_1'].fillna(df['column_1'].mean(), inplace=True)"
   ]
  },
  {
   "cell_type": "code",
   "execution_count": null,
   "id": "e813c152-205f-4af8-ad7a-8fd74d91d963",
   "metadata": {},
   "outputs": [],
   "source": [
    "df.reset_index(inplace=True)\n",
    "df.loc[df['column'] == value].reset_index(drop=True)\n",
    "df = df.sort_values(['column']).reset_index(drop=True)\n",
    "df.reindex(columns=['column_1', 'column_2','column_3'], inplace=True)\n",
    "df.set_index('column')\n",
    "df.rename(columns={'column_1': '1', 'column_2': '2','column_3':'3'}, inplace=True)\n",
    "df['City'] = df['City'].replace('Paris', 'Margilon')\n",
    "df1['City'] = df1['City'].astype(str).replace({'New York': 'Old', 'Tokyo': 'Rome'})\n",
    "df['column'].str.strip()\n",
    "df = df.strip('aaa')"
   ]
  },
  {
   "cell_type": "code",
   "execution_count": 1,
   "id": "92a0d974-704e-4589-88c4-98189e1b83e0",
   "metadata": {
    "collapsed": true,
    "jupyter": {
     "outputs_hidden": true
    },
    "tags": []
   },
   "outputs": [
    {
     "ename": "SyntaxError",
     "evalue": "unmatched ')' (3879864686.py, line 13)",
     "output_type": "error",
     "traceback": [
      "\u001b[1;36m  Cell \u001b[1;32mIn [1], line 13\u001b[1;36m\u001b[0m\n\u001b[1;33m    df.filter(items=['value_1', 'value_2'], axis=0))\u001b[0m\n\u001b[1;37m                                                   ^\u001b[0m\n\u001b[1;31mSyntaxError\u001b[0m\u001b[1;31m:\u001b[0m unmatched ')'\n"
     ]
    }
   ],
   "source": [
    "df.filter(items=['value_1' , 'value_2'], axis=0))\n",
    "df.filter(items=['column_1' , 'column_2'], axis=1))\n",
    "df.filter(items=['column_1', 'column_2']).filter(items=['value_1', 'value_2'], axis=0))"
   ]
  },
  {
   "cell_type": "code",
   "execution_count": null,
   "id": "7cc622db-ea70-4733-af1e-adbfe33f268d",
   "metadata": {},
   "outputs": [],
   "source": [
    "df.round('H')\n",
    "df['column'] = df['column'].dt.round(\"s\")\n",
    "pd.to_datetime(df['column'], format='%Y年%m月%d日 %H時%M分')\n",
    "df[\"column\"] = pd.to_datetime(df[\"column\"]) + pd.to_timedelta(df[\"column\"]/1000, \"S\")\n",
    "df['column'] = pd.to_datetime(df['column'],unit='ms').dt.strftime('%H:%M:%S:%f').str[:-3]\n",
    "df = datetime.datetime(year=2017, month=10, day=10, hour=15)\n",
    "df.datetime.fromtimestamp(a).strftime('%Y/%m/%d %H:%M:%S.%f')[:-3]                #最終更新日時をタイムスタンプ型に変換\n",
    "df['column'] = pd.to_datetime(df['column'], format='%Y年%m月%d日')\n",
    "df = pd.RangeIndex(start=1, stop=len(d.index) + 1, step=1)\n",
    "df[\"column\"] = df[\"column\"].apply(lambda x: mojimoji.zen_to_han(x) )"
   ]
  },
  {
   "cell_type": "markdown",
   "id": "e0100e73-0c90-4d89-b2b5-3bcda237bb6b",
   "metadata": {},
   "source": [
    "### Gathering DataFrames"
   ]
  },
  {
   "cell_type": "code",
   "execution_count": 1,
   "id": "e1596e60-1189-42a3-badf-d6e81dea3304",
   "metadata": {
    "collapsed": true,
    "jupyter": {
     "outputs_hidden": true
    },
    "tags": []
   },
   "outputs": [
    {
     "ename": "NameError",
     "evalue": "name 'd' is not defined",
     "output_type": "error",
     "traceback": [
      "\u001b[1;31m---------------------------------------------------------------------------\u001b[0m",
      "\u001b[1;31mNameError\u001b[0m                                 Traceback (most recent call last)",
      "Cell \u001b[1;32mIn [1], line 1\u001b[0m\n\u001b[1;32m----> 1\u001b[0m d \u001b[38;5;241m=\u001b[39m \u001b[43md\u001b[49m\u001b[38;5;241m.\u001b[39msort_values(\u001b[38;5;124m\"\u001b[39m\u001b[38;5;124mDATETIME_S\u001b[39m\u001b[38;5;124m\"\u001b[39m) \n\u001b[0;32m      3\u001b[0m pd\u001b[38;5;241m.\u001b[39mto_datetime(df[\u001b[38;5;124m'\u001b[39m\u001b[38;5;124mB\u001b[39m\u001b[38;5;124m'\u001b[39m], \u001b[38;5;28mformat\u001b[39m\u001b[38;5;241m=\u001b[39m\u001b[38;5;124m'\u001b[39m\u001b[38;5;124m%\u001b[39m\u001b[38;5;124mY年\u001b[39m\u001b[38;5;124m%\u001b[39m\u001b[38;5;124mm月\u001b[39m\u001b[38;5;132;01m%d\u001b[39;00m\u001b[38;5;124m日 \u001b[39m\u001b[38;5;124m%\u001b[39m\u001b[38;5;124mH時\u001b[39m\u001b[38;5;124m%\u001b[39m\u001b[38;5;124mM分\u001b[39m\u001b[38;5;124m'\u001b[39m)\n\u001b[0;32m      5\u001b[0m serial_num \u001b[38;5;241m=\u001b[39m pd\u001b[38;5;241m.\u001b[39mRangeIndex(start\u001b[38;5;241m=\u001b[39m\u001b[38;5;241m1\u001b[39m, stop\u001b[38;5;241m=\u001b[39m\u001b[38;5;28mlen\u001b[39m(d\u001b[38;5;241m.\u001b[39mindex) \u001b[38;5;241m+\u001b[39m \u001b[38;5;241m1\u001b[39m, step\u001b[38;5;241m=\u001b[39m\u001b[38;5;241m1\u001b[39m)\n",
      "\u001b[1;31mNameError\u001b[0m: name 'd' is not defined"
     ]
    }
   ],
   "source": [
    "df.groupby['column'].min()\n",
    "df.groupby['column'].max()\n",
    "df.groupby('column').mean()\n",
    "df.groupby('column').max()\n",
    "df.groupby['column'].mean()\n",
    "df.groupby['column'].median()\n",
    "df.groupby('column').std(numeric_only=True)\n",
    "df.groupby('column')['activity'].value_counts()\n",
    "df.groupby('column')['activity'].value_counts().unstack().fillna(0)\n",
    "df['column_2'] = df.groupby(['column_1']).cumcount()+1            #Sequence number of each element starting from 1\n",
    "df['column_3'] = df.groupby(['column_1','column_2']).cumcount()   #Sequence number of each element starting from 0\n",
    "df[['column_1','column_2']].groupby(['column_3','column_4']).mean()\n",
    "df[['column_1','column_2']].groupby('column_3').agg(['mean','sum','count','max','min','std','var'])"
   ]
  },
  {
   "cell_type": "code",
   "execution_count": null,
   "id": "ca4961c8-2ff7-41ae-9f61-11b667d9e34d",
   "metadata": {},
   "outputs": [],
   "source": [
    "df.pivot(index='col01', columns='col02',values='col03')\n",
    "df.pivot_table(index='column_1', columns='column_2',values='column_3',\n",
    "               aggfunc=['describe','sum','mean','count'], margins=True, margins_name='合計')\n",
    "df.pivot_table(index='price',columns='mileage',values='column3')\n",
    "df.applymap('{:,.0f}'.format)"
   ]
  },
  {
   "cell_type": "code",
   "execution_count": null,
   "id": "237545c5-e33b-4a4d-b8d6-e6d17d50997b",
   "metadata": {},
   "outputs": [],
   "source": [
    "pd.concat([df1, df2], axis=0, join='outer', ignore_index=True)\n",
    "df = pd.merge(df1,df2,on='price',how='inner')\n",
    "df = df.merge(df.loc[:,['column_1','column_2']],how=\"inner\",on='column_1')\n",
    "df = pd.merge(df1 , df2 ,how='left' ,on=['column_1', 'column_2'])\n",
    "pd.merge(df1 ,df2, how='left', left_on=['column_1','column_2'], right_on=['column_1','column_2'], \n",
    "         suffixes=['_left', '_right'])\n",
    "pd.merge(df01 ,df02,left_index=True, how='outer', right_on='column',sort=True, indicator=True)\n",
    "df = df1.join(df2,on='price',how='inner')\n",
    "                    "
   ]
  }
 ],
 "metadata": {
  "kernelspec": {
   "display_name": "Python 3 (ipykernel)",
   "language": "python",
   "name": "python3"
  },
  "language_info": {
   "codemirror_mode": {
    "name": "ipython",
    "version": 3
   },
   "file_extension": ".py",
   "mimetype": "text/x-python",
   "name": "python",
   "nbconvert_exporter": "python",
   "pygments_lexer": "ipython3",
   "version": "3.9.13"
  }
 },
 "nbformat": 4,
 "nbformat_minor": 5
}
