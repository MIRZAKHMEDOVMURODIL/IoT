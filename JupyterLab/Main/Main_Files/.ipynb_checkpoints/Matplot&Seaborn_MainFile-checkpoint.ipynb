{
 "cells": [
  {
   "cell_type": "markdown",
   "id": "14803abe-86ad-4ec0-8abb-24dda422b020",
   "metadata": {},
   "source": [
    "### Seaborn"
   ]
  },
  {
   "cell_type": "code",
   "execution_count": null,
   "id": "8421f417-0d58-4092-af41-92aa8d5a664e",
   "metadata": {},
   "outputs": [],
   "source": [
    "sns.barplot(x=df['Month'], y=df['AA'])\n",
    "sns.lineplot(x=df['column_1'], y=df['column_2'])\n",
    "sns.histplot(data=df, x ='column_1')\n",
    "sns.scatterplot(data=df, x='column_1', y='column_2', hue=None, size=None, style=None)\n",
    "sns.pairplot(data, hue=None, diag_kind='hist', kind='scatter', markers=None)\n",
    "sns.displot(data=df, x='column_1', hue='column_2', kind=\"ecdf\",multiple=\"stack\", height=5, aspect=2)\n",
    "sns.heatmap(data=df.corr(),cmap= sns.color_palette('coolwarm', 10), annot=True,fmt='.2f', vmin = -1, vmax = 1)\n",
    "sns.catplot(data=df,  x='column_1', y='column_2', kind=\"bar\", hue = 'column_3')\n",
    "sns.lmplot(data=df, x='column_1', y='column_2', col=\"time\", hue=\"smoker\")\n",
    "sns.relplot(data=df, x='column_1', y='column_2', col=\"time\",hue=\"smoker\", style=\"smoker\", size=\"size\")\n",
    "sns.kdeplot(data=df, x='column_1', hue='column_2', shade=True)\n",
    "sns.ecdfplot(data=df, x=\"column_1\", hue=\"column_2\")\n",
    "sns.plt.savefig()"
   ]
  },
  {
   "cell_type": "markdown",
   "id": "93b7dab1-1a98-479d-bf34-7f115a57c5aa",
   "metadata": {},
   "source": [
    "### Matplotlib"
   ]
  },
  {
   "cell_type": "code",
   "execution_count": null,
   "id": "4f53e774-e315-44a5-8854-14d5a9e717f6",
   "metadata": {},
   "outputs": [],
   "source": [
    "plt.bar(x, y, color='#3498DB', alpha=0.8)\n",
    "plt.scatter(x, y, color='#2ECC71', alpha=0.8, s=100)\n",
    "plt.plot(x, y, linewidth=1.5, linestyle='-.', color='#8E44AD', alpha=0.7, marker='h', markersize=10)\n",
    "plt.hist(x, bins=10, color='#F39C12', alpha=0.8, edgecolor='#34495E')\n",
    "plt.pie(sizes, labels=labels, colors=colors, autopct='%1.1f%%', startangle=90, shadow=True)\n",
    "plt.boxplot(data)"
   ]
  },
  {
   "cell_type": "markdown",
   "id": "209f79bf-63e9-43b1-831b-5f46e3e3acb1",
   "metadata": {},
   "source": [
    "### Plotly_Express"
   ]
  },
  {
   "cell_type": "code",
   "execution_count": null,
   "id": "28bbd32a-7b07-4841-b5ff-f6ae65a3e9ad",
   "metadata": {},
   "outputs": [],
   "source": [
    "fig = px.imshow(f.corr(), \n",
    "                text_auto=True)  \n",
    "fig.update_layout( width=1000,height=1000,uniformtext_minsize=0.5)\n",
    "fig.show()"
   ]
  },
  {
   "cell_type": "markdown",
   "id": "ffc83120-54d1-434f-b580-a09e8120942f",
   "metadata": {},
   "source": [
    "### Pattern_Code"
   ]
  },
  {
   "cell_type": "code",
   "execution_count": null,
   "id": "e6b554ac-1dc8-4083-9dfa-aa6050603d52",
   "metadata": {},
   "outputs": [],
   "source": [
    "plt.figure(figsize=(12,6))\n",
    "plt.subplot(2,1,2)\n",
    "plt.title()\n",
    "plt.xlabel('xlabel'fontsize=14)\n",
    "plt.ylabel('ylabel'fontsize=14)\n",
    "plt.xlim()\n",
    "plt.ylim()\n",
    "plt.xticks(rotation=90,fontsize=14)\n",
    "plt.yticks(rotation=90,fontsize=14)\n",
    "plt.legend([\"OK\", \"NG\"], fontsize=10, loc=2)\n",
    "plt.gird(which='both',color='tomato', alpha=0.5, linestyle='--')\n",
    "plt.show()"
   ]
  },
  {
   "cell_type": "markdown",
   "id": "eab9ddcd-42ec-4fb8-8993-aca104be816e",
   "metadata": {},
   "source": [
    "### Multiple_Code"
   ]
  },
  {
   "cell_type": "code",
   "execution_count": null,
   "id": "a966a931-a71a-48f6-a596-e635a8f94736",
   "metadata": {},
   "outputs": [],
   "source": [
    "fig, ax = plt.subplots(2, 2, figsize=(15,10))\n",
    "\n",
    "fig.suptitle(\"Grafik 2\")\n",
    "sns.histplot(ax=ax[0, 0], data=df, x='column_1')\n",
    "sns.histplot(ax=ax[0, 1], data=df, x='column_2')\n",
    "sns.scatterplot(ax=ax[1, 0], data=df, x=df['column_1'], y=df['column_2'], hue=\"fuelType\", s=50)\n",
    "sns.scatterplot(ax=ax[1, 1], data=df, x=df['column_1'], y=df['column_2'], hue=\"fuelType\", s=50)\n",
    "\n",
    "ax[0,0].set_title(\"Price distribution\")\n",
    "ax[0,1].set_title(\"Mileage distribution\")\n",
    "ax[1,0].set_title(\"Price vs Year correlation\")\n",
    "ax[1,1].set_title(\"Mileage vs Year correlation\")\n",
    "\n",
    "ax.set_xlabel()\n",
    "ax.set_ylable()\n",
    "ax.set_zlabel()\n",
    "sns.set_context(\"paper\", font_scale=1.5, rc={\"lines.linewidth\": 2.5})\n",
    "plt.subplots_adjust(left=0.15, bottom=0.15, top=0.9, right=0.9)\n",
    "\n",
    "plt.show()"
   ]
  },
  {
   "cell_type": "code",
   "execution_count": null,
   "id": "c4a231b6-273f-4de8-8ae4-a05a1fa98875",
   "metadata": {},
   "outputs": [],
   "source": [
    "fig = px.scatter_matrix(df_graph,  \n",
    "                        dimensions = ['column_1', 'column_2', 'column_3']  # グラフを描く列\n",
    "                        color = \"judge\"                        \n",
    "                       )\n",
    "fig.update_layout( width=1000,height=1000,uniformtext_minsize=0.5)\n",
    "\n",
    "sxmin = '2021-11-16'\n",
    "sxmax = '2021-11-17'\n",
    "xmin = datetime.datetime.strptime(sxmin, '%Y-%m-%d')\n",
    "xmax = datetime.datetime.strptime(sxmax, '%Y-%m-%d')"
   ]
  },
  {
   "cell_type": "markdown",
   "id": "3824d46b-2170-49c1-9412-2482c79ca46b",
   "metadata": {},
   "source": [
    "### Used_Codes"
   ]
  },
  {
   "cell_type": "code",
   "execution_count": null,
   "id": "c816d181-e0c3-4c39-a70c-b00c199f749b",
   "metadata": {},
   "outputs": [],
   "source": [
    "df['income_cat'].hist(figsize=(9,6))\n",
    "df['median_income'].hist(bins=50, figsize=(9,6))"
   ]
  },
  {
   "cell_type": "code",
   "execution_count": null,
   "id": "cc822957-09eb-419f-8b49-0368a8db2b96",
   "metadata": {},
   "outputs": [],
   "source": [
    "for i in d['column']:\n",
    "    if i == 'H200504' or i=='H201101' or i=='H220403' or i=='H211103':\n",
    "        d.loc[d['column'] == i, 'judge'] = 'NG'\n",
    "    else:\n",
    "        d.loc[d['column'] == i, 'judge'] = 'OK' \n",
    "        \n",
    "fig = px.scatter_matrix(d, \n",
    "                        dimensions = ['column_1', 'column_2', 'column_3']\n",
    "                        color = \"judge\" )"
   ]
  },
  {
   "cell_type": "code",
   "execution_count": null,
   "id": "d798999f-eee1-4179-b21a-f8a2c43388e9",
   "metadata": {},
   "outputs": [],
   "source": [
    "a = ['H200504','H201101','H210403','H211103','H210801_H210802']\n",
    "for j in a:\n",
    "    df3 = df_cleaned.loc[df_cleaned[\"ロット\"] == j]\n",
    "    df3.reset_index(drop=True, inplace=True)\n",
    "\n",
    "    plt.figure(figsize=(9,9))\n",
    "    sns.kdeplot(x='column', data=df3, shade=True, color='green')\n",
    "    plt.xlim(0.204,0.217)\n",
    "    plt.title(j + 'column')\n",
    "    plt.show()\n",
    "\n",
    "    plt.figure(figsize=(9,9))\n",
    "    sns.kdeplot(x='ピークパワー(w)', data=df1, shade=True, color='green')\n",
    "    plt.xlim(200,280)\n",
    "    plt.title(j + 'ピークパワー(w)')\n",
    "    plt.show()\n",
    "\n",
    "    plt.figure(figsize=(9,9))\n",
    "    sns.kdeplot(x='ストローク(mm)', data=df1, shade=True, color='green')\n",
    "    plt.xlim(74.725,74.8)\n",
    "    plt.title(j + 'ストローク(mm)')\n",
    "    plt.show()\n",
    "\n",
    "    plt.figure(figsize=(9,9))\n",
    "    sns.kdeplot(x='速度(mm/s)', data=df1, shade=True, color='green')\n",
    "    plt.xlim(47,54)\n",
    "    plt.title(j + '速度(mm/s)')\n",
    "    plt.show()"
   ]
  },
  {
   "cell_type": "code",
   "execution_count": null,
   "id": "25a939ba-1b06-4369-8e0d-a703d245d9d6",
   "metadata": {},
   "outputs": [],
   "source": [
    "----------------------------------------------------------------------------------------------------------------------\n",
    "\n",
    "fig, ax = plt.subplots(2, 2, figsize=(15,10))\n",
    "# Umumiy chizma nomini beramiz:\n",
    "fig.suptitle(\"Grafik 2\")\n",
    "sns.histplot(ax=ax[0, 0], data=df, x='price')\n",
    "sns.histplot(ax=ax[0, 1], data=df, x='mileage')\n",
    "sns.scatterplot(ax=ax[1, 0], data=df, x=df['year'], y=df['price'], hue=\"fuelType\", s=50)\n",
    "sns.scatterplot(ax=ax[1, 1], data=df, x=df['year'], y=df['mileage'], hue=\"fuelType\", s=50)\n",
    "# Har bir grafik uchun nom:\n",
    "ax[0,0].set_title(\"Price distribution\")\n",
    "ax[0,1].set_title(\"Mileage distribution\")\n",
    "ax[1,0].set_title(\"Price vs Year correlation\")\n",
    "ax[1,1].set_title(\"Mileage vs Year correlation\")\n",
    "plt.show()\n",
    "\n",
    "-----------------------------------------------------------------------------------------------------------------------\n",
    "ax.set_xlabel()\n",
    "ax.set_ylable()\n",
    "ax.set_zlabel()\n",
    "plt.subplots_adjust(left=0.15, bottom=0.15, top=0.9, right=0.9)\n",
    "------------------------------------------------------------------------------------------------------------------------\n",
    "df['income_cat'] = pd.cut(df['median_income'], bins=[0., 1.5, 3.0, 4.5, 6.0, np.inf], labels=[1,2,3,4,5])\n",
    "df['income_cat'].hist(figsize=(9,6))\n",
    "df['median_income'].hist(bins=50, figsize=(9,6))\n",
    "\n"
   ]
  }
 ],
 "metadata": {
  "kernelspec": {
   "display_name": "Python 3 (ipykernel)",
   "language": "python",
   "name": "python3"
  },
  "language_info": {
   "codemirror_mode": {
    "name": "ipython",
    "version": 3
   },
   "file_extension": ".py",
   "mimetype": "text/x-python",
   "name": "python",
   "nbconvert_exporter": "python",
   "pygments_lexer": "ipython3",
   "version": "3.9.13"
  }
 },
 "nbformat": 4,
 "nbformat_minor": 5
}
