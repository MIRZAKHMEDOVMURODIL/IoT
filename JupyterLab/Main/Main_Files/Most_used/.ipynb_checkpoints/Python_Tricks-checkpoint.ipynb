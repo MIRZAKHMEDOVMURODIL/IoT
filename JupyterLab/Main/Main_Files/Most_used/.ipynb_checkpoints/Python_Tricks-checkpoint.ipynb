{
 "cells": [
  {
   "cell_type": "code",
   "execution_count": null,
   "id": "86c65581-40b7-4dec-b773-e04bf4430b35",
   "metadata": {},
   "outputs": [],
   "source": [
    "for time,speed,speed2,fh_ave,sh_ave,Ctcmd in zip(eq_selected['lt'], eq_selected['SPEED(1/min)'],eq_selected['SPEED(1/min)'].iloc[3:],eq_selected['fh_s'],eq_selected['sh_s'],eq_selected['C軸_TCMD(%)'].iloc[1000:]):\n",
    "    if (speed > 10.0) & (speed <= 2500.0) & (speed2 >= 3000.0) & (fh_ave > 3300.0) & (Ctcmd < 0):\n",
    "        eqtime_list_s.append(time)#加工開始\n",
    "        if sh_ave >= 3000.0:\n",
    "            eqtime_list_g.append(time + datetime.timedelta(minutes=9,seconds=55))#910加工終了\n",
    "        elif sh_ave < 3000.0:\n",
    "            eqtime_list_g.append(time + datetime.timedelta(minutes=6,seconds=58))#1214加工終了\n"
   ]
  },
  {
   "cell_type": "code",
   "execution_count": null,
   "id": "1e6ce0e5-0da3-4336-88d5-82ec4e25686a",
   "metadata": {},
   "outputs": [],
   "source": [
    "td[\"開始時間\"] = pd.to_datetime(td[\"開始時間\"])"
   ]
  },
  {
   "cell_type": "code",
   "execution_count": null,
   "id": "9dbc2db3-97f6-476c-849e-cb97c5f822a5",
   "metadata": {},
   "outputs": [],
   "source": [
    "df[df['Country']=='Germany']"
   ]
  },
  {
   "cell_type": "code",
   "execution_count": null,
   "id": "acdd2a05-1cef-4608-b01c-10ec3fc9d3c5",
   "metadata": {},
   "outputs": [],
   "source": [
    "bank1, bank2 = bank[:2521], bank[2521:] # bank ma'lumotlar to'plamini bank1 va bank2 ga bo'lib yuborish"
   ]
  },
  {
   "cell_type": "code",
   "execution_count": null,
   "id": "6016cda2-2cdb-4064-8478-45ac400f21ee",
   "metadata": {},
   "outputs": [],
   "source": [
    "df.groupby('company').agg([len, min, max]) #len - guruhdagi elementlar soni, min - guruh uchun minimum, max - guruh uchun maximum"
   ]
  },
  {
   "cell_type": "code",
   "execution_count": null,
   "id": "61f521f1-8a17-4f0b-943f-d57398985340",
   "metadata": {},
   "outputs": [],
   "source": [
    "df.groupby('company').price.max() #max narxlarni chiqaramiz"
   ]
  },
  {
   "cell_type": "code",
   "execution_count": null,
   "id": "bddb06d2-a3c3-4743-b5e9-53151fd749b4",
   "metadata": {},
   "outputs": [],
   "source": [
    "df.groupby('company').mean()"
   ]
  },
  {
   "cell_type": "code",
   "execution_count": null,
   "id": "85a8510c-cf87-4ede-a69f-cbfe8f3ec6ca",
   "metadata": {},
   "outputs": [],
   "source": [
    "pd.to_datetime(df['Date'], format=\"%m/%d/%Y\")"
   ]
  },
  {
   "cell_type": "code",
   "execution_count": null,
   "id": "36910996-2aff-457e-9123-88e6c11b84b5",
   "metadata": {},
   "outputs": [],
   "source": [
    "df_m = df.groupby(['month','year']).max().unstack(level=0)"
   ]
  },
  {
   "cell_type": "code",
   "execution_count": null,
   "id": "ae3d0480-7147-4704-980a-3f99beb06042",
   "metadata": {},
   "outputs": [],
   "source": [
    "'Uzbekistan' in countries['country'].values"
   ]
  },
  {
   "cell_type": "code",
   "execution_count": null,
   "id": "3fc92268-4c1d-49b0-b143-83b6b48f4aa6",
   "metadata": {},
   "outputs": [],
   "source": [
    "df['Month'] = df['datetime'].dt.month"
   ]
  },
  {
   "cell_type": "code",
   "execution_count": null,
   "id": "ec230b6b-a749-418f-92d9-3754d59488f6",
   "metadata": {},
   "outputs": [],
   "source": [
    "df['datetime'].dt.month"
   ]
  },
  {
   "cell_type": "code",
   "execution_count": null,
   "id": "d2dd1827-f1f7-442d-89ee-ab6516774046",
   "metadata": {},
   "outputs": [],
   "source": [
    "pd.to_datetime(df['Time'], format=\"%H:%M:%S\").dt.time"
   ]
  },
  {
   "cell_type": "code",
   "execution_count": null,
   "id": "951a39d8-12dc-46d0-bd09-edbd143e2308",
   "metadata": {},
   "outputs": [],
   "source": [
    "df['datetime'] = pd.to_datetime(df['Date'], format=\"%m/%d/%Y\")\n",
    "df[['datetime']].info()"
   ]
  },
  {
   "cell_type": "code",
   "execution_count": null,
   "id": "64bd6207-c89b-4780-bb74-bc84232a4884",
   "metadata": {},
   "outputs": [],
   "source": [
    "df[['Date','Time']].info()"
   ]
  },
  {
   "cell_type": "code",
   "execution_count": null,
   "id": "b177a647-6f44-421a-a014-35b29667fe13",
   "metadata": {},
   "outputs": [],
   "source": [
    "df.sample(5)"
   ]
  },
  {
   "cell_type": "code",
   "execution_count": null,
   "id": "3bf0c53c-d6cd-4fcb-859a-7ba2513827b0",
   "metadata": {},
   "outputs": [],
   "source": [
    "df[df['gender'].isin(['Male','Female'])] "
   ]
  },
  {
   "cell_type": "code",
   "execution_count": null,
   "id": "cde935e8-6cd1-4e44-98ec-5afed791be01",
   "metadata": {},
   "outputs": [],
   "source": [
    "df['age'] = df['age'].apply(np.abs)\n",
    "df.head(15)"
   ]
  },
  {
   "cell_type": "code",
   "execution_count": null,
   "id": "40c1eac0-2f61-43b0-b963-4459fec952e6",
   "metadata": {},
   "outputs": [],
   "source": [
    "df[(df.age>123) | (df.age<0)]"
   ]
  },
  {
   "cell_type": "code",
   "execution_count": null,
   "id": "cb42d544-8c6b-489c-a4f6-8d5eba89da1e",
   "metadata": {},
   "outputs": [],
   "source": [
    "df.dropna(axis=1)"
   ]
  },
  {
   "cell_type": "code",
   "execution_count": null,
   "id": "afec337f-46ec-4758-b943-6040b550da8d",
   "metadata": {},
   "outputs": [],
   "source": [
    "df2.rename(index=str.upper, columns=str.upper) # Har doimngidek o'zgarishlarni saqlab qolish uchun inplace=True qilishingiz mumkin"
   ]
  },
  {
   "cell_type": "code",
   "execution_count": null,
   "id": "75c22c7c-6fe9-42e5-8a0b-178448f3c734",
   "metadata": {},
   "outputs": [],
   "source": [
    "df.price.describe()"
   ]
  },
  {
   "cell_type": "code",
   "execution_count": null,
   "id": "1394ff65-1e50-4942-9059-1cb065d1f895",
   "metadata": {},
   "outputs": [],
   "source": [
    "df.replace(['four','six'],[4,6])"
   ]
  },
  {
   "cell_type": "code",
   "execution_count": null,
   "id": "2f6af664-bdca-4d30-a54e-41b683833b94",
   "metadata": {},
   "outputs": [],
   "source": [
    "df.dropna(axis=1, thresh=48)"
   ]
  },
  {
   "cell_type": "code",
   "execution_count": null,
   "id": "47602f67-de86-45e8-b666-a0e68f6ad0e7",
   "metadata": {},
   "outputs": [],
   "source": [
    "df['price'].map(lambda x: x*kurs)"
   ]
  },
  {
   "cell_type": "code",
   "execution_count": null,
   "id": "2cb5be1a-8eae-411f-b85f-7652b44f9eab",
   "metadata": {},
   "outputs": [],
   "source": [
    "df.drop_duplicates(['country','rank'])"
   ]
  },
  {
   "cell_type": "code",
   "execution_count": null,
   "id": "8f5083e8-96c7-41a0-83d9-713f93883816",
   "metadata": {},
   "outputs": [],
   "source": [
    "sum(df.duplicated())"
   ]
  },
  {
   "cell_type": "code",
   "execution_count": null,
   "id": "1088ff0b-c68c-431d-ac7e-f96ca55aa85e",
   "metadata": {},
   "outputs": [],
   "source": [
    "df.fillna({'horsepower':np.mean(df['horsepower']), \"wheel-base\":np.mean(df['wheel-base'])})"
   ]
  },
  {
   "cell_type": "code",
   "execution_count": null,
   "id": "b021bfd2-c377-4fb3-825f-42cbcd06ae30",
   "metadata": {},
   "outputs": [],
   "source": [
    "dfh.fillna(dfh.mean())"
   ]
  },
  {
   "cell_type": "code",
   "execution_count": null,
   "id": "e11915ff-2c17-4935-afa1-6374825b9b31",
   "metadata": {},
   "outputs": [],
   "source": [
    "dfh = df[df['body-style']=='hatchback']"
   ]
  },
  {
   "cell_type": "code",
   "execution_count": null,
   "id": "af473e14-dccd-47e2-b11b-2f0cd04bebd6",
   "metadata": {},
   "outputs": [],
   "source": [
    "df.fillna({'wheel-base':90, 'horsepower':100})"
   ]
  },
  {
   "cell_type": "code",
   "execution_count": null,
   "id": "f2053f67-bdfa-4ef1-919a-b76dd0e93143",
   "metadata": {},
   "outputs": [],
   "source": [
    "df.dropna(subset=['price'], inplace=True)"
   ]
  },
  {
   "cell_type": "code",
   "execution_count": null,
   "id": "e40f1da5-b96e-43dc-bf22-446314342b3d",
   "metadata": {},
   "outputs": [],
   "source": [
    "df.isnull().sum()"
   ]
  },
  {
   "cell_type": "code",
   "execution_count": null,
   "id": "8560ef42-15e5-45a8-9c2c-6446a0231195",
   "metadata": {},
   "outputs": [],
   "source": [
    "df3.columns.names = ['Object', 'Info'] #irarxik ustunlarga nom berish"
   ]
  },
  {
   "cell_type": "code",
   "execution_count": null,
   "id": "20e13efd-cd38-47bf-a55a-63ddfdd84494",
   "metadata": {},
   "outputs": [],
   "source": [
    "bank1, bank2, bank3 = bank[:1000], bank[1000:2000], bank[2000:]  #bank ma'lumotlar to'plamini bank1, bank2 va bank3 ga bo'lib yuborish"
   ]
  },
  {
   "cell_type": "code",
   "execution_count": null,
   "id": "d667c7b3-6a9a-4280-811c-56e145e855c7",
   "metadata": {},
   "outputs": [],
   "source": [
    "df3.swaplevel('Country', 'City') # irarxik indekslarni o'rnini almashtiradi"
   ]
  },
  {
   "cell_type": "code",
   "execution_count": null,
   "id": "eec33318-1d95-4ff9-bb5c-c95bb8c0aad5",
   "metadata": {},
   "outputs": [],
   "source": [
    "for LOT in LOT_LIST_1214:    \n",
    "    td_0 = td.loc[(td[\"FLAG\"] == 0) & (td[\"LotNo\"] == LOT)]\n",
    "    START = td_0.iloc[0][\"開始時間\"]\n",
    "    FINISH = td_0.iloc[-1][\"終了時間\"]"
   ]
  },
  {
   "cell_type": "code",
   "execution_count": null,
   "id": "8cddba12-6aed-4c64-a698-6e0beef7cdab",
   "metadata": {},
   "outputs": [],
   "source": [
    "for page in range(len(doc)):\n",
    "    text = doc[page].get_text()\n",
    "    Ti2 = text.find(\"円錐角度_円錐2\")\n",
    "    data1 = text[Ti2+6]\n",
    "    data2 = text[Ti2+4]\n",
    "    df = pd.DataFrame([[Name,name,data1,data2]],columns=[\"フォルダー名\",\"ファイル名\",\"円錐角度_測定値\",\"円錐角度_誤差値\"])\n",
    "    dp=pd.concat([dp,df],axis=0,ignore_index=True)"
   ]
  },
  {
   "cell_type": "code",
   "execution_count": null,
   "id": "42b6fe87-88c3-4d81-b30e-95767d053715",
   "metadata": {},
   "outputs": [],
   "source": [
    "for a, b in zip(df_comb['eq_加工開始時間'], df_comb['eq_加工終了時間']):\n",
    "    df_output = eq.loc[(eq['lt'] >= a) & (eq['lt'] <= b)]\n",
    "    if not df_output.empty:\n",
    "        out_file = output_dir + filename[i-1] +\" \"+ LOT + '-' + str(i).zfill(3) + \".csv\"\n",
    "        df_output.to_csv(out_file, index=False,encoding=\"cp932\")\n",
    "        i+=1"
   ]
  },
  {
   "cell_type": "code",
   "execution_count": null,
   "id": "dce1d93a-1ba3-4582-9cf4-1153ddf85e85",
   "metadata": {},
   "outputs": [],
   "source": [
    "for index, row in eq_selected.iterrows(): \n",
    "    start = index\n",
    "    end = start + 1300\n",
    "    eq_selected.loc[index, 'fh_s'] = eq_selected.loc[start:end, 'SPEED(1/min)'].mean()"
   ]
  },
  {
   "cell_type": "code",
   "execution_count": null,
   "id": "146ffd10-6bb7-4c27-b1df-73bbbb44db00",
   "metadata": {},
   "outputs": [],
   "source": [
    "for col in eq.columns[1:]:\n",
    "    eq[col] = eq[col].astype(float)"
   ]
  },
  {
   "cell_type": "code",
   "execution_count": null,
   "id": "89340637-f193-4d08-a138-7cb9a5a221db",
   "metadata": {},
   "outputs": [],
   "source": [
    "pd.pivot_table(df, values=\"D\", index=[\"A\", \"B\"], columns=[\"C\"])"
   ]
  },
  {
   "cell_type": "code",
   "execution_count": null,
   "id": "d6a32ada-d183-41db-9220-36798fbb0b96",
   "metadata": {},
   "outputs": [],
   "source": [
    "eq = eq.rename(columns={'TCMD.2(%)':'B軸_TCMD(%)','TCMD.3(%)':'C軸_TCMD(%)','TCMD.4(%)':'スピンドル_TCMD(%)'})"
   ]
  },
  {
   "cell_type": "code",
   "execution_count": null,
   "id": "c4e25526-7214-42fd-b708-7e55a6b40b07",
   "metadata": {},
   "outputs": [],
   "source": [
    "eq_selected.fillna(0, inplace=True)"
   ]
  },
  {
   "cell_type": "code",
   "execution_count": null,
   "id": "46b98ce9-4fb8-4de0-b25c-82f8d3dbf571",
   "metadata": {},
   "outputs": [],
   "source": [
    "Timedata_Path = r'C:\\Users\\00220401626\\Desktop\\General\\05_グライディングセンタ\\05_グライディングセンタ\\time_data\\*.csv'\n",
    "files2 = glob.glob(Timedata_Path)\n",
    "df_list = [ pd.read_csv(file,encoding=\"cp932\") for file in files2]\n",
    "time_data = pd.concat(df_list, axis = 0, ignore_index=True)"
   ]
  },
  {
   "cell_type": "code",
   "execution_count": null,
   "id": "b06c1c6c-402c-4560-8178-e4a1c3244ac4",
   "metadata": {},
   "outputs": [],
   "source": [
    "eq_selected = eq_selected.sort_values('lt').reset_index(drop=True)"
   ]
  },
  {
   "cell_type": "code",
   "execution_count": null,
   "id": "52cca618-601e-4f6e-a2c1-f74ab9485409",
   "metadata": {},
   "outputs": [],
   "source": [
    "eq = eq.drop(['Time(msec)','POSF(mm)','POSF.1(mm)'],axis=1)"
   ]
  },
  {
   "cell_type": "code",
   "execution_count": null,
   "id": "45bb7b87-42c9-4cae-8a35-0ec4d103d08e",
   "metadata": {},
   "outputs": [],
   "source": [
    "pd.set_option('display.max_rows', 20)"
   ]
  },
  {
   "cell_type": "code",
   "execution_count": null,
   "id": "4047314f-4a94-4620-9906-906b520835a2",
   "metadata": {},
   "outputs": [],
   "source": [
    "t['Judge'].any() == 1"
   ]
  },
  {
   "cell_type": "code",
   "execution_count": null,
   "id": "1f9ef85e-7e16-463c-ba1e-d0ee9bdce644",
   "metadata": {},
   "outputs": [],
   "source": [
    "numbers = [i*10 for i in range(1, 6)]"
   ]
  },
  {
   "cell_type": "code",
   "execution_count": null,
   "id": "731d1aa0-8392-4db7-8fe9-cb7afa9deadc",
   "metadata": {},
   "outputs": [],
   "source": [
    "for i, name in enumerate(l, 1):\n",
    "    print('{:03}_{}'.format(i, name))\n",
    "# 001_Alice\n",
    "# 002_Bob\n",
    "# 003_Charlie"
   ]
  },
  {
   "cell_type": "code",
   "execution_count": null,
   "id": "15d0f326-b0d4-421f-ab3c-7a8218446f8a",
   "metadata": {},
   "outputs": [],
   "source": [
    "df_comb[\"file\"].dropna()"
   ]
  },
  {
   "cell_type": "code",
   "execution_count": null,
   "id": "af39c2df-f23b-409b-a896-6a167152c7cf",
   "metadata": {},
   "outputs": [],
   "source": [
    "l = list(zip(names, ages))"
   ]
  },
  {
   "cell_type": "code",
   "execution_count": null,
   "id": "a5edf67f-bbe7-4309-9b4f-7153b196278b",
   "metadata": {},
   "outputs": [],
   "source": [
    "for i,j in zip(df_all['加工開始時間'],df_all['加工終了時間']):\n",
    "    t = NG.loc[(NG['lt'] >= i) & (NG['lt'] <= j)]"
   ]
  },
  {
   "cell_type": "code",
   "execution_count": null,
   "id": "d03dbdb4-b0d8-4878-8632-985aefa810e6",
   "metadata": {},
   "outputs": [],
   "source": [
    "df.loc[:, \"D\"] = np.array([5] * len(df))"
   ]
  },
  {
   "cell_type": "code",
   "execution_count": null,
   "id": "89adc68a-cad0-48cd-97ce-d37e9ecf628b",
   "metadata": {},
   "outputs": [],
   "source": [
    "dp1.loc[dp1['ファイル名'].astype(str).str.contains('No.'), 'memo'] = dp1['ファイル名'].astype(str).str.replace(r'(.*?)No.','',regex=True)"
   ]
  },
  {
   "cell_type": "code",
   "execution_count": null,
   "id": "62cc542e-67f4-4bea-82ed-a282d2e8de76",
   "metadata": {},
   "outputs": [],
   "source": [
    "df2[df2[\"E\"].isin([\"two\", \"four\"])]"
   ]
  },
  {
   "cell_type": "code",
   "execution_count": null,
   "id": "64ca28f3-bddb-4ff1-b155-f9942d022ac2",
   "metadata": {},
   "outputs": [],
   "source": [
    "td_1=td.loc[td[\"FLAG\"] == 1]"
   ]
  },
  {
   "cell_type": "code",
   "execution_count": null,
   "id": "3f887809-19a5-4bc5-b63d-210b729882f5",
   "metadata": {},
   "outputs": [],
   "source": [
    " xmin = datetime.datetime.strptime(i, '%Y-%m-%d %H:%M:%S')"
   ]
  },
  {
   "cell_type": "code",
   "execution_count": null,
   "id": "7b2a2470-91d6-47cf-82a5-a135f88ce7ba",
   "metadata": {},
   "outputs": [],
   "source": [
    "ax.vlines(Lines, -4, 3, colors='m', linewidth=2)#ドレッシング開始時点に縦線\n",
    "ax.hlines(1, xmin, xmax, colors='r',linestyle='dashed', linewidth=2)#ドレッシング開始目安(閾値)に赤横点線"
   ]
  },
  {
   "cell_type": "code",
   "execution_count": null,
   "id": "fb73b07a-0133-4cb4-91bf-5f6a4d04921c",
   "metadata": {},
   "outputs": [],
   "source": [
    "LOT_LIST = time_data['LotNo'].unique()"
   ]
  },
  {
   "cell_type": "code",
   "execution_count": null,
   "id": "2841b014-6037-442b-9bc3-27751619e248",
   "metadata": {},
   "outputs": [],
   "source": [
    "ax.bar(Date, Judge, color = [('c' if k < 0 else 'pink') for k in Judge], edgecolor=\"black\", width=0.01)"
   ]
  },
  {
   "cell_type": "code",
   "execution_count": null,
   "id": "c62b5bc3-9680-48fc-af84-bfc1741ddde7",
   "metadata": {},
   "outputs": [],
   "source": [
    "for col in eq.columns[1:]:\n",
    "    eq[col] = eq[col].astype(float)"
   ]
  },
  {
   "cell_type": "code",
   "execution_count": null,
   "id": "9befd081-bef3-4e7d-881e-f07207d25677",
   "metadata": {},
   "outputs": [],
   "source": [
    "for a, b in zip(tp.columns[[\"time_加工開始時間\",\"time_加工終了時間\",\"LotNo\"]], df_comb.columns[[\"time_加工開始時間\",\"time_加工終了時間\",\"LotNo\"]]):\n",
    "    tp[a] = tp[a].astype(float)  \n",
    "    df_comb[b] = df_comb[b].astype(float)"
   ]
  },
  {
   "cell_type": "code",
   "execution_count": null,
   "id": "f438a311-6da8-4203-8812-36859bbf1494",
   "metadata": {},
   "outputs": [],
   "source": [
    "for a,b in zip( tp.columns[[\"time_加工開始時間\",\"time_加工終了時間\",\"LotNo\"], df_comb.columns[[\"time_加工開始時間\",\"time_加工終了時間\",\"LotNo\"]]):\n",
    "    tp[a] = tp[a].astype(float)  \n",
    "    df_comb[a] = df_comb[a].astype(float)   "
   ]
  },
  {
   "cell_type": "code",
   "execution_count": null,
   "id": "d2f3d237-7f75-46bf-a182-c5049550836e",
   "metadata": {},
   "outputs": [],
   "source": [
    "pivoted = df.pivot(index=\"date\", columns=\"variable\", values=\"value\")"
   ]
  },
  {
   "cell_type": "code",
   "execution_count": null,
   "id": "cd930341-424e-4bdb-8e4b-f6be44ae6a61",
   "metadata": {},
   "outputs": [],
   "source": [
    "df.pivot_table(\n",
    "    values=\"val0\",\n",
    "    index=\"row\",\n",
    "    columns=\"col\",\n",
    "    aggfunc=\"sum\",\n",
    "    fill_value=0,\n",
    ")\n"
   ]
  },
  {
   "cell_type": "code",
   "execution_count": null,
   "id": "ffebde87-0352-4cc4-83ff-4d76f57f5543",
   "metadata": {},
   "outputs": [],
   "source": [
    "df.columns.str.strip()\n",
    "Index(['Column A', 'Column B'], dtype='object')\n",
    "\n",
    "df.columns.str.lower()\n",
    "Index([' column a ', ' column b '], dtype='object')"
   ]
  },
  {
   "cell_type": "code",
   "execution_count": null,
   "id": "c4578944-13ca-4c56-92e9-7eb659f8e0a8",
   "metadata": {},
   "outputs": [],
   "source": [
    "#Melt the Dataframe\n",
    "df_melt = pd.melt(df, id_vars=['A'], value_vars=['B','C'], \n",
    "                  var_name='Cols', value_name='Vals')"
   ]
  },
  {
   "cell_type": "code",
   "execution_count": null,
   "id": "56f1efd1-4543-4bb0-a724-5e5a263d618f",
   "metadata": {},
   "outputs": [],
   "source": [
    "fig, ax = plt.subplots(2, 2, figsize=(15,10))\n",
    "# Umumiy chizma nomini beramiz:\n",
    "fig.suptitle(\"Grafik 2\")\n",
    "sns.histplot(ax=ax[0, 0], data=df, x='price')\n",
    "sns.histplot(ax=ax[0, 1], data=df, x='mileage')\n",
    "sns.scatterplot(ax=ax[1, 0], data=df, x=df['year'], y=df['price'], hue=\"fuelType\", s=50)\n",
    "sns.scatterplot(ax=ax[1, 1], data=df, x=df['year'], y=df['mileage'], hue=\"fuelType\", s=50)\n",
    "# Har bir grafik uchun nom:\n",
    "ax[0,0].set_title(\"Price distribution\")\n",
    "ax[0,1].set_title(\"Mileage distribution\")\n",
    "ax[1,0].set_title(\"Price vs Year correlation\")\n",
    "ax[1,1].set_title(\"Mileage vs Year correlation\")\n",
    "plt.show()"
   ]
  },
  {
   "cell_type": "code",
   "execution_count": null,
   "id": "282dce87-2d96-4f9f-9932-9ad461aa9cc6",
   "metadata": {},
   "outputs": [],
   "source": [
    "ML models\n",
    "\n",
    "Linear Regression\n",
    "Logistic Regression\n",
    "Decision Trees\n",
    "Random Forest\n",
    "Gradient Boosting Machines\n",
    "Support Vector Machines (SVM)\n",
    "Naive Bayes\n",
    "K-Nearest Neighbors (KNN)\n",
    "Neural Networks\n",
    "Convolutional Neural Networks (CNN)\n",
    "Recurrent Neural Networks (RNN)\n",
    "Long Short-Term Memory (LSTM) Networks\n",
    "Autoencoders\n",
    "Principal Component Analysis (PCA)\n",
    "K-Means Clustering\n",
    "Hierarchical Clustering\n",
    "Gaussian Mixture Models (GMM)\n",
    "Hidden Markov Models (HMM)"
   ]
  },
  {
   "cell_type": "code",
   "execution_count": null,
   "id": "d77f4dff-cc3a-4e99-850d-7102cfb1a81d",
   "metadata": {},
   "outputs": [],
   "source": [
    "#Pandas functions list\n",
    "1. .head()\n",
    "2. .tail()\n",
    "3. .info()\n",
    "4. .describe()\n",
    "5. .mean()\n",
    "6. .median()\n",
    "7. .max()\n",
    "8. .min()\n",
    "9. .sort_values()\n",
    "10. .groupby()\n",
    "11. .iloc[]\n",
    "12. .loc[]\n",
    "13. .isin()\n",
    "14. .apply()\n",
    "15. .drop()\n",
    "16. .fillna()\n",
    "17. .merge()\n",
    "18. .concat()\n",
    "19. .to_csv()\n",
    "20. .to_excel()\n",
    "21. .to_numpy()\n",
    "22. .drop_duplicates()\n",
    "23. .astype()\n",
    "24. .pivot_table()\n",
    "25. .agg()\n",
    "26. .crosstab()\n",
    "27. .corr()\n",
    "28. .cov()\n",
    "29. .plot()\n",
    "30. .sample()"
   ]
  },
  {
   "cell_type": "code",
   "execution_count": null,
   "id": "905af371-ae09-42a1-8aba-869a3c9634bb",
   "metadata": {},
   "outputs": [],
   "source": [
    "Button:\n",
    "\n",
    "from tkinter import *\n",
    "\n",
    "root = Tk()\n",
    "\n",
    "def callback():\n",
    "    print(\"Button clicked\")\n",
    "\n",
    "button = Button(root, text=\"Click Me!\", command=callback)\n",
    "button.pack()\n",
    "\n",
    "root.mainloop()\n",
    "\n",
    "Label:\n",
    "\n",
    "from tkinter import *\n",
    " \n",
    "window = Tk()\n",
    " \n",
    "window.title(\"Welcome to LikeGeeks app\")\n",
    " \n",
    "lbl = Label(window, text=\"Hello\")\n",
    " \n",
    "lbl.grid(column=0, row=0)\n",
    " \n",
    "window.mainloop()\n",
    "\n",
    "Entry:\n",
    "\n",
    "from tkinter import *\n",
    "\n",
    "root = Tk() \n",
    "  \n",
    "# create a label to enter name \n",
    "myLabel = Label(root, text=\"Enter your name:\") \n",
    "myLabel.pack() \n",
    "  \n",
    "# Entry widget to accept the entry \n",
    "myEntry = Entry(root) \n",
    "myEntry.pack() \n",
    "  \n",
    "# function to be called when button is pressed \n",
    "def getName(): \n",
    "    print(myEntry.get()) \n",
    "  \n",
    "# button widget to call the above function \n",
    "myButton = Button(root, text=\"Submit\", command=getName) \n",
    "myButton.pack() \n",
    "  \n",
    "# looping the window \n",
    "root.mainloop() \n",
    "\n",
    "Frame:\n",
    "\n",
    "from tkinter import *\n",
    "\n",
    "window = Tk()\n",
    " \n",
    "window.title(\"Welcome to LikeGeeks app\")\n",
    " \n",
    "topFrame = Frame(window)\n",
    "topFrame.pack()\n",
    "bottomFrame = Frame(window)\n",
    "bottomFrame.pack(side=BOTTOM)\n",
    " \n",
    "button1 = Button(topFrame, text=\"Button1\", fg=\"red\")\n",
    "button2 = Button(topFrame, text=\"Button2\", fg=\"blue\")\n",
    "button3 = Button(bottomFrame, text=\"Button3\", fg=\"green\")\n",
    "button4 = Button(bottomFrame, text=\"Button4\", fg=\"purple\")\n",
    " \n",
    "button1.pack(side=LEFT)\n",
    "button2.pack(side=LEFT)\n",
    "button3.pack(side=LEFT)\n",
    "button4.pack(side=LEFT)\n",
    " \n",
    "window.mainloop()\n",
    "\n",
    "Canvas:\n",
    "\n",
    "from tkinter import *\n",
    "  \n",
    "# create a canvass \n",
    "canvas = Canvas(width = 300, height = 300) \n",
    "canvas.pack() \n",
    "  \n",
    "# create a line \n",
    "line = canvas.create_line(0, 0, 300, 300) \n",
    "  \n",
    "# create an oval \n",
    "oval = canvas.create_oval(10, 50, 200, 300, fill ='green') \n",
    "  \n",
    "# create a rectangle \n",
    "rect = canvas.create_rectangle(50, 25, 150, 75, fill ='red') \n",
    "  \n",
    "# infinite loop \n",
    "mainloop()\n",
    "\n",
    "Menu:\n",
    "\n",
    "from tkinter import *\n",
    "\n",
    "root = Tk()\n",
    "\n",
    "# Creating a Menu Bar\n",
    "menu = Menu(root)\n",
    "root.config(menu=menu)\n",
    "\n",
    "# Adding a File Menu\n",
    "filemenu = Menu(menu)\n",
    "menu.add_cascade(label=\"File\", menu=filemenu)\n",
    "filemenu.add_command(label=\"New\")\n",
    "filemenu.add_command(label=\"Open\")\n",
    "filemenu.add_separator()\n",
    "filemenu.add_command(label=\"Exit\")\n",
    "\n",
    "# Adding a Edit Menu\n",
    "editmenu = Menu(menu)\n",
    "menu.add_cascade(label=\"Edit\", menu=editmenu)\n",
    "editmenu.add_command(label=\"Undo\")\n",
    "editmenu.add_command(label=\"Redo\")\n",
    "\n",
    "# Adding a Help Menu\n",
    "helpmenu = Menu(menu)\n",
    "menu.add_cascade(label=\"Help\", menu=helpmenu)\n",
    "helpmenu.add_command(label=\"About\")\n",
    "\n",
    "mainloop()\n",
    "\n",
    "Text:\n",
    "\n",
    "from tkinter import *\n",
    "\n",
    "root = Tk()\n",
    "\n",
    "text = Text(root, width=30, height=5)\n",
    "text.pack()\n",
    "\n",
    "text.insert(INSERT, \"Hello.....\")\n",
    "text.insert(END, \"Bye Bye.....\")\n",
    "\n",
    "text.tag_add(\"here\", \"1.0\", \"1.4\")\n",
    "text.tag_add(\"start\", \"1.8\", \"1.13\")\n",
    "text.tag_config(\"here\", background=\"yellow\", foreground=\"blue\")\n",
    "text.tag_config(\"start\", background=\"black\", foreground=\"green\")\n",
    "\n",
    "root.mainloop()\n"
   ]
  },
  {
   "cell_type": "code",
   "execution_count": null,
   "id": "9b9d2e68-69f9-4b0c-ac0e-b332956d3069",
   "metadata": {},
   "outputs": [],
   "source": [
    "#build in funtion \n",
    "1. print(): Prints the given object to the screen.\n",
    "2. len(): Returns the length of an object.\n",
    "3. input(): Reads input from the user and returns a string.\n",
    "4. range(): Generates a sequence of numbers.\n",
    "5. abs(): Returns the absolute value of a number.\n",
    "6. round(): Rounds a number to a given precision.\n",
    "7. min(): Returns the smallest item in an iterable.\n",
    "8. max(): Returns the largest item in an iterable.\n",
    "9. sorted(): Returns a sorted list from an iterable.\n",
    "10. sum(): Returns the sum of items in an iterable.\n",
    "11. pow(): Raises a number to a given power.\n",
    "12. round(): Rounds a number to a given precision.\n",
    "13. divmod(): Returns the quotient and remainder of a division.\n",
    "14. reversed(): Returns a reversed iterator.\n",
    "15. enumerate(): Returns an enumerate object.\n",
    "16. filter(): Constructs an iterator from elements of an iterable for which a function returns true.\n",
    "17. map(): Applies a function to all the items in an iterable.\n",
    "18. zip(): Returns an iterator of tuples, where the i-th tuple contains the i-th element from each of the argument sequences.\n",
    "19. type(): Returns the type of an object.\n",
    "20. isinstance(): Checks if an object is an instance of a class.\n",
    "21. str(): Returns a string representation of an object.\n",
    "22. list(): Creates a list from an iterable.\n",
    "23. tuple(): Creates a tuple from an iterable.\n",
    "24. set(): Creates a set from an iterable.\n",
    "25. dict(): Creates a dictionary from an iterable of key-value pairs.\n",
    "26. format(): Formats a string using the supplied arguments.\n",
    "27. ord(): Returns the Unicode code point for a single character.\n",
    "28. chr(): Returns the character for a given Unicode code point.\n",
    "29. eval(): Evaluates a string as a Python expression.\n",
    "30. exec(): Executes a Python expression or statement.\n",
    "31. globals(): Returns a dictionary containing the current global symbol table.\n",
    "32. locals(): Returns a dictionary containing the current local symbol table.\n",
    "33. compile(): Compiles a source string into a code object.\n",
    "34. delattr(): Deletes an attribute from an object.\n",
    "35. getattr(): Retrieves an attribute from an object.\n",
    "36. hasattr(): Checks if an object has an attribute.\n",
    "37. setattr(): Sets an attribute of an object.\n",
    "38. callable(): Checks if an object is callable.\n",
    "39. vars(): Returns the __dict__ attribute of an object.\n",
    "40. dir(): Returns a list of attributes and methods of an object.\n",
    "41. locals(): Returns a dictionary containing the current local symbol table.\n",
    "42. globals(): Returns a dictionary containing the current global symbol table.\n",
    "43. memoryview(): Returns a memory view object.\n",
    "44. format(): Formats a string using the supplied arguments.\n",
    "45. issubclass(): Checks if a class is a subclass of another class.\n",
    "46. issubclass(): Checks if a class is a subclass of another class.\n",
    "47. super(): Returns a proxy object to delegate method calls to a class.\n",
    "48. property(): Returns a property attribute from a given class.\n",
    "49. classmethod(): Converts a method into a class method.\n",
    "50. staticmethod(): Converts a method into a static method.\n",
    "51. open(): Opens a file and returns a file object.\n",
    "52. close(): Closes the file object.\n",
    "53. read(): Reads the contents of the file.\n",
    "54. write(): Writes a string to the file.\n",
    "55. seek(): Sets the current file position.\n",
    "56. tell(): Returns the current file position.\n",
    "57. flush(): Flushes the write buffer of a file object.\n",
    "58. truncate(): Truncates the file to a specified length.\n",
    "59. os.path.exists(): Checks if a path exists.\n",
    "60. os.path.isfile(): Checks if a path is a regular file.\n",
    "61. os.path.isabs(): Checks if a path is an absolute path.\n",
    "62. os.path.isdir(): Checks if a path is a directory.\n",
    "63. os.path.join(): Joins two or more path components.\n",
    "64. os.path.split(): Splits a path into a tuple of two parts.\n",
    "65. os.path.splitext(): Splits a path into a tuple of two parts, the filename and the file extension.\n",
    "66. os.path.basename(): Returns the base name of a path.\n",
    "67. os.path.dirname(): Returns the directory name of a path.\n",
    "68. os.path.normpath(): Normalizes a path.\n",
    "69. os.path.realpath(): Returns the canonical path of a given path.\n",
    "70. os.path.abspath(): Returns the absolute path of a given path.\n",
    "71. os.listdir(): Lists the content of a directory.\n",
    "72. os.mkdir(): Makes a new directory.\n",
    "73. os.rmdir(): Removes a directory.\n",
    "74. os.rename(): Renames a file or directory.\n",
    "75. os.remove(): Removes a file.\n",
    "76. os.stat(): Gets the status of a file or directory.\n",
    "77. os.chmod(): Changes the mode of a file or directory.\n",
    "78. os.chown(): Changes the owner and group of a file or directory.\n",
    "79. os.getcwd(): Gets the current working directory.\n",
    "80. os.chdir(): Changes the current working directory.\n",
    "81. random.choice(): Returns a random element from a sequence.\n",
    "82. random.sample(): Returns a specified number of random elements from a sequence.\n",
    "83. random.randint(): Returns a random integer.\n",
    "84. random.randrange(): Returns a random number from a range.\n",
    "85. random.random(): Returns a random float between 0 and 1.\n",
    "86. random.uniform(): Returns a random float between two specified numbers.\n",
    "87. random.shuffle(): Randomizes the order of elements in a sequence.\n",
    "88. random.seed(): Sets the seed for random number generator.\n",
    "89. random.getstate(): Returns the current internal state of the random number generator.\n",
    "90. random.setstate(): Restores the internal state of the random number generator.\n",
    "91. datetime.now(): Returns the current local date and time.\n",
    "92. datetime.date(): Returns a date object from a given date.\n",
    "93. datetime.time(): Returns a time object from a given time.\n",
    "94. datetime.datetime(): Returns a datetime object from a given date and time.\n",
    "95. datetime.timedelta(): Returns a duration object representing a delta between two dates or times.\n",
    "96. datetime.strftime(): Formats a date and time into a string.\n",
    "97. datetime.strptime(): Parses a string and returns a datetime object.\n",
    "98. datetime.utcnow(): Returns the current UTC date and time.\n",
    "99. datetime.timetz(): Returns a time object with a time zone.\n",
    "100. datetime.astimezone(): Converts a datetime object to another time zone.\n",
    "101. collections.Counter(): Counts the number of occurrences of each item in a sequence.\n",
    "102. collections.defaultdict(): Creates a dictionary with a default value for missing keys.\n",
    "103. collections.OrderedDict(): Creates a dictionary that preserves the order of items.\n",
    "104. collections.namedtuple(): Creates a tuple subclass with named fields.\n",
    "105. collections.deque(): Creates a double ended queue.\n",
    "106. collections.ChainMap(): Creates a dictionary-like object that maps multiple mappings.\n",
    "107. collections.UserDict(): Creates a custom dictionary class.\n",
    "108. collections.UserList(): Creates a custom list class.\n",
    "109. collections.UserString(): Creates a custom string class.\n",
    "110. collections.Mapping(): Creates a custom mapping class."
   ]
  }
 ],
 "metadata": {
  "kernelspec": {
   "display_name": "Python 3 (ipykernel)",
   "language": "python",
   "name": "python3"
  },
  "language_info": {
   "codemirror_mode": {
    "name": "ipython",
    "version": 3
   },
   "file_extension": ".py",
   "mimetype": "text/x-python",
   "name": "python",
   "nbconvert_exporter": "python",
   "pygments_lexer": "ipython3",
   "version": "3.9.13"
  }
 },
 "nbformat": 4,
 "nbformat_minor": 5
}
