{
 "cells": [
  {
   "cell_type": "code",
   "execution_count": null,
   "id": "06d9f161-5f67-4568-98aa-961f67429d10",
   "metadata": {},
   "outputs": [],
   "source": [
    "# Logistic Regression\n",
    "# Decision Tree Classifier\n",
    "# Random Forest Classifier\n",
    "# Support Vector Machines (SVM)\n",
    "# K-Nearest Neighbors Classifier"
   ]
  }
 ],
 "metadata": {
  "kernelspec": {
   "display_name": "Python 3 (ipykernel)",
   "language": "python",
   "name": "python3"
  },
  "language_info": {
   "codemirror_mode": {
    "name": "ipython",
    "version": 3
   },
   "file_extension": ".py",
   "mimetype": "text/x-python",
   "name": "python",
   "nbconvert_exporter": "python",
   "pygments_lexer": "ipython3",
   "version": "3.9.13"
  }
 },
 "nbformat": 4,
 "nbformat_minor": 5
}
