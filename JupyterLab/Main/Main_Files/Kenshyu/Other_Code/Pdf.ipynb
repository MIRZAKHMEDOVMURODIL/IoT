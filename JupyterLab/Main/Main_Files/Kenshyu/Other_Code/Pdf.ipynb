{
 "cells": [
  {
   "cell_type": "code",
   "execution_count": 1,
   "id": "c8abfd65-4508-4312-9901-afe9b0c85ace",
   "metadata": {},
   "outputs": [
    {
     "ename": "NameError",
     "evalue": "name 'p' is not defined",
     "output_type": "error",
     "traceback": [
      "\u001b[1;31m---------------------------------------------------------------------------\u001b[0m",
      "\u001b[1;31mNameError\u001b[0m                                 Traceback (most recent call last)",
      "Cell \u001b[1;32mIn [1], line 33\u001b[0m\n\u001b[0;32m     31\u001b[0m             p\u001b[38;5;241m=\u001b[39mglob\u001b[38;5;241m.\u001b[39mglob(\u001b[38;5;124mr\u001b[39m\u001b[38;5;124m\"\u001b[39m\u001b[38;5;124mC:\u001b[39m\u001b[38;5;124m\\\u001b[39m\u001b[38;5;124mUsers\u001b[39m\u001b[38;5;124m\\\u001b[39m\u001b[38;5;124m00220401626\u001b[39m\u001b[38;5;124m\\\u001b[39m\u001b[38;5;124mDesktop\u001b[39m\u001b[38;5;124m\\\u001b[39m\u001b[38;5;124mPdf\u001b[39m\u001b[38;5;124m\\\u001b[39m\u001b[38;5;124mPdf\u001b[39m\u001b[38;5;124m\\\u001b[39m\u001b[38;5;124m*.pdf\u001b[39m\u001b[38;5;124m\"\u001b[39m)\n\u001b[0;32m     32\u001b[0m l\u001b[38;5;241m=\u001b[39m[]\n\u001b[1;32m---> 33\u001b[0m \u001b[38;5;28;01mfor\u001b[39;00m i \u001b[38;5;129;01min\u001b[39;00m \u001b[43mp\u001b[49m:\n\u001b[0;32m     34\u001b[0m     \u001b[38;5;28mprint\u001b[39m(i)\n\u001b[0;32m     35\u001b[0m     \u001b[38;5;28;01mif\u001b[39;00m i[\u001b[38;5;241m-\u001b[39m\u001b[38;5;241m15\u001b[39m:]\u001b[38;5;241m==\u001b[39m\u001b[38;5;124m\"\u001b[39m\u001b[38;5;124m2217034-000.pdf\u001b[39m\u001b[38;5;124m\"\u001b[39m:\n",
      "\u001b[1;31mNameError\u001b[0m: name 'p' is not defined"
     ]
    }
   ],
   "source": [
    "import glob \n",
    "import os\n",
    "import fitz\n",
    "import PyPDF2\n",
    "\n",
    "# Path to directory\n",
    "path = r\"C:\\Users\\00220401626\\Desktop\\必要なファイル\\General\\三次元測定結果\"\n",
    "input_dir = r\"C:\\Users\\00220401626\\Desktop\\必要なファイル\\General\\三次元測定結果\\1214AZUL32+0 2217034-000\\*.pdf\"\n",
    "out_PDF_Path=r'C:\\Users\\00220401626\\Desktop\\必要なファイル\\General\\output\\\\'\n",
    "\n",
    "\n",
    "# Iterate over all the files in directory\n",
    "for file1 in os.listdir(path):\n",
    "    # print(file1)\n",
    "    flist = glob.glob(r\"C:\\Users\\00220401626\\Desktop\\必要なファイル\\General\\05_グライディングセンタ\\05_グライディングセンタ\\三次元測定結果\\\\\"+file1+\"\\*.pdf\") \n",
    "    a=file1[:-11] \n",
    "    b=file1[-11:]   \n",
    "    for file in flist:\n",
    "        doc = fitz.open(file)\n",
    "        for page in range(len(doc)):\n",
    "            text = doc[page].get_text()\n",
    "            Text = text.split('\\n')\n",
    "            for i in Text:\n",
    "                if i == \"ﾊﾟｰﾄ番号\":\n",
    "                    Ti2 = Text.index(\"ﾊﾟｰﾄ番号\")\n",
    "                    part_No = Text[Ti2+2]\n",
    "                    doc.save(out_PDF_Path + \"/\" + str(a) +'No.'+str(part_No)+' '+str(b)+'.pdf')\n",
    "                continue\n",
    "            doc.close()\n",
    "            \n",
    "            p=glob.glob(r\"C:\\Users\\00220401626\\Desktop\\Pdf\\Pdf\\*.pdf\")\n",
    "l=[]\n",
    "for i in p:\n",
    "    print(i)\n",
    "    if i[-15:]==\"2217034-000.pdf\":\n",
    "        l.append(i)\n",
    "        print(i)\n",
    "    else:\n",
    "        pass"
   ]
  },
  {
   "cell_type": "code",
   "execution_count": null,
   "id": "5c18dd94-6d62-48b1-909b-07d97c7b7423",
   "metadata": {},
   "outputs": [],
   "source": []
  }
 ],
 "metadata": {
  "kernelspec": {
   "display_name": "Python 3 (ipykernel)",
   "language": "python",
   "name": "python3"
  },
  "language_info": {
   "codemirror_mode": {
    "name": "ipython",
    "version": 3
   },
   "file_extension": ".py",
   "mimetype": "text/x-python",
   "name": "python",
   "nbconvert_exporter": "python",
   "pygments_lexer": "ipython3",
   "version": "3.10.1"
  }
 },
 "nbformat": 4,
 "nbformat_minor": 5
}
