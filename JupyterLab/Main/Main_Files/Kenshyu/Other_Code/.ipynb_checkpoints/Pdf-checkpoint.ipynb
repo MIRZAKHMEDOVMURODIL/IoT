{
 "cells": [
  {
   "cell_type": "code",
   "execution_count": null,
   "id": "c8abfd65-4508-4312-9901-afe9b0c85ace",
   "metadata": {},
   "outputs": [],
   "source": [
    "import glob \n",
    "import os\n",
    "import fitz\n",
    "import PyPDF2\n",
    "\n",
    "# Path to directory\n",
    "path = r\"C:\\Users\\00220401626\\Desktop\\General\\05_グライディングセンタ\\05_グライディングセンタ\\三次元測定結果\"\n",
    "input_dir = r\"C:\\Users\\00220401626\\Desktop\\General\\05_グライディングセンタ\\05_グライディングセンタ\\三次元測定結果\\1214AZUL32+0 2217034-000\\*.pdf\"\n",
    "out_PDF_Path=r'C:\\Users\\00220401626\\Desktop\\General\\\\'\n",
    "\n",
    "\n",
    "# Iterate over all the files in directory\n",
    "for file1 in os.listdir(path):\n",
    "    # print(file1)\n",
    "    flist = glob.glob(r\"C:\\Users\\00220401626\\Desktop\\General\\05_グライディングセンタ\\05_グライディングセンタ\\三次元測定結果\\\\\"+file1+\"\\*.pdf\") \n",
    "    a=file1[:-11] \n",
    "    b=file1[-11:]   \n",
    "    for file in flist:\n",
    "        doc = fitz.open(file)\n",
    "        for page in range(len(doc)):\n",
    "            text = doc[page].get_text()\n",
    "            Text = text.split('\\n')\n",
    "            for i in Text:\n",
    "                if i == \"ﾊﾟｰﾄ番号\":\n",
    "                    Ti2 = Text.index(\"ﾊﾟｰﾄ番号\")\n",
    "                    part_No = Text[Ti2+2]\n",
    "                    doc.save(out_PDF_Path + \"/\" + str(a) +'No.'+str(part_No)+' '+str(b)+'.pdf')\n",
    "                continue\n",
    "            doc.close()\n",
    "            \n",
    "            p=glob.glob(r\"C:\\Users\\00220401626\\Desktop\\Pdf\\Pdf\\*.pdf\")\n",
    "l=[]\n",
    "for i in p:\n",
    "    print(i)\n",
    "    if i[-15:]==\"2217034-000.pdf\":\n",
    "        l.append(i)\n",
    "        print(i)\n",
    "    else:\n",
    "        pass"
   ]
  }
 ],
 "metadata": {
  "kernelspec": {
   "display_name": "Python 3 (ipykernel)",
   "language": "python",
   "name": "python3"
  },
  "language_info": {
   "codemirror_mode": {
    "name": "ipython",
    "version": 3
   },
   "file_extension": ".py",
   "mimetype": "text/x-python",
   "name": "python",
   "nbconvert_exporter": "python",
   "pygments_lexer": "ipython3",
   "version": "3.9.13"
  }
 },
 "nbformat": 4,
 "nbformat_minor": 5
}
