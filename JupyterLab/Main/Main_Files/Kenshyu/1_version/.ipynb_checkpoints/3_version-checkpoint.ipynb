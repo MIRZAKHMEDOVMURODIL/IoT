{
 "cells": [
  {
   "cell_type": "code",
   "execution_count": 1,
   "id": "4e702d1a-b87a-4047-96f3-b513b6698eca",
   "metadata": {},
   "outputs": [],
   "source": [
    "import numpy as np\n",
    "import pandas as pd\n",
    "import glob\n",
    "import os\n",
    "import matplotlib.pyplot as plt\n",
    "from scipy import signal\n",
    "plt.rcParams[\"font.family\"] = \"MS Gothic\""
   ]
  },
  {
   "cell_type": "markdown",
   "id": "5525d013-cd46-420b-accd-3a47047b0377",
   "metadata": {},
   "source": [
    "# step1 eq_oneの読み込み"
   ]
  },
  {
   "cell_type": "code",
   "execution_count": 2,
   "id": "176f3cae-d205-4905-b49d-8f819c144283",
   "metadata": {},
   "outputs": [],
   "source": [
    "def min_max_mean(EqOne_dir):\n",
    "    files = glob.glob(EqOne_dir)\n",
    "    print(str(len(files))+\"files\")\n",
    "    \n",
    "    print(\"step_1 started\")\n",
    "\n",
    "    df_toukei = pd.DataFrame(columns=[\"ファイル名\",'X_min','X_max','X_mean','Z_min','Z_max','Z_mean','B_min','B_max','B_mean','C_min','C_max','C_mean','spin_min','spin_max','spin_mean'])\n",
    "    # 読み込み\n",
    "    for file in files:\n",
    "        df = pd.read_csv(file,encoding ='cp932')\n",
    "        fn = file.split('\\\\')\n",
    "        f = fn[-1]\n",
    "\n",
    "        # 加工\n",
    "        step =1\n",
    "        df_selected = df.loc[::step]\n",
    "\n",
    "        # 新しいデータフレームを作成し、最小値、最大値、平均値を計算する\n",
    "        new_df = pd.DataFrame({\n",
    "            'ファイル名':f,\n",
    "            'X_min': df_selected[\"X軸_TCMD(%)\"].min(),\n",
    "            'X_max': df_selected[\"X軸_TCMD(%)\"].max(),\n",
    "            'X_mean': df_selected.loc[56000:65000, \"X軸_TCMD(%)\"].mean(),\n",
    "            'Z_min': df_selected[\"Z軸_TCMD(%)\"].min(),\n",
    "            'Z_max': df_selected[\"Z軸_TCMD(%)\"].max(),\n",
    "            'Z_mean': df_selected.loc[0:82000, \"Z軸_TCMD(%)\"].mean(),\n",
    "            'B_min': df_selected[\"B軸_TCMD(%)\"].min(),\n",
    "            'B_max': df_selected[\"B軸_TCMD(%)\"].max(),\n",
    "            'B_mean': df_selected.loc[5000:60000, \"B軸_TCMD(%)\"].mean(),\n",
    "            'C_min': df_selected[\"C軸_TCMD(%)\"].min(),\n",
    "            'C_max': df_selected[\"C軸_TCMD(%)\"].max(),\n",
    "            'C_mean': df_selected.loc[0:82000, \"C軸_TCMD(%)\"].mean(),\n",
    "            'spin_min': df_selected[\"スピンドル_TCMD(%)\"].min(),\n",
    "            'spin_max': df_selected[\"スピンドル_TCMD(%)\"].max(),\n",
    "            'spin_mean': df_selected.loc[0:82000, \"スピンドル_TCMD(%)\"].mean()\n",
    "        }, index=[0])\n",
    "\n",
    "        df_toukei = pd.concat([df_toukei,new_df],axis=0,ignore_index=True)\n",
    "\n",
    "    df_toukei['No'] = df_toukei['ファイル名'].str[-6:-4]\n",
    "    df_toukei['No'] = df_toukei['No'].astype(float)\n",
    "\n",
    "    print(\"step_1 finished\")\n",
    "    \n",
    "    return df_toukei"
   ]
  },
  {
   "cell_type": "markdown",
   "id": "d0709f42-6ba2-46cb-9f55-cbbf1651f52e",
   "metadata": {},
   "source": [
    "# step2 timedataの読み込み"
   ]
  },
  {
   "cell_type": "code",
   "execution_count": 3,
   "id": "93ed197b-7ede-4191-ac3c-e84a14f246f0",
   "metadata": {},
   "outputs": [],
   "source": [
    "def timedata_function(TimeData_dir):\n",
    "    print(\"step_2 started\")\n",
    "    \n",
    "    TimeData = pd.read_csv(TimeData_dir,encoding='cp932')\n",
    "    TimeData = TimeData[TimeData['FLAG'] == 0]\n",
    "    TimeData = TimeData.sort_values('No').reset_index(drop=True)\n",
    "    TimeData = TimeData[['No','加工製品数','誤差値(度)','直径_誤差値', '位置_測定値', '真直_測定値','2:var818']]\n",
    "    timedata = TimeData\n",
    "    \n",
    "    print(\"step_2 finished\")\n",
    "\n",
    "    return timedata"
   ]
  },
  {
   "cell_type": "markdown",
   "id": "16fd66ec-f36d-4b7c-b70c-ed2ef70938df",
   "metadata": {},
   "source": [
    "# step3 eq_oneとtimedataの結合"
   ]
  },
  {
   "cell_type": "code",
   "execution_count": 4,
   "id": "c8629196-4cf4-46e3-ad97-7add78009676",
   "metadata": {},
   "outputs": [],
   "source": [
    "def df_toukei_function(df_toukei,TimeData):\n",
    "    print(\"step_3 started\")\n",
    "    \n",
    "    df_toukei = pd.merge(df_toukei,TimeData,how='left',on=['No'])\n",
    "    df_toukei = df_toukei.drop(['No','ファイル名'],axis=1)\n",
    "    df_toukei = df_toukei.rename(columns={'誤差値(度)':'角度誤差_deg'})\n",
    "    df_toukei = df_toukei.dropna()\n",
    "    \n",
    "    print(\"step_3 finished\")\n",
    "    return df_toukei"
   ]
  },
  {
   "cell_type": "markdown",
   "id": "b54a4a77-ce63-4f7d-a35a-db76b687cd57",
   "metadata": {},
   "source": [
    "# step4 judge追加\n",
    "円錐角度誤差と直径誤差のNGの境界は任意の値に設定"
   ]
  },
  {
   "cell_type": "code",
   "execution_count": 5,
   "id": "f0c09fd7-3e23-4fe4-9f37-09f0c9c6a3e2",
   "metadata": {},
   "outputs": [],
   "source": [
    "def df_ai_function(df_toukei):\n",
    "    print(\"step_4 started\")\n",
    "    df_NG = df_toukei.loc[(df_toukei[\"角度誤差_deg\"] >= 0.0167)|(df_toukei[\"直径_誤差値\"] >= 0.015)]\n",
    "    print(df_NG.shape)\n",
    "    \n",
    "    df_OK = df_toukei.loc[(df_toukei[\"角度誤差_deg\"] <0.0167) & (df_toukei[\"直径_誤差値\"] < 0.015)]\n",
    "    print(df_OK.shape)\n",
    "\n",
    "    #フラグを立てる\n",
    "    df_OK['judge'] = 'OK' \n",
    "    df_NG['judge'] = 'NG'\n",
    "\n",
    "    df_ai = pd.concat([df_OK, df_NG], axis=0)\n",
    "    print(\"step_4 finished\")\n",
    "    return df_ai"
   ]
  },
  {
   "cell_type": "markdown",
   "id": "8dcfa509-2192-4e17-9fda-de5822826c19",
   "metadata": {},
   "source": [
    "# Main_File"
   ]
  },
  {
   "cell_type": "code",
   "execution_count": 6,
   "id": "63cc8a7c-b27b-4f1f-963e-392d96596810",
   "metadata": {
    "tags": []
   },
   "outputs": [
    {
     "name": "stdout",
     "output_type": "stream",
     "text": [
      "47files\n",
      "step_1 started\n",
      "step_1 finished\n",
      "step_2 started\n",
      "step_2 finished\n",
      "step_3 started\n",
      "step_3 finished\n",
      "step_4 started\n",
      "(0, 21)\n",
      "(47, 21)\n",
      "step_4 finished\n"
     ]
    }
   ],
   "source": [
    "if __name__ == '__main__':\n",
    "    #eq_one(一製品ごとのeq_data)のディレクトリー\n",
    "    EqOne_dir = r\"C:\\Users\\00220401626\\Desktop\\Output\\1\\2\\4\\*.csv\"\n",
    "    # #timedataのディレクトリー\n",
    "    TimeData_dir = r\"C:\\Users\\00220401626\\Desktop\\Timedata.csv\"\n",
    "    #出力先\n",
    "    out_dir =r\"C:\\Users\\00220401626\\Desktop\"\n",
    "    \n",
    "    df_toukei = min_max_mean(EqOne_dir)                        #step_1　eq_oneの読み込み・加工\n",
    "    timedata = timedata_function(TimeData_dir)                 #step_2  imedataの読み込み\n",
    "    df_toukei = df_toukei_function(df_toukei,timedata)         #step_3  eq_oneとtimedataの結合\n",
    "    df_ai = df_ai_function(df_toukei)                          #step_4  judge追加"
   ]
  },
  {
   "cell_type": "code",
   "execution_count": null,
   "id": "f9e57a81-9e3e-4761-b806-9fcade964b2c",
   "metadata": {},
   "outputs": [],
   "source": [
    "df_ai"
   ]
  }
 ],
 "metadata": {
  "kernelspec": {
   "display_name": "Python 3 (ipykernel)",
   "language": "python",
   "name": "python3"
  },
  "language_info": {
   "codemirror_mode": {
    "name": "ipython",
    "version": 3
   },
   "file_extension": ".py",
   "mimetype": "text/x-python",
   "name": "python",
   "nbconvert_exporter": "python",
   "pygments_lexer": "ipython3",
   "version": "3.9.13"
  }
 },
 "nbformat": 4,
 "nbformat_minor": 5
}
