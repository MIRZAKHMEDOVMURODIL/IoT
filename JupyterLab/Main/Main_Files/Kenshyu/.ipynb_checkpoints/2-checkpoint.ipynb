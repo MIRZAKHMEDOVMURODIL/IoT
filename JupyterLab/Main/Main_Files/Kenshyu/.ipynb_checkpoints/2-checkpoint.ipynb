{
 "cells": [
  {
   "cell_type": "markdown",
   "id": "93907537-c188-495e-8079-9f515f47944c",
   "metadata": {
    "tags": []
   },
   "source": [
    "# 1.ライブラリのインポート"
   ]
  },
  {
   "cell_type": "code",
   "execution_count": 1,
   "id": "c8b0eaf3-1daf-46ec-beb8-8c4103abcf49",
   "metadata": {},
   "outputs": [],
   "source": [
    "import numpy as np\n",
    "import pandas as pd\n",
    "import datetime\n",
    "import os\n",
    "import glob\n",
    "import re\n",
    "import fitz"
   ]
  },
  {
   "cell_type": "markdown",
   "id": "7f2fdc33-cff4-450b-aed2-6ff75e2a07b6",
   "metadata": {
    "tags": []
   },
   "source": [
    "# 2.timedataの作成"
   ]
  },
  {
   "cell_type": "markdown",
   "id": "076bf26d-34de-4204-861d-36be9225f5d0",
   "metadata": {},
   "source": [
    "## 2.1 lotlistの読み込み\n",
    "FLAG[2]を手入力済みのlotlistの読み込み・加工"
   ]
  },
  {
   "cell_type": "code",
   "execution_count": 2,
   "id": "f3e2c803-546a-493a-b215-3e0a80adf4bf",
   "metadata": {},
   "outputs": [],
   "source": [
    "def process_lotlist_data(lotlist_dir, LOT):\n",
    "    \n",
    "    print(\"2.1 is started\")\n",
    "    \n",
    "    # read in csv files and concatenate into one dataframe\n",
    "    files1 = glob.glob(lotlist_dir)\n",
    "    df_list = [pd.read_csv(file, encoding=\"cp932\") for file in files1]\n",
    "    lotlist = pd.concat(df_list, axis=0, ignore_index=True)\n",
    "    lotlist = lotlist.rename(columns={'lotno': 'LotNo'})\n",
    "\n",
    "    # convert time columns to datetime type\n",
    "    lotlist['DATETIME_S'] = pd.to_datetime(lotlist['DATETIME_S'])\n",
    "    lotlist['DATETIME_E'] = pd.to_datetime(lotlist['DATETIME_E'])\n",
    "\n",
    "    # cleansing\n",
    "    lotlist_LOT = lotlist.loc[lotlist['LotNo'] == LOT]\n",
    "    lotlist_LOT = lotlist_LOT.sort_values('DATETIME_S')\n",
    "    serial_num = pd.RangeIndex(start=1, stop=len(lotlist_LOT.index) + 1, step=1)\n",
    "    lotlist_LOT['uid'] = serial_num\n",
    "    \n",
    "    # lotlist_LOT = lotlist_LOT.drop('Unnamed: 0',axis=1)\n",
    "    lotlist_1 = lotlist_LOT.loc[(lotlist_LOT['FLAG'] == 1)]\n",
    "    lotlist_2 = lotlist_LOT.loc[(lotlist_LOT['FLAG'] == 2)]\n",
    "\n",
    "    lotlist_LOT = lotlist_LOT.loc[(lotlist_LOT['FLAG'] == 0)]\n",
    "    lotlist_LOT['No'] = lotlist_LOT.groupby(['LotNo']).cumcount() + 1\n",
    "    lotlist_LOT['No'] = lotlist_LOT['No'].astype(str)\n",
    "\n",
    "    lotlist_LOT = pd.concat([lotlist_LOT, lotlist_2], axis=0)\n",
    "    lotlist_LOT = lotlist_LOT.sort_values('DATETIME_S')\n",
    "    lotlist_LOT['No'] = lotlist_LOT['No'].fillna(0)\n",
    "    lotlist_LOT['No'] = lotlist_LOT['No'].astype(str)\n",
    "    lotlist_LOT['ナンバリング'] = lotlist_LOT['LotNo'] + '-' + lotlist_LOT['No']\n",
    "    \n",
    "    print(\"2.1 is finished\")\n",
    "    return lotlist_LOT,lotlist_1,lotlist_2"
   ]
  },
  {
   "cell_type": "markdown",
   "id": "78d967d9-3dc9-49d4-821f-712ec4b5560e",
   "metadata": {},
   "source": [
    "## 2.2ドレッシング記録の読み込み"
   ]
  },
  {
   "cell_type": "code",
   "execution_count": 3,
   "id": "172aad64-5f3c-4a86-a700-639f187531db",
   "metadata": {},
   "outputs": [],
   "source": [
    "def read_dre_excel(dre_dir, LOT):\n",
    "    \n",
    "    print(\"2.2 is started\")\n",
    "    dre = pd.read_excel(dre_dir, skiprows=1)\n",
    "    dre2 = dre.filter(items=[\"s1_作業指図書no\",\"s1_品名\",\"s1_サイズ\",\"s1_オフセット1\",\"s1_オフセット2\"\n",
    "                             ,\"s1_ドレスサイクルs\",\"s1_ドレスサイクルe\",\"s1_開始dt\",\"s1_終了dt\"\n",
    "                             ,\"s1_開始日付手入力\",\"s1_終了日付手入力\",\"s1_開始時間手入力\",\"s1_終了時間手入力\"])\n",
    "    \n",
    "    dre2[\"s1_開始dt\"] = pd.to_datetime(dre2[\"s1_開始dt\"])\n",
    "    dre2[\"s1_終了dt\"] = pd.to_datetime(dre2[\"s1_終了dt\"])\n",
    "    dreLOT = dre2.loc[dre2['s1_作業指図書no']==LOT].reset_index(drop=True)\n",
    "    \n",
    "    print(\"2.2 is finished\")\n",
    "    return dreLOT"
   ]
  },
  {
   "cell_type": "markdown",
   "id": "aa35317e-0bd8-4f31-8cf4-5bda17b63e1e",
   "metadata": {
    "tags": []
   },
   "source": [
    "## 2.3 3次元測定データのファイル名を一括変更する"
   ]
  },
  {
   "cell_type": "code",
   "execution_count": 4,
   "id": "e819be0b-bde4-4c21-a6e2-e4a07aa737e9",
   "metadata": {},
   "outputs": [],
   "source": [
    "def RenamePDF(PDF_dir,OutPDF_dir):\n",
    "    \n",
    "    print(\"2.3 is start\")\n",
    "    ##PDFファイル取得\n",
    "    flist = glob.glob(PDF_dir + '\\*.pdf')\n",
    "    \n",
    "    ##PDFファイルの情報取得\n",
    "    for file in flist:\n",
    "        F = file.split('\\\\')\n",
    "        FileName = F[-2]\n",
    "        FileName = FileName.split(' ')\n",
    "        Name0 = FileName[0]\n",
    "        Name1 = FileName[1]\n",
    "        Name2 = FileName[2]\n",
    "        No =  F[-1]\n",
    "        No = No.split('.')\n",
    "        No = No[-2]\n",
    "\n",
    "        ##ファイル名を一括で変更する。\n",
    "        ReName = OutPDF_dir + Name0 +' '+ Name1 +' '+ 'No.' + No + ' '+ Name2 +'.pdf'\n",
    "        os.rename(file,ReName)\n",
    "        \n",
    "    RenamePDF_dir = OutPDF_dir + '\\*.pdf'\n",
    "    print(\"2.3 is finished\")\n",
    "    \n",
    "    return RenamePDF_dir"
   ]
  },
  {
   "cell_type": "markdown",
   "id": "70c4efe0-48f0-4f98-bdb9-eb0a12b71cc7",
   "metadata": {},
   "source": [
    "## 2.4 3次元測定データの読み込み\n",
    "三次元測定データPDFからテーパ角度/直径情報を抽出"
   ]
  },
  {
   "cell_type": "code",
   "execution_count": 5,
   "id": "2ad0cce5-ccea-4c9f-865f-bab335142c20",
   "metadata": {},
   "outputs": [],
   "source": [
    "def extract_data_from_pdfs(PDF_dir):\n",
    "    \n",
    "    print(\"2.4 is started\")\n",
    "    df_inspection = pd.DataFrame(columns=[\"フォルダー名\",\"ファイル名\",\"円錐角度_測定値\",\"円錐角度_誤差値\"\n",
    "                                          ,\"直径_測定値\",\"直径_誤差値\",\"位置_測定値\",\"真直_測定値\"])\n",
    "    for root, dirs, files in os.walk(OutPDF_dir):\n",
    "        for f in files:\n",
    "            full = os.path.join(root, f)\n",
    "            doc = fitz.open(full)\n",
    "            name = f\n",
    "            Name = root\n",
    "            for page in range(len(doc)):\n",
    "                text = doc[page].get_text()   \n",
    "                Text = text.split('\\n')\n",
    "                for i in Text:\n",
    "                    if i == \"円錐角度_円錐2\":\n",
    "                        Ti2 = Text.index(\"円錐角度_円錐2\")\n",
    "                        data1 = Text[Ti2+6]\n",
    "                        data2 = Text[Ti2+4]\n",
    "\n",
    "\n",
    "                    elif i == \"直径_円錐追加出力1\":\n",
    "                        Ti3 = Text.index(\"直径_円錐追加出力1\")\n",
    "                        data3 = Text[Ti3+6]\n",
    "                        data4 = Text[Ti3+4]\n",
    "\n",
    "                    elif i == \"位置度1\":\n",
    "                        Ti4 = Text.index(\"位置度1\")\n",
    "                        data5 = Text[Ti4+5]\n",
    "\n",
    "                    elif i == \"真直度1\":\n",
    "                        Ti5 = Text.index(\"真直度1\")\n",
    "                        data6 = Text[Ti5+3]                       \n",
    "                        df = pd.DataFrame([[Name,name,data1,data2,data3,data4,data5,data6]],columns=[\"フォルダー名\",\"ファイル名\",\"円錐角度_測定値\",\"円錐角度_誤差値\"\n",
    "                                                                                                     ,\"直径_測定値\",\"直径_誤差値\",\"位置_測定値\",\"真直_測定値\"])\n",
    "                        df_inspection = pd.concat([df_inspection,df],axis=0,ignore_index=True)\n",
    "    df_inspection['LotNo'] = df_inspection['ファイル名'].str[-15:-4]\n",
    "    df_inspection = df_inspection.loc[(df_inspection[\"LotNo\"] == LOT)]\n",
    "    dp1=df_inspection.loc[df_inspection[\"LotNo\"] == LOT]\n",
    "    dp1['memo']=''\n",
    "    dp1.loc[dp1['ファイル名'].astype(str).str.contains('No.'), 'memo'] = dp1['ファイル名'].astype(str).str.replace(r'(.*?)No.','',regex=True)\n",
    "    dp1['No'] = dp1['memo'].str[:-16]\n",
    "    df_inspection = pd.concat([dp1],axis=0,ignore_index=True)\n",
    "    df_inspection = df_inspection[['ファイル名','円錐角度_測定値','円錐角度_誤差値',\"直径_測定値\",\"直径_誤差値\",\"位置_測定値\",\"真直_測定値\",'LotNo','No']]\n",
    "    df_inspection[\"ナンバリング\"] = df_inspection['LotNo'] + \"-\" + df_inspection['No']\n",
    "    \n",
    "    print(\"2.4 is finished\")\n",
    "    return df_inspection"
   ]
  },
  {
   "cell_type": "markdown",
   "id": "406b2ca6-70c9-494e-8151-01eabc3f44e9",
   "metadata": {},
   "source": [
    "## 2.5 lotlistと3次元測定データの結合"
   ]
  },
  {
   "cell_type": "code",
   "execution_count": 6,
   "id": "9e02588d-e54d-4d14-9e0a-09e752029e07",
   "metadata": {},
   "outputs": [],
   "source": [
    "def lotlist_sanjigensoku(df_inspection,lotlist_LOT):\n",
    "    print(\"2.5 is started\")\n",
    "    # データ整理\n",
    "    timedata = pd.merge(df_inspection ,lotlist_LOT ,how='left' ,on=['No','LotNo','ナンバリング'])\n",
    "    timedata = timedata[['uid','ファイル名','LotNo', 'No','ナンバリング','FLAG','円錐角度_測定値','円錐角度_誤差値'\n",
    "                         ,\"直径_測定値\",\"直径_誤差値\",\"位置_測定値\",\"真直_測定値\",'DATETIME_S', 'DATETIME_E'\n",
    "                         ,'2:var818', '2:x_axis', '2:z_axis', '2:c_axis']]\n",
    "    # timedata = timedata.dropna(how='any', axis='index')\n",
    "    timedata.reset_index(inplace=True, drop=True)\n",
    "\n",
    "    #誤差値を文字としてリスト化、カラム追加\n",
    "    gosa1=pd.DataFrame()\n",
    "    for i in timedata['円錐角度_誤差値']:\n",
    "        ddd = re.split('[°\"]' , i)#　度と分秒に分けて抽出\n",
    "        data1=ddd[0]\n",
    "        data2=ddd[1]\n",
    "    #データフレーム化\n",
    "        data3 = pd.DataFrame([[data1,data2]],columns=[\"度2\",\"に2\"])\n",
    "        gosa1=pd.concat([gosa1,data3],axis=0,ignore_index=True)\n",
    "    timedata=pd.concat([timedata,gosa1],axis=1)\n",
    "\n",
    "    gosa2=pd.DataFrame()\n",
    "    for h in timedata['に2']:\n",
    "        ddd = re.split(\"[']\" , h)#　分と秒を分ける\n",
    "        data1=ddd[0]\n",
    "        data2=ddd[1]\n",
    "    #データフレーム化\n",
    "        data3 = pd.DataFrame([[data1,data2]],columns=[\"分2\",\"秒2\"])\n",
    "        gosa2=pd.concat([gosa2,data3],axis=0,ignore_index=True)\n",
    "    timedata=pd.concat([timedata,gosa2],axis=1)\n",
    "\n",
    "    # #int型に変換\n",
    "    timedata['分2'] = timedata['分2'].astype(int)\n",
    "    timedata['秒2'] = timedata['秒2'].astype(int)\n",
    "\n",
    "    for i in timedata['度2']:\n",
    "        if '-0' in i:\n",
    "            timedata.loc[timedata['度2'] == i,'誤差値(度)'] = -(timedata['分2']/60 + timedata['秒2']/3600)\n",
    "        else:\n",
    "            timedata.loc[timedata['度2'] == i,'誤差値(度)'] = timedata['分2']/60 + timedata['秒2']/3600\n",
    "\n",
    "\n",
    "    #測定値を文字としてリスト化、カラム追加\n",
    "    real1=pd.DataFrame()\n",
    "    for i in timedata['円錐角度_測定値']:\n",
    "        ddd = re.split('[°\"]' , i)\n",
    "        data1=ddd[0]\n",
    "        data2=ddd[1]\n",
    "    #データフレーム化\n",
    "        df = pd.DataFrame([[data1,data2]],columns=[\"度1\",\"に1\"])#　度と分秒に分けて抽出\n",
    "        real1=pd.concat([real1,df],axis=0,ignore_index=True)\n",
    "    timedata=pd.concat([timedata,real1],axis=1)\n",
    "\n",
    "\n",
    "    real2=pd.DataFrame()\n",
    "    for h in timedata['に1']:\n",
    "        ddd = re.split(\"[']\" , h)\n",
    "        data1=ddd[0]\n",
    "        data2=ddd[1]\n",
    "    #データフレーム化\n",
    "        df = pd.DataFrame([[data1,data2]],columns=[\"分1\",\"秒1\"])#　分と秒を分ける\n",
    "        real2=pd.concat([real2,df],axis=0,ignore_index=True)\n",
    "    timedata=pd.concat([timedata,real2],axis=1)\n",
    "\n",
    "    ##int型に変換\n",
    "    timedata['度1'] = timedata['度1'].astype(int)\n",
    "    timedata['分1'] = timedata['分1'].astype(int)\n",
    "    timedata['秒1'] = timedata['秒1'].astype(int)\n",
    "    timedata['測定値(度)']=abs(timedata['度1']) + timedata['分1']/60 + timedata['秒1']/3600\n",
    "    timedata = timedata[['uid','ファイル名','LotNo', 'No','ナンバリング','FLAG','DATETIME_S', 'DATETIME_E'\n",
    "                         ,'円錐角度_測定値','円錐角度_誤差値','誤差値(度)','測定値(度)',\"直径_測定値\",\"直径_誤差値\"\n",
    "                         ,\"位置_測定値\",\"真直_測定値\",'2:var818', '2:x_axis', '2:z_axis', '2:c_axis']]\n",
    "    timedata = timedata.sort_values(\"DATETIME_S\")\n",
    "    timedata = pd.concat([timedata,lotlist_1,lotlist_2],axis= 0)\n",
    "    timedata = timedata.sort_values(\"uid\").reset_index(drop=True)\n",
    "\n",
    "    # 新しい列を作成する\n",
    "    count = 0\n",
    "    timedata['加工製品数'] = 0\n",
    "    for idx, flag in enumerate(timedata['FLAG']):\n",
    "        if flag == 1 or flag == 2:\n",
    "            count = 0\n",
    "            timedata.loc[idx, '加工製品数'] = count\n",
    "        elif flag == 0:\n",
    "            count += 1\n",
    "            timedata.loc[idx, '加工製品数'] = count\n",
    "    timedata['直径_測定値'] = timedata['直径_測定値'].str.strip()\n",
    "    timedata['直径_誤差値'] = timedata['直径_誤差値'].str.strip()\n",
    "    timedata['位置_測定値'] = timedata['位置_測定値'].str.strip()\n",
    "    timedata['真直_測定値'] = timedata['真直_測定値'].str.strip()\n",
    "    timedata['直径_測定値'] = timedata['直径_測定値'].astype(float)\n",
    "    timedata['直径_誤差値'] = timedata['直径_誤差値'].astype(float)\n",
    "    timedata['位置_測定値'] = timedata['位置_測定値'].astype(float)\n",
    "    timedata['真直_測定値'] = timedata['真直_測定値'].astype(float)\n",
    "    \n",
    "    out_file1 = out_dir1 + LOT_PDF + \"Timedata\" + \".csv\"\n",
    "    timedata.to_csv(out_file1, index=False,encoding=\"cp932\")\n",
    "    \n",
    "    print(\"2.5 is finished\")\n",
    "    print(\"timedata is complete\")\n",
    "    return timedata\n"
   ]
  },
  {
   "cell_type": "markdown",
   "id": "febde2d0-865e-42fa-9967-05fc0c0bda23",
   "metadata": {
    "tags": []
   },
   "source": [
    "# 3. eq-oneの作成"
   ]
  },
  {
   "cell_type": "markdown",
   "id": "04c49a8c-dc75-4523-b898-d7480cb7f226",
   "metadata": {},
   "source": [
    "## 3.1 eq-dataの読み込み"
   ]
  },
  {
   "cell_type": "code",
   "execution_count": 7,
   "id": "f7f8b119-295a-46fb-bcce-b85d1d693410",
   "metadata": {},
   "outputs": [],
   "source": [
    "def eq_data(eq_dir):\n",
    "    \n",
    "    print(\"3.1 is started\")\n",
    "    eqPath = []\n",
    "    for root, dirs, files in os.walk(eq_dir):\n",
    "        for f in files:\n",
    "            # 指定したフォルダ内のファイル情報をすべて取得\n",
    "            full = os.path.join(root, f)\n",
    "            eqPath.append(full)\n",
    "            \n",
    "    eq_data = pd.DataFrame()\n",
    "    for p in eqPath:    \n",
    "        t = os.path.getmtime(p)\n",
    "        D = datetime.datetime.fromtimestamp(t).strftime('%Y/%m/%d %H:%M:%S.%f')[:-3]#最終更新日時をタイムスタンプ型に変換\n",
    "        # ファイル読み込み、整形\n",
    "        d = pd.read_csv(p, skiprows=2,encoding=\"cp932\")\n",
    "        d = d.rename(columns={'Time': 'Time(msec)', 'POSF': 'POSF(mm)','POSF.1': 'POSF.1(mm)','TCMD':'X軸_TCMD(%)','TCMD.1':'Z軸_TCMD(%)'\n",
    "                              ,'TCMD.2':'B軸_TCMD(%)','TCMD.3':'C軸_TCMD(%)','TCMD.4':'スピンドル_TCMD(%)','SPEED':'SPEED(1/min)'})\n",
    "        d = d.dropna()\n",
    "        d[\"latest_time\"] = D\n",
    "        d[\"latest_time\"] = pd.to_datetime(d[\"latest_time\"])#最終更新日時をdatetime型に変換\n",
    "        d['Time(msec)'] = (d['Time(msec)'].astype(float).astype(int))/1000 \n",
    "        d['lt_unix'] = d.latest_time.apply(lambda t: int(t.timestamp()))\n",
    "        d['lt_unix3'] = ((d['lt_unix'] - 299.995) + d['Time(msec)']).astype(int)\n",
    "        d['lt'] = pd.to_datetime(d['lt_unix3'], unit='s')\n",
    "        eq_data = pd.concat([eq_data,d], axis=0, ignore_index=True)\n",
    "    eq_data = eq_data[['lt','X軸_TCMD(%)','Z軸_TCMD(%)','B軸_TCMD(%)','C軸_TCMD(%)','スピンドル_TCMD(%)','SPEED(1/min)']]\n",
    "    for col in eq_data.columns[1:]:\n",
    "        eq_data[col] = eq_data[col].astype(float)\n",
    "    # eq_data = eq_data.drop(['Time(msec)','POSF(mm)','POSF.1(mm)'],axis=1)\n",
    "\n",
    "    print(\"3.1 is finished\")\n",
    "    return eq_data"
   ]
  },
  {
   "cell_type": "markdown",
   "id": "142c2f55-e949-4933-9ca3-63c9aafbbde8",
   "metadata": {},
   "source": [
    "## 3.2 Excel出力"
   ]
  },
  {
   "cell_type": "code",
   "execution_count": 8,
   "id": "710ef3cf-99d6-41fe-a640-f7e4dc3e95c6",
   "metadata": {},
   "outputs": [],
   "source": [
    "def export_csv_files(timedata, lotlist_LOT, eq_data, out_dir, LOT):\n",
    "\n",
    "    print(\"3.2 is started\")\n",
    "    #FLAGで絞り込み\n",
    "    timedata_0 = timedata.loc[(timedata[\"FLAG\"] == 0) & (timedata[\"LotNo\"] == LOT)]\n",
    "    #時間抽出してリストに\n",
    "    timedata_0[\"file\"]= timedata_0[\"DATETIME_S\"].dt.strftime('%Y%m%d_%H%M')\n",
    "    filename = timedata_0[\"file\"].dropna()\n",
    "    filename = filename.to_numpy().tolist()\n",
    "\n",
    "    lotlist_0 = lotlist_LOT.loc[lotlist_LOT['FLAG'] == 0]\n",
    "    start = lotlist_0['DATETIME_S'].tolist()\n",
    "    end = lotlist_0['DATETIME_E'].tolist()\n",
    "    number = timedata_0['No'].tolist()\n",
    "    i = 1\n",
    "            \n",
    "    for s,e,num in zip(start,end,number):\n",
    "        eq_one = eq_data.loc[(s <= eq_data['lt']) & (eq_data['lt'] <= e)]\n",
    "        if eq_one.empty:\n",
    "            pass\n",
    "        else:\n",
    "            if i-1 < len(filename):\n",
    "                out_file = out_dir + filename[i-1] + \" \" + LOT + '-' + str(num).zfill(3) + \".csv\"\n",
    "                eq_one.to_csv(out_file ,index=False,encoding=\"cp932\")\n",
    "                i += 1\n",
    "            else:\n",
    "                print(\"No more filenames available.\")\n",
    "                break\n",
    "\n",
    "\n",
    "\n",
    "    print(\"3.2 is finished\")\n",
    "    print('Export finished')\n"
   ]
  },
  {
   "cell_type": "markdown",
   "id": "ca480dae-6713-4bc5-b43d-e40725e1a2ac",
   "metadata": {},
   "source": [
    "# Main_File"
   ]
  },
  {
   "cell_type": "markdown",
   "id": "6452d26e-d85b-4a2b-8323-ae1bbd6738c6",
   "metadata": {},
   "source": [
    "# 注意事項\n",
    "測定データの格納先フォルダ名は必ず以下の形式で！！\n",
    "### r\"\\910AZUL 32+0 2222612-000\\*.pdf\"\n",
    "\n",
    "ファイル名は以下のように製品番号だけあればよい\n",
    "### \"1.pdf\"\n"
   ]
  },
  {
   "cell_type": "code",
   "execution_count": null,
   "id": "bce74258-98b3-4e52-adbf-bb9ab49e8b11",
   "metadata": {},
   "outputs": [
    {
     "name": "stdout",
     "output_type": "stream",
     "text": [
      "2.1 is started\n",
      "2.1 is finished\n",
      "2.2 is started\n",
      "2.2 is finished\n",
      "2.3 is start\n",
      "2.3 is finished\n",
      "2.4 is started\n",
      "2.4 is finished\n",
      "2.5 is started\n",
      "2.5 is finished\n",
      "timedata is complete\n",
      "3.1 is started\n",
      "3.1 is finished\n",
      "3.2 is started\n"
     ]
    },
    {
     "name": "stderr",
     "output_type": "stream",
     "text": [
      "C:\\Users\\user\\AppData\\Local\\Temp\\ipykernel_5156\\3445511677.py:7: SettingWithCopyWarning: \n",
      "A value is trying to be set on a copy of a slice from a DataFrame.\n",
      "Try using .loc[row_indexer,col_indexer] = value instead\n",
      "\n",
      "See the caveats in the documentation: https://pandas.pydata.org/pandas-docs/stable/user_guide/indexing.html#returning-a-view-versus-a-copy\n",
      "  timedata_0[\"file\"]= timedata_0[\"DATETIME_S\"].dt.strftime('%Y%m%d_%H%M')\n"
     ]
    }
   ],
   "source": [
    "if __name__ == '__main__':\n",
    "    \n",
    "    ##input_dir\n",
    "    ##FLAG[2]を手入力済みのlotlistのディレクトリー\n",
    "    lotlist_dir = r\"C:\\Users\\user\\Desktop\\05_グライディングセンタ\\lotlist_origin.csv\"\n",
    "    #ドレッシング記録のディレクトリー\n",
    "    dre_dir = r\"C:\\Users\\user\\Desktop\\05_グライディングセンタ\\ドレッシング記録20230216.xlsx\"\n",
    "    #inspection_data(3次元測定結果）のディレクトリー\n",
    "    PDF_dir = r\"C:\\Users\\user\\Desktop\\05_グライディングセンタ\\三次元測定結果\\1214AZUL 32+0 2300002-000\"\n",
    "    #eq_dataのディレクトリー\n",
    "    eq_dir = r\"C:\\Users\\user\\Desktop\\05_グライディングセンタ\\eq_data\\追加分\\2300002-000\"\n",
    "    \n",
    "    #output_dir\n",
    "    #renameされたPDFの出力先\n",
    "    OutPDF_dir = r'C:\\Users\\user\\Desktop\\output\\\\'\n",
    "    #eq_oneの出力先\n",
    "    out_dir = r'C:\\Users\\user\\Desktop\\output2\\\\'\n",
    "    #timedataの出力先\n",
    "    out_dir1 = r'C:\\Users\\user\\Desktop\\output3\\\\'\n",
    "    \n",
    "    #製品情報\n",
    "    LOT_PDF ='1214AZUL 32+0 2300002-000'\n",
    "    LOT = '2300002-000'\n",
    "    \n",
    "    #2.timedata作成\n",
    "    lotlist_LOT,lotlist_1,lotlist_2= process_lotlist_data(lotlist_dir, LOT)           #2.1 lotlistの読み込み\n",
    "    dreLOT = read_dre_excel(dre_dir, LOT)                                             #2.2 ドレッシング記録の読み込み\n",
    "    RenamePDF_dir = RenamePDF(PDF_dir,OutPDF_dir)                                     #2.3 3次元測定データのファイル名変更\n",
    "    df_inspection = extract_data_from_pdfs(RenamePDF_dir)                             #2.4 3次元測定データの読み込み\n",
    "    timedata = lotlist_sanjigensoku(df_inspection,lotlist_LOT)                        #2.5 lotlistと3次元測定データの結合\n",
    "    # 3.eq_one作成\n",
    "    eq_data = eq_data(eq_dir)                                                         #3.1 eq-dataの読み込み\n",
    "    export_csv_files(timedata, lotlist_LOT, eq_data, out_dir, LOT)                    #3.2 Excel出力"
   ]
  },
  {
   "cell_type": "code",
   "execution_count": null,
   "id": "9f334347-1eaa-499a-8f8e-35be795c48d9",
   "metadata": {},
   "outputs": [],
   "source": [
    "df_inspection"
   ]
  },
  {
   "cell_type": "code",
   "execution_count": null,
   "id": "442291a1-661d-4f35-9084-b1d1f5186031",
   "metadata": {},
   "outputs": [],
   "source": [
    "RenamePDF_dir"
   ]
  },
  {
   "cell_type": "code",
   "execution_count": null,
   "id": "66313ef1-2d2a-407e-a947-229f3a1e9cdf",
   "metadata": {
    "tags": []
   },
   "outputs": [],
   "source": [
    "timedata"
   ]
  },
  {
   "cell_type": "code",
   "execution_count": null,
   "id": "8276af42-234f-460b-8bb9-f429fed8781b",
   "metadata": {},
   "outputs": [],
   "source": [
    "eq_data"
   ]
  },
  {
   "cell_type": "code",
   "execution_count": null,
   "id": "65f83561-f3cc-47d5-8d0d-f7cffe307ea1",
   "metadata": {},
   "outputs": [],
   "source": [
    "lotlist_LOT"
   ]
  }
 ],
 "metadata": {
  "kernelspec": {
   "display_name": "Python 3 (ipykernel)",
   "language": "python",
   "name": "python3"
  },
  "language_info": {
   "codemirror_mode": {
    "name": "ipython",
    "version": 3
   },
   "file_extension": ".py",
   "mimetype": "text/x-python",
   "name": "python",
   "nbconvert_exporter": "python",
   "pygments_lexer": "ipython3",
   "version": "3.9.13"
  }
 },
 "nbformat": 4,
 "nbformat_minor": 5
}
