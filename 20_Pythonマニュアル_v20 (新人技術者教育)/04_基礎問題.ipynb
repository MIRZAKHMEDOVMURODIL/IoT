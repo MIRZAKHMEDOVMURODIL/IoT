{
 "cells": [
  {
   "cell_type": "markdown",
   "id": "159c05b4-9062-4e05-9dd8-46830bd89c04",
   "metadata": {},
   "source": [
    "# 基礎問題\n",
    "問題の指示に従って、処理のコードを作成ください。  \n",
    "- 問題は2つのセルで成り立っています。1つ目のセルは生成文です。このセルを一度実行してください  \n",
    "  ランダムで値が提供されます  \n",
    "- 次に、「ここから書き出し」の部分にコードを記入ください  \n",
    "  回答はprint(…)で出力される形にしてください  \n",
    "  どのような値が生成されても正しい回答が出力されるようにしてください  \n",
    "- **習っていない関数を使う場合があります。その場合はGoogle検索などで調べてください。**\n",
    "\n",
    "## 問題1\n",
    "整数 a,b,cと、文字列 s が与えられます。  \n",
    "a+b+c の計算結果と、文字列 s を間に空白を入れて並べてprintしなさい。\n",
    "\n",
    "例1　入力) a:3 b:3 c:3 s:aaa　答え) 9 aaa  \n",
    "例2　入力) a:1 b:10 c:100 s:bbb　答え) 111 bbb"
   ]
  },
  {
   "cell_type": "code",
   "execution_count": null,
   "id": "a61d0712-5105-4851-ac89-9db7cd67adde",
   "metadata": {
    "tags": []
   },
   "outputs": [],
   "source": [
    "# 生成文\n",
    "import numpy as np\n",
    "import random, string\n",
    "a = np.random.randint(1000)\n",
    "b = np.random.randint(1000)\n",
    "c = np.random.randint(1000)\n",
    "s = [random.choice(string.ascii_letters + string.digits) for i in range(10)]\n",
    "s = \"\".join(s)\n",
    "print(f\"a:{a}, b:{b}, c:{c}, s:{s}\")"
   ]
  },
  {
   "cell_type": "code",
   "execution_count": null,
   "id": "bb51a2aa-e6d8-4df5-bb45-24531f9aa3ed",
   "metadata": {},
   "outputs": [],
   "source": [
    "# ここから書き出し\n",
    "\n"
   ]
  },
  {
   "cell_type": "markdown",
   "id": "3eafef2d-d0dd-4bb0-b8de-9bfee2231f14",
   "metadata": {},
   "source": [
    "## 問題2\n",
    "二つの正整数 a,b が与えられます。  \n",
    "積が偶数の場合Evenをprint、奇数の場合Oddをprintしなさい。\n",
    "\n",
    "例1　入力) a:10 b:5　答え) Even  \n",
    "例2　入力) a:1 b:3　答え) Odd"
   ]
  },
  {
   "cell_type": "code",
   "execution_count": null,
   "id": "d2d0946b-0e36-494f-b802-d5060663364e",
   "metadata": {},
   "outputs": [],
   "source": [
    "# 生成文\n",
    "import numpy as np\n",
    "a = np.random.randint(1000)\n",
    "b = np.random.randint(1000)\n",
    "print(f\"a:{a}, b:{b}\")"
   ]
  },
  {
   "cell_type": "code",
   "execution_count": null,
   "id": "c84a1c87-b1c1-479c-845f-dc116e8e917f",
   "metadata": {},
   "outputs": [],
   "source": [
    "# ここから書き出し\n",
    "\n"
   ]
  },
  {
   "cell_type": "markdown",
   "id": "eb32330a-44ab-494d-8106-328d28765f37",
   "metadata": {
    "tags": []
   },
   "source": [
    "## 問題3  \n",
    "正の整数 a があり、各桁はすべて、 0 か 1 となっています。  \n",
    "a の桁の中の 1 の数を求めよ。  \n",
    "\n",
    "例1　入力) 10101　答え) 3  \n",
    "例2　入力) 11110000　答え) 4"
   ]
  },
  {
   "cell_type": "code",
   "execution_count": null,
   "id": "14f7b056-abaa-460c-a3ba-3831b92ccb24",
   "metadata": {},
   "outputs": [],
   "source": [
    "# 生成文\n",
    "import numpy as np\n",
    "n = np.random.randint(1,10)\n",
    "a=int(\"\".join(map(str,[np.random.randint(2) for i in range(n)])))\n",
    "print(f\"a:{a}\")"
   ]
  },
  {
   "cell_type": "code",
   "execution_count": null,
   "id": "3aec5bc3-f848-4ce6-9be9-1eb7dd5a0c44",
   "metadata": {},
   "outputs": [],
   "source": [
    "# ここから書き出し\n",
    "\n"
   ]
  },
  {
   "cell_type": "markdown",
   "id": "2f5d0af1-4e84-4995-989a-7f7c91d14227",
   "metadata": {},
   "source": [
    "## 問題4\n",
    "リストwordsに格納されている文字列の中で、一番短い文字数の単語を出力してください。   \n",
    "一番短い単語が2つ以上あるときは、最初に出てくる単語を出力してください。  \n",
    "\n",
    "例1　入力) words: 'aaaaa', 'd', 'ccc', 'xxxx'　答え) d  \n",
    "例2　入力) words: '0OZya', 'CNc', '1OSauv'　答え) CNc"
   ]
  },
  {
   "cell_type": "code",
   "execution_count": null,
   "id": "06e7d9a7-bf8b-4413-b50f-8761d079887d",
   "metadata": {
    "tags": []
   },
   "outputs": [],
   "source": [
    "# 生成文\n",
    "import numpy as np\n",
    "import random, string\n",
    "a = np.random.randint(1, 10)\n",
    "words = []\n",
    "for i in range(a):\n",
    "    b = np.random.randint(1, 15)\n",
    "    s = [random.choice(string.ascii_letters + string.digits) for i in range(b)]\n",
    "    s = \"\".join(s)\n",
    "    words.append(s)\n",
    "\n",
    "print(f\"words:{words}\")"
   ]
  },
  {
   "cell_type": "code",
   "execution_count": null,
   "id": "fd6346e3-74c8-4dfb-b177-de778e290d11",
   "metadata": {},
   "outputs": [],
   "source": [
    "# ここから書き出し\n",
    "\n"
   ]
  },
  {
   "cell_type": "markdown",
   "id": "4f4861a4-8303-44bc-9d33-09dba08d88a9",
   "metadata": {},
   "source": [
    "## 問題5\n",
    "空の箱（ボール 0 個）があります。  \n",
    "以下の 2 種類の操作を好きな順番で好きな回数使えます。  \n",
    "操作 A ：箱の中にボールを 1 つ増やす  \n",
    "操作 B ：箱の中のボールの数を 2 倍にする  \n",
    "今、箱の中のボールの数をちょうど N 個にしたいと考えています。  \n",
    "なるべく少ない操作数でこれを実施する場合の、操作のパターンを出力せよ  \n",
    "※2パターンある場合はどちらでもよい  \n",
    "\n",
    "例1　入力) N=8　答え) ABBB  \n",
    "例2　入力) N=10　答え) ABBAB"
   ]
  },
  {
   "cell_type": "code",
   "execution_count": null,
   "id": "763e049f-0f36-48ac-83f6-01b4678f15e6",
   "metadata": {},
   "outputs": [],
   "source": [
    "# 生成文\n",
    "import numpy as np\n",
    "N = np.random.randint(1, 100)\n",
    "print(f\"N:{N}\")"
   ]
  },
  {
   "cell_type": "code",
   "execution_count": null,
   "id": "1701e061-a2cb-4b06-9929-7d9b502b255a",
   "metadata": {},
   "outputs": [],
   "source": [
    "# ここから書き出し\n",
    "\n"
   ]
  },
  {
   "cell_type": "markdown",
   "id": "306fef3a-3c52-40bc-841f-b03b042957fb",
   "metadata": {
    "tags": []
   },
   "source": [
    "## 問題6\n",
    "リスト A には N 個の正の整数 A1,...,AN が入っています。  \n",
    "　A の中身がすべて偶数であるとき，   \n",
    "　A の中身すべてを，2 で割ったものに A を置き換える。  \n",
    "上記の操作が繰り返される回数を出力せよ。\n",
    "\n",
    "例1　入力) [2,4]　過程) [2,4]→[1,2]　答え) 1（回）  \n",
    "例2　入力) [4,8,16]　過程) [4,8,16]→[2,4,8]→[1,2,4]　答え) 2（回）  \n",
    "例3　入力) [5,2]　答え) 0（回）"
   ]
  },
  {
   "cell_type": "code",
   "execution_count": null,
   "id": "ba304731-dd93-4530-84ff-1910fda8c7d7",
   "metadata": {
    "tags": []
   },
   "outputs": [],
   "source": [
    "# 生成文\n",
    "import numpy as np\n",
    "n = np.random.randint(1, 5)\n",
    "a = [np.random.randint(1, 100) for i in range(n)]\n",
    "print(f\"a:{a}\")"
   ]
  },
  {
   "cell_type": "code",
   "execution_count": null,
   "id": "35e42d21-e9a9-44ae-82f0-6cfbb5203e97",
   "metadata": {},
   "outputs": [],
   "source": [
    "# ここから書き出し\n",
    "\n"
   ]
  },
  {
   "cell_type": "markdown",
   "id": "ca4f5487-ef32-4abc-bd60-1096b6a073cf",
   "metadata": {},
   "source": [
    "## 問題7　チンピラたちの戦争\n",
    "この学校にはn人のチンピラがいる（n：偶数）  \n",
    "それぞれのチンピラはpwの強さを持っている（pw：n個のリスト）  \n",
    "明日は隣の学校との戦争が始まる。  \n",
    "戦争では必ず2人1組でタッグを組む。  \n",
    "タッグを組んだ時、2人の合計強さはpwの足し算となる。  \n",
    "\n",
    "以下の作戦を考えた  \n",
    "全てのタッグの中で、最も弱いタッグの強さをpwminとする。  \n",
    "このpwminがなるべく強くなるように組み合わせる。  \n",
    "つまり、なるべく弱いタッグを作らないように組み合わせる。  \n",
    "この場合、pwminはいくらになるか。  \n",
    "\n",
    "例1)　入力) pw = [5,1,3,4]　タッグの組み方) [1+5, 3+4]　答え)6  \n",
    "例2)　入力）pw = [3,7,4,2,1,8]　タッグの組み方) [3+4, 7+2, 8+1]　答え)7  "
   ]
  },
  {
   "cell_type": "code",
   "execution_count": null,
   "id": "410b53b0-4e9d-49d0-8b62-e86381ef5808",
   "metadata": {},
   "outputs": [],
   "source": [
    "# 生成文\n",
    "import numpy as np\n",
    "n = 2 * np.random.randint(1, 10)\n",
    "pw = [np.random.randint(100) for i in range(n)]\n",
    "print(f\"n：{n}人\", f\"pw：{pw}\")"
   ]
  },
  {
   "cell_type": "code",
   "execution_count": null,
   "id": "b875276b-e073-4003-af34-801c1263caa1",
   "metadata": {},
   "outputs": [],
   "source": [
    "# ここから書き出し\n",
    "\n",
    "\n"
   ]
  },
  {
   "cell_type": "markdown",
   "id": "0f5e4aa5-a676-4f21-8ecf-76300697dc0c",
   "metadata": {},
   "source": [
    "# その他、ネットで見つけた練習問題\n",
    "- [python初心者用 基礎演習100本ノック](https://zenn.dev/pell/books/a84eed48e73a6e)  \n",
    "- [鬼の100本ノック](https://www.youtube.com/watch?v=Gh0qRBHbnVs)　※YouTube  \n",
    "- [鬼の50本ノック【応用編】](https://www.youtube.com/watch?v=DkqGC8Jf6Mc)　※YouTube  \n",
    "\n",
    "この辺にまとまっているので、よろしければどうぞ（初心者向けなので、データサイエンスそんなに関係ない部分も多いです）  \n",
    "[【初心者向け】データサイエンスのためのPython学習方法](https://mimikousi.com/python-study/)"
   ]
  },
  {
   "cell_type": "code",
   "execution_count": null,
   "id": "93042375-6b6e-4455-b176-5548ee0ee752",
   "metadata": {},
   "outputs": [],
   "source": []
  }
 ],
 "metadata": {
  "kernelspec": {
   "display_name": "Python 3 (ipykernel)",
   "language": "python",
   "name": "python3"
  },
  "language_info": {
   "codemirror_mode": {
    "name": "ipython",
    "version": 3
   },
   "file_extension": ".py",
   "mimetype": "text/x-python",
   "name": "python",
   "nbconvert_exporter": "python",
   "pygments_lexer": "ipython3",
   "version": "3.9.12"
  },
  "toc-autonumbering": true
 },
 "nbformat": 4,
 "nbformat_minor": 5
}
