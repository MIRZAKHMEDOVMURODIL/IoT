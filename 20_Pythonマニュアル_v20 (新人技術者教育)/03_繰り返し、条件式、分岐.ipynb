{
 "cells": [
  {
   "attachments": {
    "ebaf1e54-aa35-4f71-a532-c76a8450ded9.png": {
     "image/png": "[encoded data removed]"
    }
   },
   "cell_type": "markdown",
   "id": "3f262488-83f9-451e-85b9-327a05fcadb1",
   "metadata": {
    "tags": []
   },
   "source": [
    "# for文  \n",
    "■for文  \n",
    "- 配列の0番目の要素から最後の要素までを順番にiへ代入する  \n",
    "\n",
    "```python\n",
    "for i（変数） in [配列] :\n",
    "    print(i)\n",
    "    \"\"\"ループして行う処理\"\"\"\n",
    "```\n",
    "※配列とは、同じ型の要素を一列に並べたデータ型のこと。  \n",
    "  　Pythonではリストと呼ばれる（リストについては02_リスト操作で解説）  \n",
    "\n",
    "![image.png](attachment:ebaf1e54-aa35-4f71-a532-c76a8450ded9.png)  \n",
    "\n",
    "\n",
    "- 配列を1つずつ取り出し\n",
    "```python\n",
    "list_a = [0,1,2,3]\n",
    "for i in list_a:\n",
    "    print(i)\n",
    "```  \n",
    "\n",
    "\n",
    "- 配列にrange関数を下記のように指定した場合、iに整数0～nまでを順に代入する  \n",
    "```python\n",
    "for i in range(n):\n",
    "    print(i)\n",
    "```  \n",
    " \n",
    "※range（レンジ）は引数に指定した開始数から終了数までの連続した数値を要素として持つ range 型のオブジェクトを作成する関数。  \n",
    "　関数については後述  \n",
    "\n",
    "**※pythonは処理のブロックをインデントで管理しています（for,if,try,while,def,class等すべて）（他の言語と違う）  \n",
    "　コロン「:」をつけて改行すると自動的にインデントが付きます。  \n",
    "　手動でインデントを付ける場合は、半角スペース×4つ or Tabで付けます**  \n",
    " \n",
    " 【参考】  \n",
    " [【Python入門】for文の使い方とは？基礎 + 応用的な使い方を解説](https://www.sejuku.net/blog/24766)  \n",
    " [【初心者必見！】Pythonのfor文の使い方をわかりやすく解説！](https://maro28.com/python-for-how-to-use)  \n",
    " [09. 制御構文（for文） | 中学生でもわかるPython入門シリーズ](https://youtu.be/tOULTwsiSN4)"
   ]
  },
  {
   "cell_type": "code",
   "execution_count": null,
   "id": "3ef5c1bd-9ece-42fb-874e-464b17626312",
   "metadata": {},
   "outputs": [],
   "source": [
    "# list_ex = [1,\"a\",3,\"b\",5,6]\n",
    "# print(list_ex)\n",
    "\n",
    "# # for i in list_ex:\n",
    "# #     print(i)\n",
    "# # print(\"End\")\n"
   ]
  },
  {
   "cell_type": "code",
   "execution_count": null,
   "id": "e18f3eb4-43b5-4389-8db1-b55305cca75f",
   "metadata": {},
   "outputs": [],
   "source": [
    "# for i in range(0, 10):\n",
    "#     print(i)\n",
    "# print(\"End\")\n"
   ]
  },
  {
   "cell_type": "code",
   "execution_count": null,
   "id": "0aceee16-488b-4612-b646-c63b061e5953",
   "metadata": {},
   "outputs": [],
   "source": [
    "\"\"\"range関数：開始値から終了値までの連続した整数を生成する\"\"\"\n",
    "# range(0, 5)\n",
    "\n",
    "# # list(range(0, 5))"
   ]
  },
  {
   "cell_type": "code",
   "execution_count": null,
   "id": "6050e710-42bb-4751-9350-2be896954c01",
   "metadata": {},
   "outputs": [],
   "source": [
    "# stations = [\"東京\", \"品川\", \"新横浜\", \"小田原\", \"熱海\"]\n",
    "\n",
    "# \"\"\"len関数：データの長さを取得する\"\"\"\n",
    "# print(len(stations))\n",
    "\n",
    "# for station in stations:\n",
    "#     print(station)\n",
    "\n",
    "# \"\"\"リストの中の要素を取り出すときは、リストの名前→複数形、forで回す要素→単数形にすると分かりやすい\"\"\""
   ]
  },
  {
   "cell_type": "code",
   "execution_count": null,
   "id": "bdbbb5d1-81b5-470c-bf6f-9e9d5d8f0215",
   "metadata": {},
   "outputs": [],
   "source": [
    "# stations = [\"東京\", \"品川\", \"新横浜\", \"小田原\", \"熱海\", \"三島\"] # 変数stationsを上書きしています（ので、len(stations)が変わるはず）\n",
    "\n",
    "# \"\"\"len関数：データの長さを取得する\"\"\"\n",
    "# len(stations)"
   ]
  },
  {
   "cell_type": "code",
   "execution_count": null,
   "id": "dd81d831-bea1-4640-a068-3014d72f4c13",
   "metadata": {},
   "outputs": [],
   "source": [
    "# stations = [\"東京\", \"品川\", \"新横浜\", \"小田原, \"熱海\", \"三島\", \"新富士\"]\n",
    "\n",
    "# for i in range(0, len(stations)):\n",
    "#     print(i)\n",
    "#     print(stations[i])"
   ]
  },
  {
   "cell_type": "code",
   "execution_count": null,
   "id": "fe162e89-917a-41be-9f40-1355bad9a53a",
   "metadata": {},
   "outputs": [],
   "source": [
    "# stations = [\"東京\", \"品川\", \"新横浜\", \"小田原, \"熱海\", \"三島\", \"新富士\", \"静岡\", \"掛川\"]\n",
    "\n",
    "# \"\"\"lenとrangeの組み合わせ\"\"\"\n",
    "# for i in range(0, len(stations)):\n",
    "#     print(\"■\", i)\n",
    "#     print(stations[i])\n",
    "#     print(f\"{i+1}駅目：{stations[i]}\")\n",
    "# print(\"to be continued...\")"
   ]
  },
  {
   "cell_type": "code",
   "execution_count": null,
   "id": "ac047dd3-7404-4364-9efe-7a0a8c62f1e8",
   "metadata": {},
   "outputs": [],
   "source": [
    "\"\"\"リストへの要素の追加\"\"\"\n",
    "# # []は空のリストという意味\n",
    "# a = [1, 2, 3, 4]\n",
    "\n",
    "# for i in range(5, 8):\n",
    "#     a.append(i)\n",
    "#     print(a)\n",
    "# print(a)\n",
    "\n"
   ]
  },
  {
   "cell_type": "code",
   "execution_count": null,
   "id": "8de0ce18-5ae4-4b9e-b479-f4c1b6ac86a3",
   "metadata": {},
   "outputs": [],
   "source": [
    "# a = [1, 2, 3, 4, 5]\n",
    "\n",
    "# for i in a:\n",
    "#     print(i * 5)\n",
    "# print(\"end\")\n",
    "\n"
   ]
  },
  {
   "cell_type": "markdown",
   "id": "d0da3990-e09b-437e-b28c-c8545525bc2b",
   "metadata": {},
   "source": [
    "# if文  \n",
    "\n",
    "■if文\n",
    "```python\n",
    "if a == b :  \n",
    "    print(\"OK\")\n",
    "```\n",
    "\n",
    "比較演算子　：==,　!=,　<,　>,　<=,　>=,　in,　not in  \n",
    "ブール演算子：and,　or,　not aaa ==  \n",
    "\n",
    "【参考】  \n",
    "- if文の条件分岐について：　  \n",
    "[Pythonのif文による条件分岐の書き方（if, elif, else）](https://note.nkmk.me/python-if-elif-else/)  \n",
    "[if文を使った条件分岐 - Python](https://www.javadrive.jp/python/if/index1.html)  \n",
    "[【Python入門】if文で条件分岐する書き方をサンプルコードとあわせて解説](https://www.pasonatech.co.jp/workstyle/column/detail.html?p=2636)  \n",
    "[08. 制御構文（if文） | 中学生でもわかるPython入門シリーズ](https://www.youtube.com/watch?v=yutXz217ttQ&t=0s)\n",
    "\n",
    "- 演算子について　：[https://www.tohoho-web.com/python/operators.html](とほほのPython入門 - 演算子)  \n",
    "\n",
    "■ifとforの組み合わせ\n",
    "```python\n",
    "for i in range(n):  \n",
    "    if i == 5:\n",
    "        print(str(i) + \"OK\")\n",
    "    else:\n",
    "        print(str(i) + \"NG\")\n",
    "```"
   ]
  },
  {
   "cell_type": "code",
   "execution_count": null,
   "id": "d953789e-6553-4e19-bfbc-9c171e4f3e3a",
   "metadata": {},
   "outputs": [],
   "source": [
    "# a = \"x\"\n",
    "# b = \"x\"\n",
    "\n",
    "# if a == b:\n",
    "#     print(\"OK\")"
   ]
  },
  {
   "cell_type": "code",
   "execution_count": null,
   "id": "c38c0278-09dc-45e5-8fa9-0c0ba85a36fe",
   "metadata": {},
   "outputs": [],
   "source": [
    "# a =\"x\"\n",
    "# b =\"y\"\n",
    "\n",
    "# if a == b:\n",
    "#     print(\"OK\")\n",
    "# else:\n",
    "#     print(\"NG\")\n"
   ]
  },
  {
   "cell_type": "code",
   "execution_count": null,
   "id": "a8e26b37-32e4-4729-b5d8-0ba9b58f23c0",
   "metadata": {},
   "outputs": [],
   "source": [
    "# for i in range(10):\n",
    "#     if i == 5:\n",
    "#         print(str(i) + 'OK')\n",
    "#     else:\n",
    "#         print(str(i) + 'NG')\n",
    "# print('end')"
   ]
  },
  {
   "cell_type": "code",
   "execution_count": null,
   "id": "050b7929-8e6d-4631-a254-9445a2ccc2f3",
   "metadata": {},
   "outputs": [],
   "source": [
    "# list(range(10))"
   ]
  },
  {
   "cell_type": "code",
   "execution_count": null,
   "id": "379d8f71-df46-44e7-9d0f-46bf801a7fba",
   "metadata": {},
   "outputs": [],
   "source": [
    "# # 分岐が3つ以上あるとき\n",
    "# # aの数を変えて実行してみてください\n",
    "\n",
    "# a = 90\n",
    "\n",
    "# if a >= 90:\n",
    "#     print(\"優\")\n",
    "# elif a >= 80:\n",
    "#     print(\"良\")\n",
    "# elif a >= 60:\n",
    "#     print(\"可\")\n",
    "# else:\n",
    "#     print(\"落第\")"
   ]
  },
  {
   "cell_type": "markdown",
   "id": "2fae2f74-388d-4af4-8814-57ba5c60535e",
   "metadata": {},
   "source": [
    "# try文  \n",
    "\n",
    "【参考】  \n",
    "[Pythonの例外処理（try, except, else, finally）](https://note.nkmk.me/python-try-except-else-finally/)  \n",
    "[Pythonの例外処理！try-exceptをわかりやすく解説！](https://www.sejuku.net/blog/23044)  \n",
    "[18. 例外処理 | 中学生でもわかるPython入門シリーズ](https://youtu.be/jnZ9YZHJIhw)  \n",
    "\n",
    "- 想定される例外名を指定したい（出現するエラーによって処理を変更したい）場合は、上記サイトを参照してください  \n",
    "- DE教育では、エラーが発生→即Teams通知を行うことで、異常発生を管理者に通知するようにしています  \n",
    "（詳細は24_Log掃き出し.ipynbを参照）  \n",
    "→以下は、「すべてのエラー」を回避するコードを記載しています\n",
    "\n",
    "■try文\n",
    "```python\n",
    "try:\n",
    "    処理内容\n",
    "except:\n",
    "    エラーが出た時の処理\n",
    "```\n",
    "\n",
    "■エラー内容のアウトプット\n",
    "```python\n",
    "try:\n",
    "    処理内容\n",
    "except Exception as e:\n",
    "    print(e)\n",
    "```\n",
    "\n",
    "■tryとforの組み合わせ\n",
    "```python\n",
    "for i in range(n):  \n",
    "    try:\n",
    "        処理内容\n",
    "    except:\n",
    "        エラーが出た時の処理\n",
    "```\n"
   ]
  },
  {
   "cell_type": "code",
   "execution_count": null,
   "id": "6acf04c0-1755-4cdf-a667-7665c42a261a",
   "metadata": {},
   "outputs": [],
   "source": [
    "\"\"\"エラーで止まる例\"\"\"\n",
    "# a = 2\n",
    "# b = 3\n",
    "\n",
    "# a = a - 1\n",
    "# b = b - 3\n",
    "\n",
    "# print(f\"(a,b)=({a},{b})\")\n",
    "# print(a/b)\n",
    "\n",
    "# c = a + b + 5 # この先の処理をしてくれません！\n",
    "# print(c * 3)"
   ]
  },
  {
   "cell_type": "code",
   "execution_count": null,
   "id": "a92a56eb-a830-4f31-a9d3-a8a0925183e6",
   "metadata": {},
   "outputs": [],
   "source": [
    "\"\"\"エラー回避する処理\"\"\"\n",
    "\n",
    "# a = 2\n",
    "# b = 3\n",
    "\n",
    "# try:\n",
    "#     a = a - 1\n",
    "#     b = b - 3\n",
    "#     print(f\"(a,b)=({a},{b})\")\n",
    "#     print(a/b)\n",
    "# except:\n",
    "#     print(\"NG\")\n",
    "\n",
    "# c = a + b + 5\n",
    "# print(c * 3)"
   ]
  },
  {
   "cell_type": "code",
   "execution_count": null,
   "id": "0217afd0-d145-4aa0-a5ea-8456fc23e116",
   "metadata": {},
   "outputs": [],
   "source": [
    "\"\"\"エラーの内容を出力する処理\"\"\"\n",
    "\n",
    "# a = 2\n",
    "# b = 3\n",
    "\n",
    "# try:\n",
    "#     a = a - 1\n",
    "#     b = b - 3\n",
    "#     print(f\"(a,b)=({a},{b})\")\n",
    "#     print(a/b)\n",
    "\n",
    "# except Exception as e:\n",
    "#     print(f\"NG occured!: {e}\")\n",
    "\n",
    "# c = a + b + 5\n",
    "# print(c * 3)"
   ]
  },
  {
   "cell_type": "markdown",
   "id": "0a5842ad-e003-4d27-8d51-0fd5d61aa639",
   "metadata": {},
   "source": [
    "【問題】  \n",
    "i = 1~10の範囲で、1/(i-3)を出力したい。  \n",
    "エラーが出た場合は、その時のiとエラーを出力したい。"
   ]
  },
  {
   "cell_type": "code",
   "execution_count": null,
   "id": "17ee540d-1b4b-4130-93f9-d822e51d00b5",
   "metadata": {},
   "outputs": [],
   "source": [
    "# 回答は以下に書いてください\n"
   ]
  },
  {
   "cell_type": "code",
   "execution_count": null,
   "id": "82fa775f-b9de-4ab1-a58b-b086fd1b6e29",
   "metadata": {},
   "outputs": [],
   "source": [
    "# # 答え\n",
    "\n",
    "# for i in range(1, 11):\n",
    "#     try:\n",
    "#         print(1 / (i - 3))\n",
    "#     except Exception as e:\n",
    "#         print(i, \":\", e)\n",
    "# print(\"End\")"
   ]
  },
  {
   "cell_type": "markdown",
   "id": "ed8d79fa-2b65-4345-9084-54f8c86be7b8",
   "metadata": {},
   "source": [
    "# while文  \n",
    "■条件を満たす限り処理を実行\n",
    "```python\n",
    "while 条件:\n",
    "    処理内容\n",
    "```\n",
    "■無限に処理を実行（ログを取る時などに使う）\n",
    "```python\n",
    "while True:\n",
    "    処理内容\n",
    "```\n",
    "\n",
    "【参考】  \n",
    "[while文を使った繰り返し](https://www.javadrive.jp/python/for/index1.html)  \n",
    "[while文によるループ](https://www.python.jp/train/loop/index.html)"
   ]
  },
  {
   "cell_type": "code",
   "execution_count": null,
   "id": "6e9b84b9-b6a4-4dde-86db-a1352b710528",
   "metadata": {},
   "outputs": [],
   "source": [
    "# b = 64\n",
    "\n",
    "# while b % 2 == 0:\n",
    "#     b = b/2\n",
    "#     print(b)\n",
    "\n",
    "# print(\"end\")"
   ]
  },
  {
   "cell_type": "code",
   "execution_count": null,
   "id": "b2985248-477e-4cda-8bbd-78a56bb56906",
   "metadata": {},
   "outputs": [],
   "source": [
    "# # 2で割れなくなるまで割り続ける処理 ※上のセルと同じことをしています\n",
    "\n",
    "# b = 64\n",
    "# print(f\"初期値：{b}\")\n",
    "\n",
    "# while b % 2 == 0:\n",
    "#     b /= 2              # ←b = b/2　と同じ（「01_基礎.ipynb」→「変数」の「代入演算子」を参照）\n",
    "#     print(f\"2で割った後：{b}\")\n",
    "# print(\"End\")\n"
   ]
  },
  {
   "cell_type": "code",
   "execution_count": null,
   "id": "8749a88a-b15a-48ca-9e8d-47c14413d1f0",
   "metadata": {},
   "outputs": [],
   "source": []
  }
 ],
 "metadata": {
  "kernelspec": {
   "display_name": "Python 3 (ipykernel)",
   "language": "python",
   "name": "python3"
  },
  "language_info": {
   "codemirror_mode": {
    "name": "ipython",
    "version": 3
   },
   "file_extension": ".py",
   "mimetype": "text/x-python",
   "name": "python",
   "nbconvert_exporter": "python",
   "pygments_lexer": "ipython3",
   "version": "3.9.7"
  }
 },
 "nbformat": 4,
 "nbformat_minor": 5
}
