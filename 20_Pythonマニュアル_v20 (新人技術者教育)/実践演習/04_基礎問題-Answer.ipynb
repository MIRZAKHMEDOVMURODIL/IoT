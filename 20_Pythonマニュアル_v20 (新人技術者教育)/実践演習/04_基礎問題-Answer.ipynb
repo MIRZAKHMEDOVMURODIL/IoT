{
 "cells": [
  {
   "cell_type": "markdown",
   "id": "159c05b4-9062-4e05-9dd8-46830bd89c04",
   "metadata": {
    "tags": []
   },
   "source": [
    "# 基礎問題\n",
    "問題の指示に従って、処理のコードを作成ください。  \n",
    "- 初めに生成文があります。この文を一度実行ください  \n",
    "  ランダムで値が提供されます  \n",
    "- 次に、「ここから書き出し」の部分にコードを記入ください  \n",
    "  回答はprint(…)で出力される形にしてください  \n",
    "  どのような値が生成されても正しい回答が出力されるようにしてください\n",
    "\n",
    "## 問題1\n",
    "整数 a,b,cと、文字列 s が与えられます。  \n",
    "a+b+c の計算結果と、文字列 s を間に空白を入れて並べてprintしなさい。\n",
    "\n",
    "例1　入力) a:3 b:3 c:3 s:aaa　答え) 9 aaa  \n",
    "例2　入力) a:1 b:10 c:100 s:bbb　答え) 111 bbb"
   ]
  },
  {
   "cell_type": "code",
   "execution_count": 1,
   "id": "a61d0712-5105-4851-ac89-9db7cd67adde",
   "metadata": {
    "tags": []
   },
   "outputs": [
    {
     "name": "stdout",
     "output_type": "stream",
     "text": [
      "a:776, b:650, c:831, s:4MvlJTTBwi\n"
     ]
    }
   ],
   "source": [
    "# 生成文\n",
    "import numpy as np\n",
    "import random, string\n",
    "a = np.random.randint(1000)\n",
    "b = np.random.randint(1000)\n",
    "c = np.random.randint(1000)\n",
    "s = [random.choice(string.ascii_letters + string.digits) for i in range(10)]\n",
    "s = \"\".join(s)\n",
    "print(f\"a:{a}, b:{b}, c:{c}, s:{s}\")"
   ]
  },
  {
   "cell_type": "code",
   "execution_count": 2,
   "id": "bb51a2aa-e6d8-4df5-bb45-24531f9aa3ed",
   "metadata": {},
   "outputs": [
    {
     "name": "stdout",
     "output_type": "stream",
     "text": [
      "2257 4MvlJTTBwi\n"
     ]
    }
   ],
   "source": [
    "# ここから書き出し\n",
    "print(f\"{a + b + c} {s}\")"
   ]
  },
  {
   "cell_type": "markdown",
   "id": "3eafef2d-d0dd-4bb0-b8de-9bfee2231f14",
   "metadata": {},
   "source": [
    "## 問題2\n",
    "二つの正整数 a,b が与えられます。  \n",
    "積が偶数の場合Evenをprint、奇数の場合Oddをprintしなさい。\n",
    "\n",
    "例1　入力) a:10 b:5　答え) Even  \n",
    "例2　入力) a:1 b:3　答え) Odd"
   ]
  },
  {
   "cell_type": "code",
   "execution_count": 3,
   "id": "d2d0946b-0e36-494f-b802-d5060663364e",
   "metadata": {},
   "outputs": [
    {
     "name": "stdout",
     "output_type": "stream",
     "text": [
      "a:395, b:102\n"
     ]
    }
   ],
   "source": [
    "# 生成文\n",
    "import numpy as np\n",
    "a = np.random.randint(1000)\n",
    "b = np.random.randint(1000)\n",
    "print(f\"a:{a}, b:{b}\")"
   ]
  },
  {
   "cell_type": "code",
   "execution_count": 4,
   "id": "c84a1c87-b1c1-479c-845f-dc116e8e917f",
   "metadata": {},
   "outputs": [
    {
     "name": "stdout",
     "output_type": "stream",
     "text": [
      "Even\n"
     ]
    }
   ],
   "source": [
    "# ここから書き出し\n",
    "if a * b % 2 == 0:\n",
    "    print(\"Even\")\n",
    "else:\n",
    "    print(\"Odd\")"
   ]
  },
  {
   "cell_type": "markdown",
   "id": "eb32330a-44ab-494d-8106-328d28765f37",
   "metadata": {
    "tags": []
   },
   "source": [
    "## 問題3  \n",
    "正の整数 a があり、各桁はすべて、 0 か 1 となっています。  \n",
    "a の桁の中の 1 の数を求めよ。  \n",
    "\n",
    "例1　入力) 10101　答え) 3  \n",
    "例2　入力) 11110000　答え) 4"
   ]
  },
  {
   "cell_type": "code",
   "execution_count": 5,
   "id": "14f7b056-abaa-460c-a3ba-3831b92ccb24",
   "metadata": {},
   "outputs": [
    {
     "name": "stdout",
     "output_type": "stream",
     "text": [
      "a:1110111\n"
     ]
    }
   ],
   "source": [
    "# 生成文\n",
    "import numpy as np\n",
    "n = np.random.randint(1,10)\n",
    "a=int(\"\".join(map(str,[np.random.randint(2) for i in range(n)])))\n",
    "print(f\"a:{a}\")"
   ]
  },
  {
   "cell_type": "code",
   "execution_count": 6,
   "id": "3aec5bc3-f848-4ce6-9be9-1eb7dd5a0c44",
   "metadata": {},
   "outputs": [
    {
     "name": "stdout",
     "output_type": "stream",
     "text": [
      "6\n"
     ]
    }
   ],
   "source": [
    "# ここから書き出し\n",
    "print(str(a).count(\"1\"))"
   ]
  },
  {
   "cell_type": "markdown",
   "id": "bb37aa34-88c6-464e-9627-a8a138eba267",
   "metadata": {},
   "source": [
    "## 問題4\n",
    "リストwordsに格納されている文字列の中で、一番短い文字数の単語を出力してください。  \n",
    "一番短い単語が2つ以上あるときは、最初に出てくる単語を出力してください。\n",
    "\n",
    "例1　入力) words: 'aaaaa', 'd', 'ccc', 'xxxx'　答え) d  \n",
    "例2　入力) words: '0OZya', 'CNc', '1OSauv'　答え) CNc"
   ]
  },
  {
   "cell_type": "code",
   "execution_count": 23,
   "id": "0d398376-38dd-4b8b-99b2-6724ee8740fb",
   "metadata": {
    "tags": []
   },
   "outputs": [
    {
     "name": "stdout",
     "output_type": "stream",
     "text": [
      "words:['n1m', 'ZcYP6', 'PBZ', '2Mlw2fBS', 'HK']\n"
     ]
    }
   ],
   "source": [
    "# 生成文\n",
    "import numpy as np\n",
    "import random, string\n",
    "a = np.random.randint(1, 10)\n",
    "words = []\n",
    "for i in range(a):\n",
    "    b = np.random.randint(1, 15)\n",
    "    s = [random.choice(string.ascii_letters + string.digits) for i in range(b)]\n",
    "    s = \"\".join(s)\n",
    "    words.append(s)\n",
    "\n",
    "print(f\"words:{words}\")"
   ]
  },
  {
   "cell_type": "code",
   "execution_count": 24,
   "id": "cd51c407-f40a-4b2c-a326-121bdeadaf42",
   "metadata": {},
   "outputs": [
    {
     "name": "stdout",
     "output_type": "stream",
     "text": [
      "HK\n"
     ]
    }
   ],
   "source": [
    "# ここから書き出し\n",
    "\"\"\"順番に文字の長さを比較する\"\"\"\n",
    "min_length_word = words[0]\n",
    "\n",
    "# # 0以降をforループで回す\n",
    "for word in words[1:]:\n",
    "#     print(word)\n",
    "    min_length = len(min_length_word)  #比較する文字数を代入\n",
    "#     print(f'{len(word)} < {min_length}')\n",
    "    if len(word) < min_length:\n",
    "        min_length_word = word         #短い単語を代入\n",
    "        \n",
    "print(min_length_word)"
   ]
  },
  {
   "cell_type": "code",
   "execution_count": 25,
   "id": "3a34bcf8-077f-4f3e-b0c5-b392754add46",
   "metadata": {},
   "outputs": [
    {
     "name": "stdout",
     "output_type": "stream",
     "text": [
      "HK\n"
     ]
    }
   ],
   "source": [
    "min_length_word = words[0]\n",
    "\n",
    "# forをwordで回す\n",
    "for word in words:\n",
    "    if len(min_length_word) > len(word):\n",
    "        min_length_word = word\n",
    "    else:\n",
    "        pass\n",
    "print(min_length_word)"
   ]
  },
  {
   "cell_type": "code",
   "execution_count": 26,
   "id": "47cc622f-8604-43c0-a9b7-8a70857782e0",
   "metadata": {},
   "outputs": [
    {
     "name": "stdout",
     "output_type": "stream",
     "text": [
      "HK\n"
     ]
    }
   ],
   "source": [
    "min_length_word = words[0]\n",
    "\n",
    "# forをiで回す\n",
    "for i in range(0, len(words)):\n",
    "    if len(min_length_word) > len(words[i]):\n",
    "        min_length_word = words[i]\n",
    "    else:\n",
    "        pass\n",
    "print(min_length_word)"
   ]
  },
  {
   "cell_type": "code",
   "execution_count": 27,
   "id": "bd5d797b-387c-41a0-8524-10c108fb5f7f",
   "metadata": {},
   "outputs": [
    {
     "name": "stdout",
     "output_type": "stream",
     "text": [
      "HK\n"
     ]
    }
   ],
   "source": [
    "\"\"\"別解（文字数を数える）\"\"\"\n",
    "list_count = []\n",
    "\n",
    "for word in words:\n",
    "    a = len(word)\n",
    "    list_count.append(a)\n",
    "# print(list_count)\n",
    "\n",
    "b = min(list_count)\n",
    "c = list_count.index(b)\n",
    "\n",
    "print(words[c])"
   ]
  },
  {
   "cell_type": "code",
   "execution_count": 28,
   "id": "1b2e7daf-be37-4ff5-864c-d483e994ced0",
   "metadata": {},
   "outputs": [
    {
     "name": "stdout",
     "output_type": "stream",
     "text": [
      "HK\n"
     ]
    }
   ],
   "source": [
    "\"\"\"別解（wordsを並び替える）\"\"\"\n",
    "sorted_l = sorted(words, key=len)\n",
    "print(sorted_l[0])"
   ]
  },
  {
   "cell_type": "code",
   "execution_count": 29,
   "id": "478970fb-ec7a-416c-9242-45c5e501fe0d",
   "metadata": {},
   "outputs": [
    {
     "name": "stdout",
     "output_type": "stream",
     "text": [
      "HK\n"
     ]
    }
   ],
   "source": [
    "\"\"\"別解（内包表記→minを取る）\"\"\"\n",
    "word_min = min((word for word in words), key =len)\n",
    "print(word_min)"
   ]
  },
  {
   "cell_type": "code",
   "execution_count": 30,
   "id": "07437f22-b9b9-4c6c-a27b-52b4764610fe",
   "metadata": {},
   "outputs": [
    {
     "name": "stdout",
     "output_type": "stream",
     "text": [
      "['pytho', 'pythi', 'pytha']\n"
     ]
    }
   ],
   "source": [
    "words = [\"pytho\", \"pythoooon\", \"pythi\", \"pytha\", \"python\"] # わざと同じ文字数の単語を含むリストを作成しています\n",
    "\n",
    "\"\"\"一番短い文字数の単語が複数あり、最初の1文字だけではなく全部出力する場合\"\"\"\n",
    "list_count = []\n",
    "\n",
    "for word in words:\n",
    "    a = len(word)\n",
    "    list_count.append(a)\n",
    "# print(\"list_count:\", list_count)\n",
    "\n",
    "b = min(list_count)\n",
    "c = [i for i, x in enumerate(list_count) if x == b]\n",
    "# print(\"c\", c)\n",
    "\n",
    "print([words[s] for s in c])\n",
    "\n",
    "# まあまあ力づくで書いているので、もう少しスマートな方法があるかもしれません。"
   ]
  },
  {
   "cell_type": "markdown",
   "id": "ca4ade6a-9f45-4849-a6dd-9d327a3dda38",
   "metadata": {},
   "source": [
    "参考：  \n",
    "[Pythonリスト内包表記の使い方](https://note.nkmk.me/python-list-comprehension/)  \n",
    "[リストの要素が重複している場合: index(), enumerate(), リスト内包表記](https://note.nkmk.me/python-list-index/)"
   ]
  },
  {
   "cell_type": "markdown",
   "id": "4f4861a4-8303-44bc-9d33-09dba08d88a9",
   "metadata": {},
   "source": [
    "## 問題5\n",
    "空の箱（ボール 0 個）があります。  \n",
    "以下の 2 種類の操作を好きな順番で好きな回数使えます。  \n",
    "操作 A ：箱の中にボールを 1 つ増やす  \n",
    "操作 B ：箱の中のボールの数を 2 倍にする  \n",
    "今、箱の中のボールの数をちょうど N 個にしたいと考えています。  \n",
    "なるべく少ない操作数でこれを実施する場合の、操作のパターンを出力せよ  \n",
    "※2パターンある場合はどちらでもよい  \n",
    "\n",
    "例1　入力) N=8　答え) ABBB  \n",
    "例2　入力) N=10　答え) ABBAB"
   ]
  },
  {
   "cell_type": "code",
   "execution_count": 15,
   "id": "763e049f-0f36-48ac-83f6-01b4678f15e6",
   "metadata": {},
   "outputs": [
    {
     "name": "stdout",
     "output_type": "stream",
     "text": [
      "N:8\n"
     ]
    }
   ],
   "source": [
    "# 生成文\n",
    "import numpy as np\n",
    "N = np.random.randint(1, 100)\n",
    "print(f\"N:{N}\")"
   ]
  },
  {
   "cell_type": "code",
   "execution_count": 16,
   "id": "1701e061-a2cb-4b06-9929-7d9b502b255a",
   "metadata": {},
   "outputs": [
    {
     "name": "stdout",
     "output_type": "stream",
     "text": [
      "ABBB\n"
     ]
    }
   ],
   "source": [
    "# ここから書き出し\n",
    "x = \"\"\n",
    "n = N\n",
    "\n",
    "while n != 1: # !=は「左辺等辺が等しくない」という比較演算子\n",
    "    if n % 2 == 0:\n",
    "        n /= 2\n",
    "        x = \"B\" + x\n",
    "    else:\n",
    "        n -= 1\n",
    "        x = \"A\" + x\n",
    "#     print(n, x)\n",
    "\n",
    "# 最初にボール0個→1個にしないといけないので、最初には必ず「A」が必要\n",
    "x = \"A\" + x\n",
    "print(x)\n",
    "\n"
   ]
  },
  {
   "cell_type": "markdown",
   "id": "3d1445c9-510e-43a0-b9a3-8a09e9224f8e",
   "metadata": {},
   "source": [
    "なお、ここから類似問題の解説が見れます。  \n",
    "プログラミング言語はC++みたいなのですが、考え方は同じです。  \n",
    "\n",
    "[【未公開シーン】実験する須貝とプログラミングをする鶴崎【ストレス発散】](https://youtu.be/TJX71Jeg_dc)  \n",
    "※該当の解説は後半"
   ]
  },
  {
   "cell_type": "markdown",
   "id": "306fef3a-3c52-40bc-841f-b03b042957fb",
   "metadata": {
    "tags": []
   },
   "source": [
    "## 問題6\n",
    "リスト A には N 個の正の整数 A1,...,AN が入っています。  \n",
    "　A の中身がすべて偶数であるとき，   \n",
    "　A の中身すべてを，2 で割ったものに A を置き換える。  \n",
    "上記の操作が繰り返される回数を出力せよ。\n",
    "\n",
    "例1　入力) [2,4]　過程) [2,4]→[1,2]　答え) 1（回）  \n",
    "例2　入力) [4,8,16]　過程) [4,8,16]→[2,4,8]→[1,2,4]　答え) 2（回）  \n",
    "例3　入力) [5,2]　答え) 0（回）"
   ]
  },
  {
   "cell_type": "code",
   "execution_count": 17,
   "id": "ba304731-dd93-4530-84ff-1910fda8c7d7",
   "metadata": {
    "tags": []
   },
   "outputs": [
    {
     "name": "stdout",
     "output_type": "stream",
     "text": [
      "a:[41, 26, 69]\n"
     ]
    }
   ],
   "source": [
    "# 生成文\n",
    "import numpy as np\n",
    "n = np.random.randint(1, 5)\n",
    "a = [np.random.randint(1, 100) for i in range(n)]\n",
    "print(f\"a:{a}\")"
   ]
  },
  {
   "cell_type": "code",
   "execution_count": 18,
   "id": "35e42d21-e9a9-44ae-82f0-6cfbb5203e97",
   "metadata": {},
   "outputs": [
    {
     "name": "stdout",
     "output_type": "stream",
     "text": [
      "cnt: 1 judge: 0\n",
      "cnt: 2 judge: 0\n",
      "cnt: 3 judge: 1\n",
      "2\n"
     ]
    }
   ],
   "source": [
    "# ※分かりやすいようにaを固定してコード考えます\n",
    "a = [16, 40, 44, 80]\n",
    "\n",
    "# ここから書き出し\n",
    "cnt = 0\n",
    "judge = 0\n",
    "while judge == 0:\n",
    "    cnt += 1\n",
    "    for i in a:\n",
    "        if i % (2 ** cnt) != 0:\n",
    "            judge = 1\n",
    "    print(\"cnt:\", cnt, \"judge:\", judge)\n",
    "\n",
    "print(cnt-1)"
   ]
  },
  {
   "cell_type": "code",
   "execution_count": 19,
   "id": "00d84740-3b82-4ae7-88d8-5d7aac506701",
   "metadata": {},
   "outputs": [
    {
     "name": "stdout",
     "output_type": "stream",
     "text": [
      "cnt → 1 , a[-4:] → [8, 20, 22, 40] , judge → 0\n",
      "cnt → 2 , a[-4:] → [4, 10, 11, 20] , judge → 0\n",
      "cnt → 3 , a[-4:] → [2, 5, 5, 10] , judge → 1\n",
      "2\n"
     ]
    }
   ],
   "source": [
    "\"\"\"別解（↑の考え方が難しすぎるやん…ということで、強引に別解）\"\"\"\n",
    "\n",
    "a = [16, 40, 44, 80]\n",
    "cnt = 0\n",
    "judge = 0\n",
    "\n",
    "while judge == 0:\n",
    "    cnt = cnt + 1\n",
    "    for i in a[-4:]:\n",
    "        x = i % 2\n",
    "        i = i / 2\n",
    "        a.append(i)\n",
    "        \"リストaの各要素を2で割った値（i）をaに追加し、a末尾の4要素のみ次のループに使います\"\n",
    "#         print(f\"cnt={cnt}, i={int(i)}, x={int(x)}, a={a}\")\n",
    "        if x == 1:\n",
    "            judge = 1\n",
    "    a = [int(i) for i in a] # これはaを見やすくするためだけに書いてます。なぜかfloat型になるので\n",
    "    print(\"cnt →\", cnt, \", a[-4:] →\", a[-4:], \", judge →\", judge)\n",
    "print(cnt-1)"
   ]
  },
  {
   "cell_type": "code",
   "execution_count": 20,
   "id": "d906511a-5060-4909-8cc7-e7958196be90",
   "metadata": {},
   "outputs": [
    {
     "name": "stdout",
     "output_type": "stream",
     "text": [
      "[8.0, 20.0, 22.0, 40.0]\n",
      "[4.0, 10.0, 11.0, 20.0]\n",
      "2\n"
     ]
    }
   ],
   "source": [
    "\"\"\"別解（最初の考え方が難しすぎるやん…ということで、↑のよりもう少しスマートな解法）\"\"\"\n",
    "a = [16, 40, 44, 80]\n",
    "x = 0\n",
    "y = 1\n",
    "while y > 0:\n",
    "    for i in range(len(a)):\n",
    "        if i != (len(a)-1):\n",
    "            if a[i] % 2 == 0:\n",
    "                a[i] = a[i]/2\n",
    "            else:\n",
    "                print(x)\n",
    "                y = 0\n",
    "                break\n",
    "        else:\n",
    "            if a[i] % 2 == 0:\n",
    "                a[i] = a[i]/2\n",
    "                x += 1\n",
    "                print(a)\n",
    "            else:\n",
    "                print(x)\n",
    "                y = 0\n",
    "                break"
   ]
  },
  {
   "cell_type": "markdown",
   "id": "ca4f5487-ef32-4abc-bd60-1096b6a073cf",
   "metadata": {},
   "source": [
    "## 問題7　チンピラたちの戦争\n",
    "この学校にはn人のチンピラがいる（n：偶数）  \n",
    "それぞれのチンピラはpwの強さを持っている（pw：n個のリスト）  \n",
    "明日は隣の学校との戦争が始まる。  \n",
    "戦争では必ず2人1組でタッグを組む。  \n",
    "タッグを組んだ時、2人の合計強さはpwの足し算となる。  \n",
    "\n",
    "以下の作戦を考えた  \n",
    "全てのタッグの中で、最も弱いタッグの強さをpwminとする。  \n",
    "このpwminがなるべく強くなるように組み合わせる。  \n",
    "つまり、なるべく弱いタッグを作らないように組み合わせる。  \n",
    "この場合、pwminはいくらになるか。  \n",
    "\n",
    "例1)　入力) pw = [5,1,3,4]　タッグの組み方) [1+5, 3+4]　答え)6  \n",
    "例2)　入力）pw = [3,7,4,2,1,8]　タッグの組み方) [3+4, 7+2, 8+1]　答え)7  "
   ]
  },
  {
   "cell_type": "code",
   "execution_count": 21,
   "id": "410b53b0-4e9d-49d0-8b62-e86381ef5808",
   "metadata": {},
   "outputs": [
    {
     "name": "stdout",
     "output_type": "stream",
     "text": [
      "n：6人 pw：[80, 2, 22, 28, 18, 96]\n"
     ]
    }
   ],
   "source": [
    "# 生成文\n",
    "import numpy as np\n",
    "n = 2 * np.random.randint(1, 10)\n",
    "pw = [np.random.randint(100) for i in range(n)]\n",
    "print(f\"n：{n}人\", f\"pw：{pw}\")"
   ]
  },
  {
   "cell_type": "code",
   "execution_count": 22,
   "id": "b875276b-e073-4003-af34-801c1263caa1",
   "metadata": {},
   "outputs": [
    {
     "name": "stdout",
     "output_type": "stream",
     "text": [
      "pw: [2, 38, 39, 57, 69, 91, 91, 96]\n",
      "pwd: [98, 129, 130, 126]\n",
      "pwd_min: 98\n"
     ]
    }
   ],
   "source": [
    "# ここから書き出し\n",
    "n = 8\n",
    "pw = [96, 2, 57, 39, 69, 91, 91, 38] # 検証しやすいよう、pwにわざと極端な組み合わせを指定しています\n",
    "\n",
    "pw.sort()\n",
    "print('pw:', pw)\n",
    "\n",
    "pwd = []\n",
    "for i in range(int(n/2)):\n",
    "    pwd.append(pw[i] + pw[-i-1])\n",
    "#     print(pwd)\n",
    "print('pwd:', pwd)\n",
    "print('pwd_min:', min(pwd))"
   ]
  },
  {
   "cell_type": "code",
   "execution_count": null,
   "id": "78216963-b831-47f7-ac7e-8cb36ff50936",
   "metadata": {},
   "outputs": [],
   "source": []
  },
  {
   "cell_type": "code",
   "execution_count": null,
   "id": "6a9479ec-2297-4ff0-82bd-0a317b6b64cb",
   "metadata": {},
   "outputs": [],
   "source": []
  }
 ],
 "metadata": {
  "kernelspec": {
   "display_name": "Python 3 (ipykernel)",
   "language": "python",
   "name": "python3"
  },
  "language_info": {
   "codemirror_mode": {
    "name": "ipython",
    "version": 3
   },
   "file_extension": ".py",
   "mimetype": "text/x-python",
   "name": "python",
   "nbconvert_exporter": "python",
   "pygments_lexer": "ipython3",
   "version": "3.9.7"
  },
  "toc-autonumbering": true
 },
 "nbformat": 4,
 "nbformat_minor": 5
}
