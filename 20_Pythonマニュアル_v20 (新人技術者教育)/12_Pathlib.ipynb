{
 "cells": [
  {
   "cell_type": "markdown",
   "id": "a406f630-1ae8-4ad7-ba42-73e4f2147cef",
   "metadata": {
    "tags": []
   },
   "source": [
    "# ライブラリインポート\n",
    "pathlib：ファイル読み取り＆ファイル操作  \n",
    "フォルダの中にあるファイルのpath一覧を取得するために主に使います。  \n",
    "pathが取得できれば、DataFrameに中身を取り込めます。  \n",
    "まずはpathlibライブラリのインポートから。読み取るのはpathlibモジュールのPathクラスだけです。  \n",
    "\n",
    "参考：[pathlibとかいう優秀すぎる標準ライブラリ(python)](https://may46onez.hatenablog.com/entry/2018/09/18/233606)  \n",
    "　　[Python, pathlibでファイル一覧を取得（glob, iterdir）](https://note.nkmk.me/python-pathlib-iterdir-glob/)  \n",
    "\n",
    "■ライブラリインポート\n",
    "```python\n",
    "from pathlib import Path\n",
    "```"
   ]
  },
  {
   "cell_type": "code",
   "execution_count": null,
   "id": "918f32ed-75a4-4d6d-88a8-0f74de5b70fc",
   "metadata": {
    "tags": []
   },
   "outputs": [],
   "source": [
    "# from pathlib import Path\n"
   ]
  },
  {
   "cell_type": "markdown",
   "id": "3385a170-9161-4d04-bc54-694a60333270",
   "metadata": {},
   "source": [
    "# フォルダ指定\n",
    "フォルダやファイルを指定しておくと、その後pathlibの機能が使えます。  \n",
    "\n",
    "■フォルダの指定  \n",
    "**※Windowsから取ってくる人は、文字列のクオテーションの前に小文字のrを付けておく（思考停止でつけておくように）**\n",
    "```python\n",
    "folder = Path(r\"フォルダパス\")\n",
    "```\n",
    "■フォルダの中のファイル一覧を読み取り  \n",
    "※globの中の「\\*」はパターンマッチングの表現が可能で、名前のフィルタをかける事が可能です  \n",
    "　https://www.javadrive.jp/python/file/index15.html  \n",
    "```python\n",
    "files = list(folder.glob(\"*\"))\n",
    "```\n",
    "※`list()`をつけなくても使えます。その場合filesはgenerator型となります  \n",
    "　generator型がわからない方は`list()`をつけて使ってください\n",
    "\n",
    "■ファイルを1つずつ取り出して処理\n",
    "```python\n",
    "for file in files:\n",
    "    処理内容\n",
    "```\n",
    "■ファイルの直接指定  \n",
    "```python\n",
    "file = Path(r\"ファイル名（パス込み）\")\n",
    "```\n",
    "■ファイルパスの結合\n",
    "```python\n",
    "# WindowsPath型の変数に、パスを続けて書ける\n",
    "folder/\"4.txt\"\n",
    "```"
   ]
  },
  {
   "cell_type": "code",
   "execution_count": null,
   "id": "7f4d25a2-cfca-4f35-a460-5d1a1fa66a1a",
   "metadata": {},
   "outputs": [],
   "source": [
    "# folder = Path(r\"./file/pathlib/a\")\n",
    "# # type(folder)\n",
    "\n",
    "# files = list(folder.glob(\"*.csv\"))\n",
    "# files\n"
   ]
  },
  {
   "cell_type": "code",
   "execution_count": null,
   "id": "7b7c4f43-ed55-4b6d-8918-e4583b22b732",
   "metadata": {},
   "outputs": [],
   "source": [
    "# folder = Path(r\"./file/pathlib/a\")\n",
    "# files = list(folder.glob(\"*.csv\"))\n",
    "# print(files)\n",
    "\n",
    "# # # import pandas as pd  # 本当は、importするライブラリはまとめて最初に書く方が良い（こんな風に途中のセルでimportしないように）\n",
    "\n",
    "# for file in files:\n",
    "#     print(file)\n",
    "#     df = pd.read_csv(file)\n",
    "#     display(df)\n"
   ]
  },
  {
   "cell_type": "code",
   "execution_count": null,
   "id": "6cc93585-ec9a-4fbc-919d-cab01be2586b",
   "metadata": {},
   "outputs": [],
   "source": [
    "# \"\"\"「pathlib」フォルダ以下のすべてのファイルを引っ張る（再帰処理）　→glob引数の文字列に\"**/\"をつける\"\"\"\n",
    "# folder = Path(r\"./file/pathlib\")\n",
    "# files = list(folder.glob(\"**/*\"))\n",
    "# files"
   ]
  },
  {
   "cell_type": "code",
   "execution_count": null,
   "id": "f499e992-63a8-4f81-badc-d765dd2583bf",
   "metadata": {},
   "outputs": [],
   "source": [
    "# \"\"\"「pathlib」フォルダ以下のすべてのcsvファイルを引っ張る\"\"\"\n",
    "# folder = Path(r\"./file/pathlib\")\n",
    "# files = list(folder.glob(\"**/*.csv\"))\n",
    "# files\n"
   ]
  },
  {
   "cell_type": "code",
   "execution_count": null,
   "id": "2b12f0e2-652a-4c8b-879f-c16b4bf0779c",
   "metadata": {},
   "outputs": [],
   "source": [
    "# \"\"\"なお、アスタリスク（*）を一つにすると、その階層にあるファイルだけ読む\"\"\"\n",
    "# files_hide = list(folder.glob(\"*/*\"))\n",
    "# files_hide\n",
    "\n",
    "# # そこにあるファイルと、「ipynb-checkpoints」というフォルダを読み込むと思います"
   ]
  },
  {
   "cell_type": "code",
   "execution_count": null,
   "id": "a4999b8b-a913-4fc1-8249-413dd7bd9eae",
   "metadata": {},
   "outputs": [],
   "source": [
    "# \"\"\"「pathlib」フォルダの一つ下のすべての階層にあるcsvファイル\"\"\"\n",
    "# folder = Path(r\"./file/pathlib\")\n",
    "# files = list(folder.glob(\"*/*.csv\"))\n",
    "# files\n"
   ]
  },
  {
   "cell_type": "markdown",
   "id": "128bd13a-1943-4fa4-98e9-d72b04130e03",
   "metadata": {},
   "source": [
    "\\**、\\*の使い分けについてはこのあたりを参照  \n",
    "[【Python3】フォルダの中のフォルダの中のファイルをごそっと取得](https://note.com/yucco72/n/n7a5dbf5bb68b)"
   ]
  },
  {
   "cell_type": "code",
   "execution_count": null,
   "id": "16d67640-4bef-4bdb-8fbd-7a98ae48966a",
   "metadata": {},
   "outputs": [],
   "source": [
    "# # 1階層上位フォルダ以下のすべてのcsvファイル（ピリオドを増やすとそれだけ上の階層に行きます）\n",
    "# folder1 = Path(\"../\")\n",
    "# files = list(folder1.glob(\"*/*.csv\"))\n",
    "# files\n"
   ]
  },
  {
   "cell_type": "markdown",
   "id": "0a9be404-d94e-4664-8df9-4e6a2662f0bc",
   "metadata": {},
   "source": [
    "親ディレクトリその他はこの辺を参照（他にもあるので知りたい人は調べてください）  \n",
    "[Python, pathlibの使い方（パスをオブジェクトとして操作・処理）](https://note.nkmk.me/python-pathlib-usage/)"
   ]
  },
  {
   "cell_type": "code",
   "execution_count": null,
   "id": "b7270ab9-c724-4926-a5e5-16820e754eee",
   "metadata": {},
   "outputs": [],
   "source": [
    "# # WindowsPath型の変数に、パスを文字列で続けて書ける（osモジュールではこのような書き方はできないので便利！）\n",
    "# folder = Path(r\"./file/pathlib\")\n",
    "# file = folder/\"a/t1.txt\"\n",
    "# file"
   ]
  },
  {
   "cell_type": "markdown",
   "id": "1d584943-665e-45ec-a178-51fada41b3c9",
   "metadata": {},
   "source": [
    "# ファイルの情報読み取り\n",
    "## ファイル名、フォルダ名読み取り\n",
    "\n",
    "※以下、「file」はファイルパスが格納されている、Windowspath型の変数です。  \n",
    "　```file = Path(\"ファイル名（パス込み）\") ``` \n",
    "\n",
    "■ファイル名読み取り（拡張子なし）**★よく使う**\n",
    "```python\n",
    "file.stem\n",
    "```\n",
    "■ファイル名読み取り（拡張子有り）\n",
    "```python\n",
    "file.name\n",
    "```\n",
    "■親フォルダ名読み取り\n",
    "```python\n",
    "file.parent\n",
    "```\n",
    "■絶対パス読み取り\n",
    "```python\n",
    "file.resolve()\n",
    "```  \n",
    "■親フォルダに含まれるフォルダ名を取得  \n",
    "```python\n",
    "file.parts[-i]\n",
    "# file.partsでpathを\\で分け、タプルを生成。リスト形式で-i番目を指定することで、必要なフォルダ名を取得\n",
    "```"
   ]
  },
  {
   "cell_type": "code",
   "execution_count": null,
   "id": "6b384ab4-77da-42d2-aab6-49e5dc44d73c",
   "metadata": {},
   "outputs": [],
   "source": [
    "# file = Path(r\"./file/pathlib/a/data_t1.txt\")\n",
    "\n",
    "# print(file.stem) # ファイル名（拡張子なし） \n",
    "# print(file.name) # ファイル名（拡張子あり）"
   ]
  },
  {
   "cell_type": "code",
   "execution_count": null,
   "id": "8bf26468-aa7a-481c-8840-30bbb3fa5aea",
   "metadata": {},
   "outputs": [],
   "source": [
    "# print(file.parent) # 親フォルダ\n",
    "# print(file.resolve()) # ファイルの絶対パス"
   ]
  },
  {
   "cell_type": "code",
   "execution_count": null,
   "id": "e9724751-a5a5-42c9-b44a-4edc51c56568",
   "metadata": {},
   "outputs": [],
   "source": [
    "# print(file.parts) # 親フォルダをtupleで出力\n",
    "# print(file.parts[-2]) # ファイルがいるフォルダ名"
   ]
  },
  {
   "cell_type": "markdown",
   "id": "00671617-d5f3-45c3-8851-16b81e6d68c0",
   "metadata": {
    "tags": []
   },
   "source": [
    "## その他情報読み取り\n",
    "\n",
    "■ファイル更新時間読み取り（エポック秒）\n",
    "```python\n",
    "file.stat().st_mtime\n",
    "```\n",
    "\n",
    "■ファイル更新時間読み取り（文字列変換）  \n",
    "  （`time.strftime`関数の第一引数は、好きな書式を設定）  \n",
    "```python\n",
    "import time\n",
    "time.strftime(\"%Y-%m-%d %H:%M:%S\", time.localtime(file.stat().st_mtime))\n",
    "```\n",
    "\n",
    "■ファイルかどうか確認\n",
    "```python\n",
    "file.is_file()\n",
    "```\n",
    "■パスのファイル、またはディレクトリが存在しているかどうかを判定  \n",
    "```python\n",
    "file.exists()\n",
    "```"
   ]
  },
  {
   "cell_type": "code",
   "execution_count": null,
   "id": "5af9bf62-af01-4db9-acd2-0362887ccf56",
   "metadata": {},
   "outputs": [],
   "source": [
    "# file = Path(r\"./file/pathlib/a/result_1.csv\")\n",
    "# print(file.stat().st_mtime)\n",
    "\n",
    "# import time\n",
    "# print(time.strftime(\"%Y/%m/%d %H:%M:%S\", time.localtime(file.stat().st_mtime)))\n"
   ]
  },
  {
   "cell_type": "code",
   "execution_count": null,
   "id": "3f1a258e-0199-4bf8-8825-112020ed5fa8",
   "metadata": {},
   "outputs": [],
   "source": [
    "# folder = Path(r\"./file/pathlib/a\")\n",
    "# files = list(folder.glob(\"*\"))\n",
    "\n",
    "# for file in files:\n",
    "#     if file.is_file():\n",
    "#         print(f\"ファイル【〇】：{file.stem}\")\n",
    "#     else:\n",
    "#         print(f\"フォルダ【×】：{file.stem}\")\n"
   ]
  },
  {
   "cell_type": "code",
   "execution_count": null,
   "id": "3e76cebc-af8d-494e-9fa2-178efd47d6e4",
   "metadata": {},
   "outputs": [],
   "source": [
    "# file_a = Path(r\"./file/pathlib/a/result_1.csv\")\n",
    "# print(file_a.exists())\n",
    "\n",
    "# file_b = Path(r\"./file/pathlib/a/result_5.csv\")\n",
    "# print(file_b.exists())"
   ]
  },
  {
   "cell_type": "markdown",
   "id": "deb86076-41df-423a-9325-d567fba26c8b",
   "metadata": {
    "tags": []
   },
   "source": [
    "# ファイルコピー、移動、削除\n",
    "\n",
    "■ファイルコピー  \n",
    "※別途shutilライブラリのインポート必要  \n",
    "```python\n",
    "import shutil\n",
    "shutil.copy(file, \"移動後のパス\")\n",
    "```\n",
    "■ファイル移動  \n",
    "※別途shutilライブラリのインポート必要  \n",
    "```python\n",
    "import shutil\n",
    "shutil.move(file, \"移動後のパス\")\n",
    "```\n",
    "■ファイル削除\n",
    "```python\n",
    "file.unlink()\n",
    "```"
   ]
  },
  {
   "cell_type": "code",
   "execution_count": null,
   "id": "20bfd2a0-a9b5-4e72-a45f-3ea3c283f0bd",
   "metadata": {},
   "outputs": [],
   "source": [
    "# import shutil\n",
    "# file = Path(r\"./file/pathlib/move/before/1.txt\")\n",
    "# shutil.copy(file, r\"./file/pathlib/move/after\")\n"
   ]
  },
  {
   "cell_type": "code",
   "execution_count": null,
   "id": "93163c9c-4fff-4f7b-b1fc-dc93ac6c2b86",
   "metadata": {},
   "outputs": [],
   "source": [
    "# file = Path(r\"./file/pathlib/move/after/1.txt\")\n",
    "# file.unlink()\n"
   ]
  },
  {
   "cell_type": "markdown",
   "id": "8e6d9582-438a-469a-b088-ebf484ef8d15",
   "metadata": {},
   "source": [
    "# ソート\n",
    "pathlibの機能というより、listの機能になります  \n",
    "pathlibで受け取ったfilesを並べ替える\n",
    "\n",
    "- 更新時間順でソート  \n",
    "※ osモジュールをインポートする\n",
    "```python\n",
    "import os\n",
    "files.sort(key=os.path.getmtime)\n",
    "```  \n",
    "\n",
    "【参考】  \n",
    "・gettimeの種類  \n",
    "https://docs.python.org/ja/3/library/os.path.html  \n",
    "※長いので、「getmtime」などで検索をかけてください。真ん中のあたりにあります  \n",
    "\n",
    "\n",
    "- ファイル名でソート  \n",
    "```python\n",
    "files = sorted(files, key=lambda x: x.stem)\n",
    "```  \n",
    "\n",
    "\n",
    "- リストの最初 or 最後のファイルを変数fileに格納  \n",
    "\n",
    "```python\n",
    "# 並べ替えたファイルの一番最初のファイルを取る\n",
    "file = files[0]\n",
    "\n",
    "# 並べ替えたファイルの一番最後のファイルを取る\n",
    "file = files[-1]\n",
    "```\n",
    "  \n",
    "■表示形式  \n",
    "os.path.gettimeの情報はエポック秒で表示されてしまうため、datetimeオブジェクトに変換するにはdatetimeモジュールのdatetime.fromtimestamp()関数を使う。  \n",
    "\n",
    "```python  \n",
    "import datetime\n",
    "print(datetime.datetime.fromtimestamp([ファイルパス].stat().st_mtime).strftime('%Y-%m-%d %H:%M:%S'))  \n",
    "```  \n",
    "`[ファイルパス].stat().st_mtime)`はエポック秒で取れるので、`datetime.datetime.fromtimestamp`で文字列に直す  \n",
    "※`.strftime('%Y-%m-%d %H:%M:%S')`はフォーマット指定のために入れています"
   ]
  },
  {
   "cell_type": "code",
   "execution_count": null,
   "id": "c2872d05-4267-4d45-a88b-bcc7ce57f92c",
   "metadata": {},
   "outputs": [],
   "source": [
    "# from pathlib import Path\n",
    "# import os\n",
    "# folder = Path(r\"./file/pathlib/a\")\n",
    "# files = list(folder.glob(\"*\"))\n",
    "\n",
    "# files.sort(key=os.path.getmtime)\n",
    "# print(files)\n",
    "\n",
    "# # for file in files:\n",
    "# #     print(file.stem, ':', file.stat().st_mtime)\n",
    "\n",
    "# # # print(\" -----------------getmtimeの表示形式変更------------------- \")\n",
    "# # # import datetime\n",
    "# # # for file in files:\n",
    "# # #     print(file.stem, ':', datetime.datetime.fromtimestamp(file.stat().st_mtime).strftime('%Y-%m-%d %H:%M:%S'))\n"
   ]
  },
  {
   "cell_type": "markdown",
   "id": "e1a06b46-df15-469e-9cdf-862e56e6230f",
   "metadata": {},
   "source": [
    "# Pathlib未対応のライブラリでの処理\n",
    "\n",
    "ライブラリによっては、Pathlibが未対応のものがあります。  \n",
    "その場合は、PathlibのWindowspath型 → str型へ変換してから使ってください。  \n",
    "\n",
    "```python\n",
    "path_pl = Path(r\"ファイルパス or フォルダパス\")\n",
    "path_str = str(path_pl)\n",
    "```"
   ]
  },
  {
   "cell_type": "code",
   "execution_count": null,
   "id": "1610131d-f69e-490b-a18e-f9757da4fdf6",
   "metadata": {},
   "outputs": [],
   "source": [
    "# path_pl = Path(r\"./\") # 「今いるフォルダ（カレントディレクトリ）」を相対パスで取得\n",
    "# print(type(path_pl)) # path_plはWindowspath型\n",
    "\n",
    "# path_pl = path_pl.resolve() # 「今いるフォルダ」の絶対パスを取得している\n",
    "# path_str = str(path_pl)\n",
    "\n",
    "# print(path_str)\n",
    "# print(type(path_str)) # ファイルパスが文字列型に変更されている"
   ]
  },
  {
   "cell_type": "markdown",
   "id": "6dc4c25c-d22e-4102-b7ab-29614a5c8bc2",
   "metadata": {},
   "source": [
    "**おまけ**  \n",
    "相対パス`r\"./\"`などが使えない時に「今いるフォルダ」を取得したい場合は、osモジュールのgetcwdを使う（Jupyterの`%pwd`と同じ。`%pwd`はpyファイルでは使えないので注意）  \n",
    "\n",
    "```python\n",
    "import os\n",
    "cur_path = os.getcwd()\n",
    "print(cur_path)\n",
    "\n",
    "# cur_pathが取得できたら、その後は同じような操作が可能\n",
    "folder = Path(cur_path)\n",
    "```  "
   ]
  },
  {
   "cell_type": "code",
   "execution_count": null,
   "id": "743b0b66-345d-4e40-8744-c4b135a6468e",
   "metadata": {},
   "outputs": [],
   "source": []
  }
 ],
 "metadata": {
  "kernelspec": {
   "display_name": "Python 3 (ipykernel)",
   "language": "python",
   "name": "python3"
  },
  "language_info": {
   "codemirror_mode": {
    "name": "ipython",
    "version": 3
   },
   "file_extension": ".py",
   "mimetype": "text/x-python",
   "name": "python",
   "nbconvert_exporter": "python",
   "pygments_lexer": "ipython3",
   "version": "3.9.12"
  },
  "toc-autonumbering": true
 },
 "nbformat": 4,
 "nbformat_minor": 5
}
