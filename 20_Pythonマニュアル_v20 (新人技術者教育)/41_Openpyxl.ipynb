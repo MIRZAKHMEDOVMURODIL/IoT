{
 "cells": [
  {
   "cell_type": "markdown",
   "id": "07e2cae9-e40d-41b2-8367-a6f16cdd963a",
   "metadata": {},
   "source": [
    "# OpenPyXL\n",
    "\n",
    "- Excelの読み書きをPythonで行うためのモジュール  \n",
    "- ファイルの拡張子は「.xlsx」でないと読めない\n",
    "- **注意　Excelファイルによっては読み込めないことがあります（特に、既存のグラフによってはエラーで読めない可能性があります）**"
   ]
  },
  {
   "cell_type": "markdown",
   "id": "9a0a572e-e68b-4ae5-a09b-4b5258f2da2b",
   "metadata": {},
   "source": [
    "# ライブラリインストール\n",
    "\n",
    "CMDで実行する方はこちら  \n",
    "`py -m pip install openpyxl`"
   ]
  },
  {
   "cell_type": "code",
   "execution_count": 1,
   "id": "0151478b-78fd-45ab-b160-0040f351ac2a",
   "metadata": {},
   "outputs": [],
   "source": [
    "# # ここで下記のコードを実行してもインストールできます\n",
    "# ! py -m pip install openpyxl"
   ]
  },
  {
   "cell_type": "markdown",
   "id": "c9eb1441-8c57-4a5c-84b4-0d2a2b9a0935",
   "metadata": {},
   "source": [
    "# ライブラリインポート\n",
    "```python\n",
    "import openpyxl\n",
    "```"
   ]
  },
  {
   "cell_type": "code",
   "execution_count": 2,
   "id": "f290c106-0c4e-41d0-9e07-3eb42cf0b4af",
   "metadata": {},
   "outputs": [],
   "source": [
    "# import openpyxl\n",
    "\n"
   ]
  },
  {
   "cell_type": "markdown",
   "id": "aa01932a-7548-441d-bef5-93da3dc79f7e",
   "metadata": {},
   "source": [
    "# 関数一覧  \n",
    "\n",
    "- [openpyxl による Excelファイル操作方法のまとめ](https://gammasoft.jp/support/how-to-use-openpyxl-for-excel-file/)  \n",
    "- [openpyxl | pythonでExcelを操作する方法徹底「図解」！](https://www.yutaka-note.com/entry/openpyxl)  \n",
    "- [OpenPyXL入門！使い方や基礎メソッドを7の事例で紹介(初心者向け)](https://fastclassinfo.com/entry/python_excel_beginners/)"
   ]
  },
  {
   "cell_type": "markdown",
   "id": "5c77d6c1-5970-4831-820f-d62272d3dfde",
   "metadata": {},
   "source": [
    "# 主な操作\n",
    "\n",
    "- Excelファイルは主に、Pandasとopenpyxlの2つで操作する  \n",
    "- Pandas：データ操作、加工\n",
    "- openpyxl：Excelの標準規格でファイルを読み書き（計算機能はなく、数式はExcelを起動しないと実行されない）  \n",
    "参考：[Excelファイルを扱う上での openpyxl と pandas の違い](https://gammasoft.jp/blog/openpyxl-vs-pandas/)\n",
    "\n",
    "・DEの場合は下記のようなイメージ  \n",
    "　　openpyxlの関数とFor文を使い、ExcelのSheetをPandas Dataframeとして読み込み  \n",
    "　→ 読み込んだDataFrameをPandasで加工  \n",
    "　→ 完成したDataFrameをDBに入れる/Excelファイルとして出力  \n",
    "　→ Excelファイルの体裁を、openpyxlの機能を使って整える\n",
    "\n",
    "\n",
    "■Excelファイル読み込み\n",
    "```python\n",
    "# Excelファイルを読み込み、Workbookオブジェクトとして変数に格納\n",
    "wb = openpyxl.load_workbook(\"ファイルパス\")\n",
    "```\n",
    "\n",
    "■wbのシート名をリスト形式で出力\n",
    "```python\n",
    "wb.sheetnames\n",
    "# 出力：['0101', '0201', '0301']　※要素はストリング型\n",
    "```\n",
    "\n",
    "■wbのワークシートを指定\n",
    "```python\n",
    "wb.worksheets[i]\n",
    "# or\n",
    "wb.worksheets['ワークシート名']\n",
    "# 出力：[<Worksheet \"0101\">]　※要素は「openpyxl.worksheet.worksheet.Worksheet」型\n",
    "```\n",
    "\n",
    "■読み込んだすべてのExcelファイルと、すべてのExcelシートをdfに出力して加工\n",
    "```python\n",
    "for file in files:\n",
    "    for sheetname in wb.sheetnames:\n",
    "        df = pd.read_excel(file, sheet_name=sheetname)\n",
    "```\n",
    "\n",
    "■作成したDataFrameをExcelに出力（Excelは新規作成）\n",
    "```python\n",
    "df.to_excel('出力するExcelファイルパス', encoding='cp932')\n",
    "```"
   ]
  },
  {
   "cell_type": "code",
   "execution_count": 3,
   "id": "a60d28a3-df14-4ed1-9d05-a5da6753fa77",
   "metadata": {},
   "outputs": [],
   "source": [
    "import pandas as pd\n",
    "from pathlib import Path\n",
    "import shutil"
   ]
  },
  {
   "cell_type": "code",
   "execution_count": 4,
   "id": "01203993-13c3-4c32-81c3-b3f9358f2ca0",
   "metadata": {},
   "outputs": [
    {
     "name": "stdout",
     "output_type": "stream",
     "text": [
      "[WindowsPath('//10.110.0.44/everyone/m03/220301_a社.xlsx'), WindowsPath('//10.110.0.44/everyone/m03/220301_a社_all.xlsx')]\n"
     ]
    },
    {
     "data": {
      "text/html": [
       "<div>\n",
       "<style scoped>\n",
       "    .dataframe tbody tr th:only-of-type {\n",
       "        vertical-align: middle;\n",
       "    }\n",
       "\n",
       "    .dataframe tbody tr th {\n",
       "        vertical-align: top;\n",
       "    }\n",
       "\n",
       "    .dataframe thead th {\n",
       "        text-align: right;\n",
       "    }\n",
       "</style>\n",
       "<table border=\"1\" class=\"dataframe\">\n",
       "  <thead>\n",
       "    <tr style=\"text-align: right;\">\n",
       "      <th></th>\n",
       "      <th>UDATE</th>\n",
       "      <th>PARTS</th>\n",
       "      <th>CYC</th>\n",
       "    </tr>\n",
       "  </thead>\n",
       "  <tbody>\n",
       "    <tr>\n",
       "      <th>0</th>\n",
       "      <td>2021-01-01</td>\n",
       "      <td>a001</td>\n",
       "      <td>1</td>\n",
       "    </tr>\n",
       "    <tr>\n",
       "      <th>1</th>\n",
       "      <td>2021-01-01</td>\n",
       "      <td>a002</td>\n",
       "      <td>2</td>\n",
       "    </tr>\n",
       "    <tr>\n",
       "      <th>2</th>\n",
       "      <td>2021-01-01</td>\n",
       "      <td>a003</td>\n",
       "      <td>2</td>\n",
       "    </tr>\n",
       "    <tr>\n",
       "      <th>3</th>\n",
       "      <td>2021-01-01</td>\n",
       "      <td>a004</td>\n",
       "      <td>1</td>\n",
       "    </tr>\n",
       "    <tr>\n",
       "      <th>4</th>\n",
       "      <td>2021-01-01</td>\n",
       "      <td>a005</td>\n",
       "      <td>3</td>\n",
       "    </tr>\n",
       "    <tr>\n",
       "      <th>5</th>\n",
       "      <td>2021-01-01</td>\n",
       "      <td>a006</td>\n",
       "      <td>3</td>\n",
       "    </tr>\n",
       "    <tr>\n",
       "      <th>6</th>\n",
       "      <td>2021-01-01</td>\n",
       "      <td>a007</td>\n",
       "      <td>1</td>\n",
       "    </tr>\n",
       "  </tbody>\n",
       "</table>\n",
       "</div>"
      ],
      "text/plain": [
       "       UDATE PARTS  CYC\n",
       "0 2021-01-01  a001    1\n",
       "1 2021-01-01  a002    2\n",
       "2 2021-01-01  a003    2\n",
       "3 2021-01-01  a004    1\n",
       "4 2021-01-01  a005    3\n",
       "5 2021-01-01  a006    3\n",
       "6 2021-01-01  a007    1"
      ]
     },
     "metadata": {},
     "output_type": "display_data"
    }
   ],
   "source": [
    "import openpyxl\n",
    "\n",
    "folder_read = Path(r\"\\\\10.110.0.44\\everyone\\m03\")\n",
    "files = list(folder_read.glob(\"*\"))\n",
    "print(files)\n",
    "\n",
    "# これは試しで出力してみただけです\n",
    "file = files[0]\n",
    "df = pd.read_excel(file, skiprows=1)\n",
    "df = df[['UDATE', 'PARTS', 'CYC']]\n",
    "df = df.dropna()\n",
    "display(df)"
   ]
  },
  {
   "cell_type": "markdown",
   "id": "8bf27279-921c-47a8-876d-9ff34bdb581a",
   "metadata": {},
   "source": [
    "## 複数のシートを読み込みたい場合は、for文で回してPandasでDFに読み取る"
   ]
  },
  {
   "cell_type": "code",
   "execution_count": 5,
   "id": "8365a75e-7b23-4340-aedb-dd769c7d005e",
   "metadata": {},
   "outputs": [
    {
     "data": {
      "text/plain": [
       "['0101', '0201', '0301']"
      ]
     },
     "execution_count": 5,
     "metadata": {},
     "output_type": "execute_result"
    }
   ],
   "source": [
    "# pd.read_excelにはワークシートの一覧を出力するような機能がないので、openpyxlの関数を使う\n",
    "\n",
    "wb = openpyxl.load_workbook(file)\n",
    "wb.sheetnames"
   ]
  },
  {
   "cell_type": "code",
   "execution_count": 6,
   "id": "143a96da-45a2-4d84-8d73-6b5d848e5990",
   "metadata": {},
   "outputs": [
    {
     "data": {
      "text/plain": [
       "WindowsPath('//10.110.0.44/everyone/m03/220301_a社.xlsx')"
      ]
     },
     "execution_count": 6,
     "metadata": {},
     "output_type": "execute_result"
    }
   ],
   "source": [
    "file"
   ]
  },
  {
   "cell_type": "code",
   "execution_count": 7,
   "id": "bd8af9be-aad0-4362-8323-3f1c60e99e72",
   "metadata": {},
   "outputs": [
    {
     "data": {
      "text/plain": [
       "WindowsPath('//10.110.0.44/everyone/m03/220301_a社.xlsx')"
      ]
     },
     "metadata": {},
     "output_type": "display_data"
    },
    {
     "data": {
      "text/html": [
       "<div>\n",
       "<style scoped>\n",
       "    .dataframe tbody tr th:only-of-type {\n",
       "        vertical-align: middle;\n",
       "    }\n",
       "\n",
       "    .dataframe tbody tr th {\n",
       "        vertical-align: top;\n",
       "    }\n",
       "\n",
       "    .dataframe thead th {\n",
       "        text-align: right;\n",
       "    }\n",
       "</style>\n",
       "<table border=\"1\" class=\"dataframe\">\n",
       "  <thead>\n",
       "    <tr style=\"text-align: right;\">\n",
       "      <th></th>\n",
       "      <th>UDATE</th>\n",
       "      <th>PARTS</th>\n",
       "      <th>CYC</th>\n",
       "    </tr>\n",
       "  </thead>\n",
       "  <tbody>\n",
       "    <tr>\n",
       "      <th>0</th>\n",
       "      <td>2021-01-01</td>\n",
       "      <td>a001</td>\n",
       "      <td>1</td>\n",
       "    </tr>\n",
       "    <tr>\n",
       "      <th>1</th>\n",
       "      <td>2021-01-01</td>\n",
       "      <td>a002</td>\n",
       "      <td>2</td>\n",
       "    </tr>\n",
       "    <tr>\n",
       "      <th>2</th>\n",
       "      <td>2021-01-01</td>\n",
       "      <td>a003</td>\n",
       "      <td>2</td>\n",
       "    </tr>\n",
       "    <tr>\n",
       "      <th>3</th>\n",
       "      <td>2021-01-01</td>\n",
       "      <td>a004</td>\n",
       "      <td>1</td>\n",
       "    </tr>\n",
       "    <tr>\n",
       "      <th>4</th>\n",
       "      <td>2021-01-01</td>\n",
       "      <td>a005</td>\n",
       "      <td>3</td>\n",
       "    </tr>\n",
       "    <tr>\n",
       "      <th>5</th>\n",
       "      <td>2021-01-01</td>\n",
       "      <td>a006</td>\n",
       "      <td>3</td>\n",
       "    </tr>\n",
       "    <tr>\n",
       "      <th>6</th>\n",
       "      <td>2021-01-01</td>\n",
       "      <td>a007</td>\n",
       "      <td>1</td>\n",
       "    </tr>\n",
       "  </tbody>\n",
       "</table>\n",
       "</div>"
      ],
      "text/plain": [
       "       UDATE PARTS  CYC\n",
       "0 2021-01-01  a001    1\n",
       "1 2021-01-01  a002    2\n",
       "2 2021-01-01  a003    2\n",
       "3 2021-01-01  a004    1\n",
       "4 2021-01-01  a005    3\n",
       "5 2021-01-01  a006    3\n",
       "6 2021-01-01  a007    1"
      ]
     },
     "metadata": {},
     "output_type": "display_data"
    },
    {
     "data": {
      "text/plain": [
       "WindowsPath('//10.110.0.44/everyone/m03/220301_a社.xlsx')"
      ]
     },
     "metadata": {},
     "output_type": "display_data"
    },
    {
     "data": {
      "text/html": [
       "<div>\n",
       "<style scoped>\n",
       "    .dataframe tbody tr th:only-of-type {\n",
       "        vertical-align: middle;\n",
       "    }\n",
       "\n",
       "    .dataframe tbody tr th {\n",
       "        vertical-align: top;\n",
       "    }\n",
       "\n",
       "    .dataframe thead th {\n",
       "        text-align: right;\n",
       "    }\n",
       "</style>\n",
       "<table border=\"1\" class=\"dataframe\">\n",
       "  <thead>\n",
       "    <tr style=\"text-align: right;\">\n",
       "      <th></th>\n",
       "      <th>UDATE</th>\n",
       "      <th>PARTS</th>\n",
       "      <th>CYC</th>\n",
       "    </tr>\n",
       "  </thead>\n",
       "  <tbody>\n",
       "    <tr>\n",
       "      <th>0</th>\n",
       "      <td>2021-02-01</td>\n",
       "      <td>a001</td>\n",
       "      <td>2</td>\n",
       "    </tr>\n",
       "    <tr>\n",
       "      <th>1</th>\n",
       "      <td>2021-02-01</td>\n",
       "      <td>a002</td>\n",
       "      <td>3</td>\n",
       "    </tr>\n",
       "    <tr>\n",
       "      <th>2</th>\n",
       "      <td>2021-02-01</td>\n",
       "      <td>a003</td>\n",
       "      <td>3</td>\n",
       "    </tr>\n",
       "    <tr>\n",
       "      <th>3</th>\n",
       "      <td>2021-02-01</td>\n",
       "      <td>a004</td>\n",
       "      <td>2</td>\n",
       "    </tr>\n",
       "  </tbody>\n",
       "</table>\n",
       "</div>"
      ],
      "text/plain": [
       "       UDATE PARTS  CYC\n",
       "0 2021-02-01  a001    2\n",
       "1 2021-02-01  a002    3\n",
       "2 2021-02-01  a003    3\n",
       "3 2021-02-01  a004    2"
      ]
     },
     "metadata": {},
     "output_type": "display_data"
    },
    {
     "data": {
      "text/plain": [
       "WindowsPath('//10.110.0.44/everyone/m03/220301_a社.xlsx')"
      ]
     },
     "metadata": {},
     "output_type": "display_data"
    },
    {
     "data": {
      "text/html": [
       "<div>\n",
       "<style scoped>\n",
       "    .dataframe tbody tr th:only-of-type {\n",
       "        vertical-align: middle;\n",
       "    }\n",
       "\n",
       "    .dataframe tbody tr th {\n",
       "        vertical-align: top;\n",
       "    }\n",
       "\n",
       "    .dataframe thead th {\n",
       "        text-align: right;\n",
       "    }\n",
       "</style>\n",
       "<table border=\"1\" class=\"dataframe\">\n",
       "  <thead>\n",
       "    <tr style=\"text-align: right;\">\n",
       "      <th></th>\n",
       "      <th>UDATE</th>\n",
       "      <th>PARTS</th>\n",
       "      <th>CYC</th>\n",
       "    </tr>\n",
       "  </thead>\n",
       "  <tbody>\n",
       "    <tr>\n",
       "      <th>0</th>\n",
       "      <td>2021-03-01</td>\n",
       "      <td>a001</td>\n",
       "      <td>3.0</td>\n",
       "    </tr>\n",
       "    <tr>\n",
       "      <th>1</th>\n",
       "      <td>2021-03-01</td>\n",
       "      <td>a007</td>\n",
       "      <td>2.0</td>\n",
       "    </tr>\n",
       "  </tbody>\n",
       "</table>\n",
       "</div>"
      ],
      "text/plain": [
       "       UDATE PARTS  CYC\n",
       "0 2021-03-01  a001  3.0\n",
       "1 2021-03-01  a007  2.0"
      ]
     },
     "metadata": {},
     "output_type": "display_data"
    },
    {
     "data": {
      "text/plain": [
       "'■最終のdf_all'"
      ]
     },
     "metadata": {},
     "output_type": "display_data"
    },
    {
     "data": {
      "text/html": [
       "<div>\n",
       "<style scoped>\n",
       "    .dataframe tbody tr th:only-of-type {\n",
       "        vertical-align: middle;\n",
       "    }\n",
       "\n",
       "    .dataframe tbody tr th {\n",
       "        vertical-align: top;\n",
       "    }\n",
       "\n",
       "    .dataframe thead th {\n",
       "        text-align: right;\n",
       "    }\n",
       "</style>\n",
       "<table border=\"1\" class=\"dataframe\">\n",
       "  <thead>\n",
       "    <tr style=\"text-align: right;\">\n",
       "      <th></th>\n",
       "      <th>UDATE</th>\n",
       "      <th>PARTS</th>\n",
       "      <th>CYC</th>\n",
       "    </tr>\n",
       "  </thead>\n",
       "  <tbody>\n",
       "    <tr>\n",
       "      <th>0</th>\n",
       "      <td>2021-01-01</td>\n",
       "      <td>a001</td>\n",
       "      <td>1.0</td>\n",
       "    </tr>\n",
       "    <tr>\n",
       "      <th>1</th>\n",
       "      <td>2021-01-01</td>\n",
       "      <td>a002</td>\n",
       "      <td>2.0</td>\n",
       "    </tr>\n",
       "    <tr>\n",
       "      <th>2</th>\n",
       "      <td>2021-01-01</td>\n",
       "      <td>a003</td>\n",
       "      <td>2.0</td>\n",
       "    </tr>\n",
       "    <tr>\n",
       "      <th>3</th>\n",
       "      <td>2021-01-01</td>\n",
       "      <td>a004</td>\n",
       "      <td>1.0</td>\n",
       "    </tr>\n",
       "    <tr>\n",
       "      <th>4</th>\n",
       "      <td>2021-01-01</td>\n",
       "      <td>a005</td>\n",
       "      <td>3.0</td>\n",
       "    </tr>\n",
       "    <tr>\n",
       "      <th>5</th>\n",
       "      <td>2021-01-01</td>\n",
       "      <td>a006</td>\n",
       "      <td>3.0</td>\n",
       "    </tr>\n",
       "    <tr>\n",
       "      <th>6</th>\n",
       "      <td>2021-01-01</td>\n",
       "      <td>a007</td>\n",
       "      <td>1.0</td>\n",
       "    </tr>\n",
       "    <tr>\n",
       "      <th>7</th>\n",
       "      <td>2021-02-01</td>\n",
       "      <td>a001</td>\n",
       "      <td>2.0</td>\n",
       "    </tr>\n",
       "    <tr>\n",
       "      <th>8</th>\n",
       "      <td>2021-02-01</td>\n",
       "      <td>a002</td>\n",
       "      <td>3.0</td>\n",
       "    </tr>\n",
       "    <tr>\n",
       "      <th>9</th>\n",
       "      <td>2021-02-01</td>\n",
       "      <td>a003</td>\n",
       "      <td>3.0</td>\n",
       "    </tr>\n",
       "    <tr>\n",
       "      <th>10</th>\n",
       "      <td>2021-02-01</td>\n",
       "      <td>a004</td>\n",
       "      <td>2.0</td>\n",
       "    </tr>\n",
       "    <tr>\n",
       "      <th>11</th>\n",
       "      <td>2021-03-01</td>\n",
       "      <td>a001</td>\n",
       "      <td>3.0</td>\n",
       "    </tr>\n",
       "    <tr>\n",
       "      <th>12</th>\n",
       "      <td>2021-03-01</td>\n",
       "      <td>a007</td>\n",
       "      <td>2.0</td>\n",
       "    </tr>\n",
       "  </tbody>\n",
       "</table>\n",
       "</div>"
      ],
      "text/plain": [
       "        UDATE PARTS  CYC\n",
       "0  2021-01-01  a001  1.0\n",
       "1  2021-01-01  a002  2.0\n",
       "2  2021-01-01  a003  2.0\n",
       "3  2021-01-01  a004  1.0\n",
       "4  2021-01-01  a005  3.0\n",
       "5  2021-01-01  a006  3.0\n",
       "6  2021-01-01  a007  1.0\n",
       "7  2021-02-01  a001  2.0\n",
       "8  2021-02-01  a002  3.0\n",
       "9  2021-02-01  a003  3.0\n",
       "10 2021-02-01  a004  2.0\n",
       "11 2021-03-01  a001  3.0\n",
       "12 2021-03-01  a007  2.0"
      ]
     },
     "metadata": {},
     "output_type": "display_data"
    }
   ],
   "source": [
    "list_a = []\n",
    "\n",
    "for sn in wb.sheetnames:\n",
    "    df = pd.read_excel(file, sheet_name=sn, skiprows=1) # pd.read_excelの引数は自分で調べる\n",
    "    df = df[['UDATE', 'PARTS', 'CYC']]\n",
    "    df = df.dropna()\n",
    "    display(file, df)\n",
    "    list_a.append(df)\n",
    "\n",
    "df_all = pd.concat(list_a).reset_index(drop=True)\n",
    "display(\"■最終のdf_all\", df_all)"
   ]
  },
  {
   "cell_type": "markdown",
   "id": "954f6af1-552e-4743-a7a7-335df101a9d7",
   "metadata": {},
   "source": [
    "## 作ったDataFrameをExcelに出力し、セルの書式を変更する"
   ]
  },
  {
   "cell_type": "code",
   "execution_count": 8,
   "id": "dc39f615-64f4-43a9-90ab-72f1e506b404",
   "metadata": {},
   "outputs": [],
   "source": [
    "# 作成したDataFrameをExcelに出力\n",
    "\n",
    "folder_write = Path(r\"./file/Excel\")\n",
    "df_all.to_excel(folder_write/\"220301_a社_all.xlsx\")"
   ]
  },
  {
   "cell_type": "code",
   "execution_count": 9,
   "id": "196fcb6e-f197-499d-ae50-84a998b4dcba",
   "metadata": {},
   "outputs": [
    {
     "name": "stdout",
     "output_type": "stream",
     "text": [
      "file\\Excel\\220301_a社_all.xlsx\n"
     ]
    }
   ],
   "source": [
    "\"\"\"作成したExcelファイル「220301_a社_all.xlsx」を見やすいように編集して上書き保存\"\"\"\n",
    "\n",
    "# 編集日時が最後のファイルを新たにwb_eとして定義する\n",
    "import glob\n",
    "import os\n",
    "\n",
    "list_of_files = list(folder_write.glob(\"*.xlsx\"))\n",
    "latest_file = max(list_of_files, key=os.path.getctime)\n",
    "print(latest_file)\n",
    "\n",
    "wb_edit = openpyxl.load_workbook(latest_file)\n",
    "ws_e = wb_edit.active"
   ]
  },
  {
   "cell_type": "code",
   "execution_count": 10,
   "id": "1765eedd-3db4-4814-92cc-3be4539a47e4",
   "metadata": {},
   "outputs": [],
   "source": [
    "# Excelの体裁を整える\n",
    "from openpyxl.styles import Font\n",
    "from datetime import date\n",
    "\n",
    "ws_e.insert_rows(1) # 1行挿入\n",
    "ws_e.cell(row=1, column=3).value = 'PARTS vs. CYC' # 値の記入\n",
    "ws_e.cell(row=1, column=3).font = Font(size=24) # フォントサイズ設定\n",
    "ws_e.cell(row=1, column=4).value = date.today().strftime(\"%m/%d\") # 値の記入\n",
    "ws_e.cell(row=1, column=4).font = Font(size=20)\n",
    "ws_e.freeze_panes = 'A3' # ウィンドウの固定\n",
    "\n",
    "# ファイルの上書き保存\n",
    "wb_edit.save(latest_file)"
   ]
  },
  {
   "cell_type": "code",
   "execution_count": null,
   "id": "5f0db1d9-e97b-4137-a1ff-ffb819a1b6f7",
   "metadata": {},
   "outputs": [],
   "source": []
  },
  {
   "cell_type": "markdown",
   "id": "941b8dc9-0882-48fc-8be1-0844ee5ac19d",
   "metadata": {},
   "source": [
    "# マニアックな内容\n",
    "## 作ったExcelの名前を、「yymmdd_HHMM_a社_all」で保存"
   ]
  },
  {
   "cell_type": "code",
   "execution_count": 11,
   "id": "a9ff2bd9-5133-4209-9bce-b34730117e85",
   "metadata": {},
   "outputs": [],
   "source": [
    "from datetime import datetime\n",
    "\n",
    "now = datetime.now()\n",
    "df_all.to_excel(folder_write/'{0:%y%m%d_%H%M}_a社_all.xlsx'.format(now))"
   ]
  },
  {
   "cell_type": "code",
   "execution_count": null,
   "id": "ba8e350d-9ef3-4645-9427-a7c2cac4d487",
   "metadata": {},
   "outputs": [],
   "source": []
  },
  {
   "cell_type": "markdown",
   "id": "3c428828-787f-4025-80cf-66e63baf255d",
   "metadata": {
    "tags": []
   },
   "source": [
    "## 220301_a社.xlsxをコピーし、新しいWorksheetを挿入し、df_allを値貼り付け（書式が崩れない）"
   ]
  },
  {
   "cell_type": "code",
   "execution_count": 12,
   "id": "f4651a7a-8c55-4d3e-b85d-5f3f1a3ce973",
   "metadata": {},
   "outputs": [
    {
     "data": {
      "text/plain": [
       "WindowsPath('file/Excel/220301_a社_all.xlsx')"
      ]
     },
     "execution_count": 12,
     "metadata": {},
     "output_type": "execute_result"
    }
   ],
   "source": [
    "# 220301_a社.xlsxをコピーし、220301_a社_all.xlsxという名前で保存\n",
    "file_all = latest_file\n",
    "shutil.copy(file, file_all)\n",
    "\n",
    "file_all"
   ]
  },
  {
   "cell_type": "code",
   "execution_count": 13,
   "id": "acef322e-9fbf-44be-b47a-0e4659156cf8",
   "metadata": {},
   "outputs": [
    {
     "data": {
      "text/plain": [
       "['0101', '0201', '0301', 'All']"
      ]
     },
     "execution_count": 13,
     "metadata": {},
     "output_type": "execute_result"
    }
   ],
   "source": [
    "# 新しく作った220301_a社_all.xlsxをwb_allとして読み込み\n",
    "wb_all = openpyxl.load_workbook(file_all)\n",
    "\n",
    "# シート「0101」をコピーして、名前を「All」に変更\n",
    "# 実際には、「Format」や「原紙」シートを作っておいてコピーしたらよいと思います\n",
    "\n",
    "wb_all.copy_worksheet(wb_all.worksheets[0])\n",
    "wb_all.worksheets[-1].title = 'All' #sheetnamesではなくworksheetsを使う\n",
    "wb_all.sheetnames"
   ]
  },
  {
   "cell_type": "code",
   "execution_count": 14,
   "id": "7e783da0-ec68-43b7-897f-d0fc797a16e8",
   "metadata": {},
   "outputs": [],
   "source": [
    "# シート「All」をws_allとして定義\n",
    "ws_all = wb_all['All']\n",
    "\n",
    "#「All」シートの値全削除\n",
    "for row in ws_all:\n",
    "    for cell in row:\n",
    "        cell.value = None"
   ]
  },
  {
   "cell_type": "code",
   "execution_count": 15,
   "id": "fda83eae-40c0-45f2-b787-65690ddfa88d",
   "metadata": {
    "tags": []
   },
   "outputs": [
    {
     "data": {
      "text/plain": [
       "[['UDATE', 'PARTS', 'CYC'],\n",
       " [Timestamp('2021-01-01 00:00:00'), 'a001', 1.0],\n",
       " [Timestamp('2021-01-01 00:00:00'), 'a002', 2.0],\n",
       " [Timestamp('2021-01-01 00:00:00'), 'a003', 2.0],\n",
       " [Timestamp('2021-01-01 00:00:00'), 'a004', 1.0],\n",
       " [Timestamp('2021-01-01 00:00:00'), 'a005', 3.0],\n",
       " [Timestamp('2021-01-01 00:00:00'), 'a006', 3.0],\n",
       " [Timestamp('2021-01-01 00:00:00'), 'a007', 1.0],\n",
       " [Timestamp('2021-02-01 00:00:00'), 'a001', 2.0],\n",
       " [Timestamp('2021-02-01 00:00:00'), 'a002', 3.0],\n",
       " [Timestamp('2021-02-01 00:00:00'), 'a003', 3.0],\n",
       " [Timestamp('2021-02-01 00:00:00'), 'a004', 2.0],\n",
       " [Timestamp('2021-03-01 00:00:00'), 'a001', 3.0],\n",
       " [Timestamp('2021-03-01 00:00:00'), 'a007', 2.0]]"
      ]
     },
     "execution_count": 15,
     "metadata": {},
     "output_type": "execute_result"
    }
   ],
   "source": [
    "# シート「All」にDataFrameを貼り付けるために、df_allをリスト型に変換\n",
    "# 参考：https://biotech-lab.org/articles/4896\n",
    "\n",
    "import numpy as np\n",
    "\n",
    "values = df_all.to_numpy().tolist()\n",
    "values.insert(0, df_all.columns.to_list())\n",
    "values"
   ]
  },
  {
   "cell_type": "code",
   "execution_count": 16,
   "id": "30db20cc-21bd-4bb9-b0bb-a6b6881f7bb1",
   "metadata": {},
   "outputs": [],
   "source": [
    "# ws_allにFor文でvaluesの値をセルに書き込んでいく\n",
    "# 参考：　https://fastclassinfo.com/entry/python_excel_beginners/#7　→「7. シート内のセルの値を一括読み込み・書き出し」\n",
    "        \n",
    "for y, row in enumerate(values):\n",
    "    for x, cell in enumerate(row):\n",
    "        ws_all.cell(row= y+2, column= x+2, value=values[y][x])"
   ]
  },
  {
   "cell_type": "code",
   "execution_count": 17,
   "id": "4aca5006-5a35-482b-a970-76216a00e69a",
   "metadata": {},
   "outputs": [],
   "source": [
    "# Excelの上書き保存\n",
    "wb_all.save(file_all)"
   ]
  },
  {
   "cell_type": "code",
   "execution_count": null,
   "id": "50e58795-f6e3-443c-a49d-17615f80785b",
   "metadata": {},
   "outputs": [],
   "source": []
  },
  {
   "cell_type": "markdown",
   "id": "a0017a49-56e1-439e-8927-ff8a93d525c8",
   "metadata": {},
   "source": [
    "## openpyxlを使わず、Pandasの機能だけを使ってすべてのシートを読み込む（dictionaryを使う）【完全に遊び】"
   ]
  },
  {
   "cell_type": "code",
   "execution_count": 18,
   "id": "45dc39ae-9989-4fec-8522-35a1f84b9224",
   "metadata": {},
   "outputs": [
    {
     "name": "stdout",
     "output_type": "stream",
     "text": [
      "<class 'dict'>\n",
      "dict_keys(['0101', '0201', '0301'])\n"
     ]
    },
    {
     "data": {
      "text/html": [
       "<div>\n",
       "<style scoped>\n",
       "    .dataframe tbody tr th:only-of-type {\n",
       "        vertical-align: middle;\n",
       "    }\n",
       "\n",
       "    .dataframe tbody tr th {\n",
       "        vertical-align: top;\n",
       "    }\n",
       "\n",
       "    .dataframe thead th {\n",
       "        text-align: right;\n",
       "    }\n",
       "</style>\n",
       "<table border=\"1\" class=\"dataframe\">\n",
       "  <thead>\n",
       "    <tr style=\"text-align: right;\">\n",
       "      <th></th>\n",
       "      <th>UDATE</th>\n",
       "      <th>PARTS</th>\n",
       "      <th>CYC</th>\n",
       "    </tr>\n",
       "  </thead>\n",
       "  <tbody>\n",
       "    <tr>\n",
       "      <th>0</th>\n",
       "      <td>2021-01-01</td>\n",
       "      <td>a001</td>\n",
       "      <td>1</td>\n",
       "    </tr>\n",
       "    <tr>\n",
       "      <th>1</th>\n",
       "      <td>2021-01-01</td>\n",
       "      <td>a002</td>\n",
       "      <td>2</td>\n",
       "    </tr>\n",
       "    <tr>\n",
       "      <th>2</th>\n",
       "      <td>2021-01-01</td>\n",
       "      <td>a003</td>\n",
       "      <td>2</td>\n",
       "    </tr>\n",
       "    <tr>\n",
       "      <th>3</th>\n",
       "      <td>2021-01-01</td>\n",
       "      <td>a004</td>\n",
       "      <td>1</td>\n",
       "    </tr>\n",
       "    <tr>\n",
       "      <th>4</th>\n",
       "      <td>2021-01-01</td>\n",
       "      <td>a005</td>\n",
       "      <td>3</td>\n",
       "    </tr>\n",
       "    <tr>\n",
       "      <th>5</th>\n",
       "      <td>2021-01-01</td>\n",
       "      <td>a006</td>\n",
       "      <td>3</td>\n",
       "    </tr>\n",
       "    <tr>\n",
       "      <th>6</th>\n",
       "      <td>2021-01-01</td>\n",
       "      <td>a007</td>\n",
       "      <td>1</td>\n",
       "    </tr>\n",
       "  </tbody>\n",
       "</table>\n",
       "</div>"
      ],
      "text/plain": [
       "       UDATE PARTS  CYC\n",
       "0 2021-01-01  a001    1\n",
       "1 2021-01-01  a002    2\n",
       "2 2021-01-01  a003    2\n",
       "3 2021-01-01  a004    1\n",
       "4 2021-01-01  a005    3\n",
       "5 2021-01-01  a006    3\n",
       "6 2021-01-01  a007    1"
      ]
     },
     "metadata": {},
     "output_type": "display_data"
    },
    {
     "data": {
      "text/html": [
       "<div>\n",
       "<style scoped>\n",
       "    .dataframe tbody tr th:only-of-type {\n",
       "        vertical-align: middle;\n",
       "    }\n",
       "\n",
       "    .dataframe tbody tr th {\n",
       "        vertical-align: top;\n",
       "    }\n",
       "\n",
       "    .dataframe thead th {\n",
       "        text-align: right;\n",
       "    }\n",
       "</style>\n",
       "<table border=\"1\" class=\"dataframe\">\n",
       "  <thead>\n",
       "    <tr style=\"text-align: right;\">\n",
       "      <th></th>\n",
       "      <th>UDATE</th>\n",
       "      <th>PARTS</th>\n",
       "      <th>CYC</th>\n",
       "    </tr>\n",
       "  </thead>\n",
       "  <tbody>\n",
       "    <tr>\n",
       "      <th>0</th>\n",
       "      <td>2021-02-01</td>\n",
       "      <td>a001</td>\n",
       "      <td>2</td>\n",
       "    </tr>\n",
       "    <tr>\n",
       "      <th>1</th>\n",
       "      <td>2021-02-01</td>\n",
       "      <td>a002</td>\n",
       "      <td>3</td>\n",
       "    </tr>\n",
       "    <tr>\n",
       "      <th>2</th>\n",
       "      <td>2021-02-01</td>\n",
       "      <td>a003</td>\n",
       "      <td>3</td>\n",
       "    </tr>\n",
       "    <tr>\n",
       "      <th>3</th>\n",
       "      <td>2021-02-01</td>\n",
       "      <td>a004</td>\n",
       "      <td>2</td>\n",
       "    </tr>\n",
       "  </tbody>\n",
       "</table>\n",
       "</div>"
      ],
      "text/plain": [
       "       UDATE PARTS  CYC\n",
       "0 2021-02-01  a001    2\n",
       "1 2021-02-01  a002    3\n",
       "2 2021-02-01  a003    3\n",
       "3 2021-02-01  a004    2"
      ]
     },
     "metadata": {},
     "output_type": "display_data"
    },
    {
     "data": {
      "text/html": [
       "<div>\n",
       "<style scoped>\n",
       "    .dataframe tbody tr th:only-of-type {\n",
       "        vertical-align: middle;\n",
       "    }\n",
       "\n",
       "    .dataframe tbody tr th {\n",
       "        vertical-align: top;\n",
       "    }\n",
       "\n",
       "    .dataframe thead th {\n",
       "        text-align: right;\n",
       "    }\n",
       "</style>\n",
       "<table border=\"1\" class=\"dataframe\">\n",
       "  <thead>\n",
       "    <tr style=\"text-align: right;\">\n",
       "      <th></th>\n",
       "      <th>UDATE</th>\n",
       "      <th>PARTS</th>\n",
       "      <th>CYC</th>\n",
       "    </tr>\n",
       "  </thead>\n",
       "  <tbody>\n",
       "    <tr>\n",
       "      <th>0</th>\n",
       "      <td>2021-03-01</td>\n",
       "      <td>a001</td>\n",
       "      <td>3.0</td>\n",
       "    </tr>\n",
       "    <tr>\n",
       "      <th>1</th>\n",
       "      <td>2021-03-01</td>\n",
       "      <td>a007</td>\n",
       "      <td>2.0</td>\n",
       "    </tr>\n",
       "  </tbody>\n",
       "</table>\n",
       "</div>"
      ],
      "text/plain": [
       "       UDATE PARTS  CYC\n",
       "0 2021-03-01  a001  3.0\n",
       "1 2021-03-01  a007  2.0"
      ]
     },
     "metadata": {},
     "output_type": "display_data"
    }
   ],
   "source": [
    "import pandas as pd\n",
    "\n",
    "df_sheet_all = pd.read_excel(file, sheet_name=None, skiprows=1)\n",
    "print(type(df_sheet_all))\n",
    "print(df_sheet_all.keys())\n",
    "\n",
    "for key in df_sheet_all.keys():\n",
    "    df = pd.read_excel(file, sheet_name=key, skiprows=1)\n",
    "    df = df[['UDATE', 'PARTS', 'CYC']]\n",
    "    df = df.dropna()\n",
    "    display(df)"
   ]
  },
  {
   "cell_type": "code",
   "execution_count": null,
   "id": "f46281a0-358e-4c04-8721-952dd9a2873a",
   "metadata": {},
   "outputs": [],
   "source": []
  }
 ],
 "metadata": {
  "kernelspec": {
   "display_name": "Python 3 (ipykernel)",
   "language": "python",
   "name": "python3"
  },
  "language_info": {
   "codemirror_mode": {
    "name": "ipython",
    "version": 3
   },
   "file_extension": ".py",
   "mimetype": "text/x-python",
   "name": "python",
   "nbconvert_exporter": "python",
   "pygments_lexer": "ipython3",
   "version": "3.9.7"
  }
 },
 "nbformat": 4,
 "nbformat_minor": 5
}
