{
 "cells": [
  {
   "cell_type": "code",
   "execution_count": null,
   "metadata": {},
   "outputs": [],
   "source": [
    "\"\"\"\"\"\n",
    "UPDATE IOT_DATA.THRESHOLD_ALERT\n",
    "SET INPUT_DT = NULL, INPUT_PERSON = NULL, INPUT_COMMENT = NULL\n",
    "WHERE INPUT_PERSON = 'Murodil';\n",
    "\n",
    "\"\"\"\"\""
   ]
  },
  {
   "cell_type": "code",
   "execution_count": null,
   "metadata": {},
   "outputs": [],
   "source": [
    "\"\"\"\n",
    "CREATE TABLE IOT_Data.threshold_alert (\n",
    "    CATEGORY VARCHAR(20) NOT NULL,\n",
    "    EQP VARCHAR(20) NOT NULL,\n",
    "    TS_DT TIMESTAMP NOT NULL,\n",
    "    DATA_COLUMN VARCHAR(20) NOT NULL,\n",
    "    STATE DECIMAL(1) NOT NULL,\n",
    "    DATA_VALUE DECIMAL(15, 6) NOT NULL,\n",
    "    THRESHOLD_TYPE DECIMAL(1),\n",
    "    THRESHOLD_VALUE DECIMAL(15, 6),\n",
    "    INPUT_DT TIMESTAMP,\n",
    "    INPUT_PERSON VARCHAR(20),\n",
    "    INPUT_COMMENT VARCHAR(1000),\n",
    "    PRIMARY KEY (CATEGORY, EQP, TS_DT, DATA_COLUMN)\n",
    ")\n",
    "\"\"\""
   ]
  },
  {
   "cell_type": "code",
   "execution_count": null,
   "metadata": {},
   "outputs": [],
   "source": [
    "\"\"\"\"\"  \n",
    "MERGE INTO Tabel_Name AS target\n",
    "USING (SELECT ? AS LOCATION, ? AS TS_DT, ? AS VALUE_1_0, ? AS VALUE_3_0, ? AS VALUE_5_0, ? AS VALUE_10_0, ? AS VALUE_15_0, ? AS VALUE_20_0, ? AS VALUE_25_0, ? AS VALUE_50_0 FROM SYSIBM.SYSDUMMY1) AS source\n",
    "ON target.LOCATION = source.LOCATION\n",
    "WHEN MATCHED THEN\n",
    "    UPDATE SET target.TS_DT = source.TS_DT, \n",
    "                target.VALUE_1_0 = source.VALUE_1_0, \n",
    "                target.VALUE_3_0 = source.VALUE_3_0, \n",
    "                target.VALUE_5_0 = source.VALUE_5_0, \n",
    "                target.VALUE_10_0 = source.VALUE_10_0, \n",
    "                target.VALUE_15_0 = source.VALUE_15_0, \n",
    "                target.VALUE_20_0 = source.VALUE_20_0, \n",
    "                target.VALUE_25_0 = source.VALUE_25_0, \n",
    "                target.VALUE_50_0 = source.VALUE_50_0\n",
    "WHEN NOT MATCHED THEN\n",
    "    INSERT (LOCATION, TS_DT, VALUE_1_0, VALUE_3_0, VALUE_5_0, VALUE_10_0, VALUE_15_0, VALUE_20_0, VALUE_25_0, VALUE_50_0)\n",
    "    VALUES (source.LOCATION, source.TS_DT, source.VALUE_1_0, source.VALUE_3_0, source.VALUE_5_0, source.VALUE_10_0, source.VALUE_15_0, source.VALUE_20_0, source.VALUE_25_0, source.VALUE_50_0);\n",
    "\"\"\"\"\""
   ]
  },
  {
   "cell_type": "code",
   "execution_count": null,
   "metadata": {},
   "outputs": [],
   "source": [
    "\"\"\"\n",
    "CASE \n",
    "WHEN LOCATION = 'RP01' THEN 'RP01_MSAPシード剥離' \n",
    "WHEN LOCATION = 'RP02' THEN 'RP02_CZ' \n",
    "WHEN LOCATION = 'RP03' THEN 'RP03_SAPシード剥離'  \n",
    "WHEN LOCATION = 'RP04' THEN 'RP04_アルカリ酸洗浄'  \n",
    "WHEN LOCATION = 'RP05' THEN 'RP05_現像'  \n",
    "WHEN LOCATION = 'RP06' THEN 'RP06_無電解銅めっき'  \n",
    "WHEN LOCATION = 'RP07' THEN 'RP07_ビア底洗浄'  \n",
    "WHEN LOCATION = 'RP08' THEN 'RP08_ビルドPTNめっき#1' \n",
    "WHEN LOCATION = 'RP09' THEN 'RP09_ビルドPTNめっき#2'  \n",
    "WHEN LOCATION = 'RP10' THEN 'RP10_コアPTNめっき#1'  \n",
    "WHEN LOCATION = 'RP11' THEN 'RP11_コアPTNめっき#2'    \n",
    "WHEN LOCATION = 'RP12' THEN 'RP12_水平無電解'     \n",
    "WHEN LOCATION = 'RP13' THEN 'RP13_水平デスミア' \n",
    "END\n",
    "\n",
    "\"\"\""
   ]
  },
  {
   "cell_type": "code",
   "execution_count": null,
   "metadata": {},
   "outputs": [],
   "source": [
    "\"\"\"\n",
    "SELECT \n",
    "    name,\n",
    "    salary,\n",
    "    CASE \n",
    "        WHEN salary >= 10000 THEN 'High Salary'\n",
    "        WHEN salary >= 5000 AND salary < 10000 THEN 'Medium Salary'\n",
    "        ELSE 'Low Salary'\n",
    "    END AS salary_category\n",
    "FROM employees;\n",
    "\n",
    "\"\"\""
   ]
  },
  {
   "cell_type": "code",
   "execution_count": null,
   "metadata": {},
   "outputs": [],
   "source": [
    "\"\"\"\n",
    "SELECT * FROM products\n",
    "WHERE id IN (1, 2, 3);\n",
    "\"\"\""
   ]
  },
  {
   "cell_type": "code",
   "execution_count": null,
   "metadata": {},
   "outputs": [],
   "source": [
    "\"\"\"\n",
    "SELECT * FROM orders\n",
    "WHERE id IN (SELECT id FROM customers WHERE country = 'USA');\n",
    "\"\"\""
   ]
  },
  {
   "cell_type": "code",
   "execution_count": null,
   "metadata": {},
   "outputs": [],
   "source": [
    "\"\"\"\n",
    "DECLARE @productList NVARCHAR(MAX);\n",
    "SET @productList = '1, 2, 3';\n",
    "\n",
    "SELECT * FROM products\n",
    "WHERE category_id IN (SELECT value FROM STRING_SPLIT(@productList, ','));\n",
    "\"\"\""
   ]
  },
  {
   "cell_type": "code",
   "execution_count": null,
   "metadata": {},
   "outputs": [],
   "source": [
    "\"\"\"\n",
    "SELECT * FROM orders\n",
    "WHERE (customer_id, product_id) IN\n",
    "      (SELECT customer_id, product_id FROM order_details WHERE quantity > 10);\n",
    "\"\"\""
   ]
  },
  {
   "cell_type": "code",
   "execution_count": null,
   "metadata": {},
   "outputs": [],
   "source": [
    "\"\"\"\n",
    "SELECT *\n",
    "FROM products p\n",
    "JOIN categories c ON p.category_id = c.category_id\n",
    "WHERE c.category_name IN ('Electronics', 'Clothing');\n",
    "\"\"\""
   ]
  },
  {
   "cell_type": "code",
   "execution_count": null,
   "metadata": {},
   "outputs": [],
   "source": [
    "\"\"\"\n",
    "SELECT * FROM employees\n",
    "WHERE department_id = 5\n",
    "AND employee_id IN (SELECT manager_id FROM departments WHERE department_name = 'Sales');\n",
    "\"\"\"\n"
   ]
  },
  {
   "cell_type": "code",
   "execution_count": null,
   "metadata": {},
   "outputs": [],
   "source": [
    "\"\"\"\n",
    "SELECT column1, column2, SUM(column3) AS total_sales\n",
    "FROM sales_data\n",
    "WHERE date BETWEEN '2024-01-01' AND '2024-03-31'\n",
    "GROUP BY column1, column2\n",
    "HAVING total_sales > 10000\n",
    "ORDER BY total_sales DESC;\n",
    "\n",
    "\"\"\""
   ]
  },
  {
   "cell_type": "code",
   "execution_count": null,
   "metadata": {},
   "outputs": [],
   "source": [
    "\"\"\"\"\"\n",
    "SELECT *\n",
    "FROM CONDUCTIVITY\n",
    "WHERE DATE_TIME >= (TIMESTAMP '2024-02-01' - INTERVAL '10' MINUTE);\n",
    "\n",
    "\"\"\""
   ]
  },
  {
   "cell_type": "code",
   "execution_count": null,
   "metadata": {},
   "outputs": [],
   "source": [
    "\"SELECT column1, column2 FROM Table_Name WHERE condition;\""
   ]
  },
  {
   "cell_type": "code",
   "execution_count": null,
   "metadata": {},
   "outputs": [],
   "source": [
    "\"INSERT INTO Table_Name (column1, column2) VALUES (value1, value2);\""
   ]
  },
  {
   "cell_type": "code",
   "execution_count": null,
   "metadata": {},
   "outputs": [],
   "source": [
    "\"UPDATE Table_Name SET column1 = value1, column2 = value2 WHERE condition;\""
   ]
  },
  {
   "cell_type": "code",
   "execution_count": null,
   "metadata": {},
   "outputs": [],
   "source": [
    "\"DELETE FROM Table_Name WHERE condition;\""
   ]
  },
  {
   "cell_type": "code",
   "execution_count": null,
   "metadata": {},
   "outputs": [],
   "source": [
    "\"ALTER TABLE Table_Name ADD column_name datatype;\""
   ]
  },
  {
   "cell_type": "code",
   "execution_count": null,
   "metadata": {},
   "outputs": [],
   "source": [
    "\"ALTER TABLE table_name MODIFY column_name datatype;\""
   ]
  },
  {
   "cell_type": "code",
   "execution_count": null,
   "metadata": {},
   "outputs": [],
   "source": [
    "\"ALTER TABLE table_name DROP COLUMN column_name;\""
   ]
  },
  {
   "cell_type": "code",
   "execution_count": null,
   "metadata": {},
   "outputs": [],
   "source": [
    "\"DROP TABLE Table_Name;\""
   ]
  },
  {
   "cell_type": "code",
   "execution_count": null,
   "metadata": {},
   "outputs": [],
   "source": [
    "\"CREATE INDEX index_name ON table_name (column1, column2, ...);\""
   ]
  },
  {
   "cell_type": "code",
   "execution_count": null,
   "metadata": {},
   "outputs": [],
   "source": [
    "\"SELECT * FROM table1 INNER JOIN table2 ON table1.column = table2.column;\""
   ]
  },
  {
   "cell_type": "code",
   "execution_count": null,
   "metadata": {},
   "outputs": [],
   "source": [
    "sql = f\"UPDATE IOT_DATA.THRESHOLD_ALERT SET INPUT_DT='{input_dt}', INPUT_PERSON='{INPUT_PERSON}', INPUT_COMMENT='{INPUT_COMMENT}' WHERE CATEGORY='{CATEGORY}' AND EQP='{EQP}' AND TS_DT='{ts_dt}' AND DATA_COLUMN='{DATA_COLUMN}'\""
   ]
  },
  {
   "cell_type": "code",
   "execution_count": null,
   "metadata": {},
   "outputs": [],
   "source": [
    "\"TO_CHAR(DATE_TIME, 'YYYY/MM/DD HH24') || ':' || LEFT(TO_CHAR(DATE_TIME, 'MI'),1) || '0'\""
   ]
  },
  {
   "cell_type": "code",
   "execution_count": null,
   "metadata": {},
   "outputs": [],
   "source": [
    "\"TO_CHAR(DATE_TIME, 'YYYY/MM/DD HH24') || ':' || LEFT(TO_CHAR(DATE_TIME, 'MI'),1) || '0'\""
   ]
  },
  {
   "cell_type": "code",
   "execution_count": null,
   "metadata": {},
   "outputs": [],
   "source": [
    "\"EQP_ID || '_' || UNIT_NUM\""
   ]
  },
  {
   "cell_type": "code",
   "execution_count": null,
   "metadata": {},
   "outputs": [],
   "source": [
    "\"TO_CHAR(TS_DT, 'YYYY/MM/DD HH24') || ':' || LEFT(TO_CHAR(TS_DT, 'MI'),1) || '0'\""
   ]
  },
  {
   "cell_type": "code",
   "execution_count": null,
   "metadata": {},
   "outputs": [],
   "source": [
    "\"項目A||'年'\""
   ]
  },
  {
   "cell_type": "code",
   "execution_count": null,
   "metadata": {},
   "outputs": [],
   "source": [
    "\"項目A||項目B||項目C\""
   ]
  },
  {
   "cell_type": "code",
   "execution_count": null,
   "metadata": {},
   "outputs": [],
   "source": [
    "\"TO_CHAR(TS_DT, 'YYYY/MM/DD HH24') || ':' || LEFT(TO_CHAR(TS_DT, 'MI'),1) || '0'\""
   ]
  },
  {
   "cell_type": "code",
   "execution_count": null,
   "metadata": {},
   "outputs": [],
   "source": [
    "\"WHERE (INPUT_PERSON IS NULL OR INPUT_PERSON = '')\""
   ]
  }
 ],
 "metadata": {
  "language_info": {
   "name": "python"
  }
 },
 "nbformat": 4,
 "nbformat_minor": 2
}
