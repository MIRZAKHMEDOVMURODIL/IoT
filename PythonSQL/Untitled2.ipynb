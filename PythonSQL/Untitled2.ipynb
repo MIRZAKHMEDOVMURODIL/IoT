{
 "cells": [
  {
   "cell_type": "code",
   "execution_count": 2,
   "id": "c21a335a-9567-4fa1-9b97-15735eb2f7b3",
   "metadata": {},
   "outputs": [],
   "source": []
  },
  {
   "cell_type": "code",
   "execution_count": null,
   "id": "7c52720b-bb27-48f6-9b73-1f6c06a7bf5d",
   "metadata": {},
   "outputs": [],
   "source": []
  },
  {
   "cell_type": "code",
   "execution_count": 3,
   "id": "637eaa1b-1342-408c-8755-534cbb1ac4b4",
   "metadata": {},
   "outputs": [
    {
     "name": "stdout",
     "output_type": "stream",
     "text": [
      "1.Extract JSON Configuration Values\n"
     ]
    }
   ],
   "source": [
    "import time\n",
    "import pandas as pd\n",
    "import ibm_db\n",
    "import logging\n",
    "import os\n",
    "import glob\n",
    "import json\n",
    "import datetime as dt \n",
    "import shutil\n",
    "from os.path import join\n",
    "from logging.handlers import RotatingFileHandler\n",
    "import os\n",
    "from datetime import datetime, timedelta\n",
    "\n",
    "\n",
    "\n",
    "# Load Configuration from JSON file\n",
    "json_path = r'C:\\Users\\00220401626\\Desktop\\teams\\config.json'\n",
    "with open(json_path) as json_file:\n",
    "    config = json.load(json_file)\n",
    "    \n",
    "# Extract Configuration values\n",
    "database = config['database']\n",
    "host = config['host']\n",
    "port = config['port']\n",
    "protocol = config['protocol']\n",
    "uid = config['uid']\n",
    "pwd = config['pwd']\n",
    "\n",
    "log = config['log']\n",
    "insertion_time = config['insertion_time']\n",
    "days = int(config['days'])\n",
    "time = str(insertion_time)\n",
    "inserted_time = dt.datetime.strptime(time, '%Y-%m-%d %H:%M:%S')\n",
    "inserted_day = inserted_time.strftime('%Y%m%d')\n",
    "\n",
    "# Logging Settings\n",
    "if not os.path.exists(log):\n",
    "    os.makedirs(log, exist_ok=True)\n",
    "\n",
    "dt_st = datetime.now()\n",
    "log_path = join(log, f\"debug_{dt_st.strftime('%Y%m%d')}.log\")\n",
    "log_formatter = logging.Formatter('%(asctime)s [%(levelname)s]: %(message)s', datefmt='%Y-%m-%d %H:%M:%S')\n",
    "log_handler = RotatingFileHandler(filename=log_path, maxBytes=1048576, backupCount=10, delay=True)\n",
    "log_handler.setFormatter(log_formatter)\n",
    "logger = logging.getLogger()\n",
    "logger.setLevel(logging.DEBUG)\n",
    "logger.addHandler(log_handler)\n",
    "\n",
    "logging.info(\"1.Extract JSON Configuration Values\")\n",
    "print(\"1.Extract JSON Configuration Values\")"
   ]
  },
  {
   "cell_type": "code",
   "execution_count": null,
   "id": "c7928765-17ff-44b7-ba6d-d95ab01a2658",
   "metadata": {},
   "outputs": [],
   "source": [
    "# Delete Log files if created day period passed 30 days                          \n",
    "def delete_old_logs(log, days=30):\n",
    "    period_time = datetime.now() - timedelta(days=days)\n",
    "\n",
    "    for filename in os.listdir(log):\n",
    "        if filename.endswith(\".log\"):\n",
    "            filepath = os.path.join(log, filename)\n",
    "            try:\n",
    "                if os.path.isfile(filepath) and datetime.fromtimestamp(os.path.getctime(filepath)) < period_time:\n",
    "                    os.remove(filepath)\n",
    "                    logging.info(f\"Deleted log file: {filepath}\")\n",
    "                    print(f\"Deleted log file: {filepath}\")\n",
    "            except Exception as e:\n",
    "                print(f\"Error deleting file {filepath}: {e}\")\n",
    "                logging.info(f\"Error deleting file {filepath}: {e}\")\n",
    "\n",
    "# Running ALl Functions in Order\n",
    "start_time = datetime.now()   \n",
    "\n",
    "copy_local()\n",
    "conn = connect_db()\n",
    "latest_data(local_csv)\n",
    "all_data(local_csv)\n",
    "backup_and_delete_csv_files(local_csv, nas)\n",
    "delete_old_logs(log)\n",
    "\n",
    "end_time = datetime.now()\n",
    "elapsed_time = end_time - start_time\n",
    "total_seconds = elapsed_time.total_seconds()\n",
    "minutes = int(total_seconds // 60)\n",
    "seconds = int(total_seconds % 60)\n",
    "\n",
    "logging.info(f\"Time spent: {minutes} minutes and {seconds} seconds\")\n",
    "print(f\"Time spent: {minutes} minutes and {seconds} seconds\")"
   ]
  }
 ],
 "metadata": {
  "kernelspec": {
   "display_name": "Python 3 (ipykernel)",
   "language": "python",
   "name": "python3"
  },
  "language_info": {
   "codemirror_mode": {
    "name": "ipython",
    "version": 3
   },
   "file_extension": ".py",
   "mimetype": "text/x-python",
   "name": "python",
   "nbconvert_exporter": "python",
   "pygments_lexer": "ipython3",
   "version": "3.10.1"
  }
 },
 "nbformat": 4,
 "nbformat_minor": 5
}
